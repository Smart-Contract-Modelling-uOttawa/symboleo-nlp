{
 "cells": [
  {
   "cell_type": "code",
   "execution_count": null,
   "metadata": {},
   "outputs": [],
   "source": [
    "# Get the template\n",
    "from app.src.template_getter import get_template\n",
    "contract = get_template('meat_sale')\n",
    "\n",
    "print(contract.to_sym())"
   ]
  },
  {
   "cell_type": "code",
   "execution_count": null,
   "metadata": {},
   "outputs": [],
   "source": [
    "obs = contract.template_strings['obligations']\n",
    "pows = contract.template_strings['powers']\n",
    "\n",
    "print('== OBLIGATIONS ==')\n",
    "for x in obs:\n",
    "    print(f'- {x}: {obs[x]}\\n')\n",
    "\n",
    "print('== POWERS ==')\n",
    "for x in pows:\n",
    "    print(f'- {x}: {pows[x]}\\n')"
   ]
  },
  {
   "cell_type": "code",
   "execution_count": null,
   "metadata": {},
   "outputs": [],
   "source": [
    "# Select the parameter\n",
    "from app.templates.template_classes import ContractSpecParameter\n",
    "from app.templates.meat_sale.nl_template import parameters\n",
    "\n",
    "pki_dict = {i+1: pk for i,pk in enumerate(parameters)}\n",
    "\n",
    "for pki in pki_dict:\n",
    "    print(f'{pki} - {pki_dict[pki]}')\n",
    "\n",
    "selected_pki = input('Select a parameter: ')\n",
    "selected_pk = pki_dict[int(selected_pki)]\n",
    "selected_parm = parameters[selected_pk][0]\n",
    "\n",
    "print(f'\\nParameter: {selected_pk}')\n",
    "\n",
    "# The selected parameter will trigger some other things, e.g. which grammar/frameset to use...\n"
   ]
  },
  {
   "cell_type": "code",
   "execution_count": null,
   "metadata": {},
   "outputs": [],
   "source": [
    "from app.src.rules.contract_spec.default_event_getter import DefaultEventGetter\n",
    "\n",
    "# Extract the default event\n",
    "deg = DefaultEventGetter()\n",
    "\n",
    "# Handle the case where there is none...\n",
    "default_event = deg.get(contract.contract_spec, selected_parm.config)\n",
    "\n",
    "print(f'Default Event: {default_event.to_sym()}')\n"
   ]
  },
  {
   "cell_type": "code",
   "execution_count": null,
   "metadata": {},
   "outputs": [],
   "source": [
    "default_event = None"
   ]
  },
  {
   "cell_type": "code",
   "execution_count": null,
   "metadata": {},
   "outputs": [],
   "source": [
    "from app.src.generator.grammar_generator import GrammarGenerator\n",
    "from app.src.generator.generators.conditional_grammar_generator import ConditionalGrammarGenerator\n",
    "\n",
    "# Generate the grammar from the contract template\n",
    "gg = GrammarGenerator()\n",
    "grammar_root = gg.generate(contract)\n",
    "\n",
    "cgg = ConditionalGrammarGenerator()\n",
    "cg_root = cgg.generate(contract)"
   ]
  },
  {
   "cell_type": "code",
   "execution_count": null,
   "metadata": {},
   "outputs": [],
   "source": [
    "from app.src.generator.grammar_selector import GrammarSelector\n",
    "from app.src.generator.selection import Selection\n",
    "from app.classes.frames.all_frames import get_pp_frames, get_cond_frames\n",
    "\n",
    "pp_frames = get_pp_frames()\n",
    "cond_frames = get_cond_frames()\n",
    "\n",
    "pp_selection = Selection(pp_frames)\n",
    "cond_selection = Selection(cond_frames)\n",
    "\n",
    "# Run the selection so the user can choose the text\n",
    "gs = GrammarSelector(cond_selection)\n",
    "selection = gs.select(cg_root)"
   ]
  },
  {
   "cell_type": "code",
   "execution_count": null,
   "metadata": {},
   "outputs": [],
   "source": [
    "# Generate the NL text\n",
    "res = selection.try_frames()\n",
    "\n",
    "for x in res:\n",
    "    print(x)"
   ]
  },
  {
   "cell_type": "code",
   "execution_count": null,
   "metadata": {},
   "outputs": [],
   "source": [
    "# Generate the Symboleo\n",
    "result = selection.to_obj(default_event)\n",
    "print(result.to_sym())"
   ]
  },
  {
   "cell_type": "code",
   "execution_count": null,
   "metadata": {},
   "outputs": [],
   "source": [
    "## Need a separate processor for conditional...\n",
    "## The parameter type will designate which processor is used\n",
    "\n"
   ]
  },
  {
   "cell_type": "code",
   "execution_count": null,
   "metadata": {},
   "outputs": [],
   "source": [
    "from app.src.generator.tbpp_processor import TbppProcessor\n",
    "from app.src.rules.contract_spec.norm_proposition_updater import NormPropositionUpdater\n",
    "\n",
    "# Update the contract spec\n",
    "norm_updater = NormPropositionUpdater()\n",
    "proc = TbppProcessor(norm_updater)\n",
    "\n",
    "updated_contract = proc.process(selected_parm.config, contract, result)"
   ]
  },
  {
   "cell_type": "code",
   "execution_count": null,
   "metadata": {},
   "outputs": [],
   "source": [
    "print(updated_contract.to_sym())"
   ]
  },
  {
   "cell_type": "code",
   "execution_count": null,
   "metadata": {},
   "outputs": [],
   "source": []
  }
 ],
 "metadata": {
  "kernelspec": {
   "display_name": "Python 3.9.7 ('sym-env': venv)",
   "language": "python",
   "name": "python3"
  },
  "language_info": {
   "codemirror_mode": {
    "name": "ipython",
    "version": 3
   },
   "file_extension": ".py",
   "mimetype": "text/x-python",
   "name": "python",
   "nbconvert_exporter": "python",
   "pygments_lexer": "ipython3",
   "version": "3.9.7"
  },
  "orig_nbformat": 4,
  "vscode": {
   "interpreter": {
    "hash": "c5aa13c5662b7cd49c2a6a4cb6c712880a857c98a831bc049e568d94e5223a76"
   }
  }
 },
 "nbformat": 4,
 "nbformat_minor": 2
}
