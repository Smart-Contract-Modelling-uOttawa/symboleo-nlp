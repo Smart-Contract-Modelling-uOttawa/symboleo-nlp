{
 "cells": [
  {
   "cell_type": "code",
   "execution_count": null,
   "metadata": {},
   "outputs": [],
   "source": [
    "# Get the template\n",
    "from app.src.template_getter import get_template\n",
    "contract = get_template('meat_sale')\n",
    "\n",
    "print(contract.to_sym())"
   ]
  },
  {
   "cell_type": "code",
   "execution_count": 2,
   "metadata": {},
   "outputs": [],
   "source": [
    "from app.src.generator.grammar_generator import GrammarGenerator\n",
    "\n",
    "# Generate the grammar from the contract template\n",
    "gg = GrammarGenerator()\n",
    "grammar_root = gg.generate(contract)"
   ]
  },
  {
   "cell_type": "code",
   "execution_count": 3,
   "metadata": {},
   "outputs": [
    {
     "name": "stdout",
     "output_type": "stream",
     "text": [
      "\n",
      "Choose an option:\n",
      "- 1 before\n",
      "- 2 within\n",
      "\n",
      "Current text: within\n",
      "\n",
      "\n",
      "Choose an option:\n",
      "- 1 Enter a timespan\n",
      "\n",
      "Current text: within 3 weeks of\n",
      "\n",
      "\n",
      "Choose an option:\n",
      "- 1 Describe an event\n",
      "\n",
      "Current text: within 3 weeks of\n",
      "\n",
      "\n",
      "Choose an option:\n",
      "- 1 Obligation Event\n",
      "- 2 Contract Event\n",
      "- 3 Other event\n",
      "\n",
      "Current text: within 3 weeks of\n",
      "\n",
      "\n",
      "Choose an option:\n",
      "- 1 delivery\n",
      "- 2 payment\n",
      "- 3 latePayment\n",
      "- 4 disclosure1\n",
      "- 5 disclosure2\n",
      "\n",
      "Current text: within 3 weeks of the delivery obligation\n",
      "\n",
      "\n",
      "Choose an option:\n",
      "- 1 suspended\n",
      "- 2 triggered\n",
      "- 3 completed\n",
      "- 4 terminated successfully\n",
      "\n",
      "Current text: within 3 weeks of the delivery obligation is suspended\n",
      "\n"
     ]
    }
   ],
   "source": [
    "from app.src.generator.grammar_selector import GrammarSelector\n",
    "\n",
    "# Run the selection so the user can choose the text\n",
    "gs = GrammarSelector()\n",
    "selection = gs.select(grammar_root)"
   ]
  },
  {
   "cell_type": "code",
   "execution_count": 4,
   "metadata": {},
   "outputs": [
    {
     "name": "stdout",
     "output_type": "stream",
     "text": [
      "within 3 weeks of the delivery obligation is suspended\n"
     ]
    }
   ],
   "source": [
    "# NL Text\n",
    "user_texts = [x.to_user_text() for x in selection]\n",
    "full_user_text = ' '.join([x for x in user_texts if x])\n",
    "print(full_user_text)"
   ]
  },
  {
   "cell_type": "code",
   "execution_count": 5,
   "metadata": {},
   "outputs": [
    {
     "name": "stdout",
     "output_type": "stream",
     "text": [
      "WhappensBefore(test, Date.add(suspended(obligations.delivery), 2, weeks))\n"
     ]
    }
   ],
   "source": [
    "# Symboleo\n",
    "result = selection[0].to_obj()\n",
    "print(result.to_sym())"
   ]
  },
  {
   "cell_type": "code",
   "execution_count": null,
   "metadata": {},
   "outputs": [],
   "source": []
  }
 ],
 "metadata": {
  "kernelspec": {
   "display_name": "Python 3.9.7 ('sym-env': venv)",
   "language": "python",
   "name": "python3"
  },
  "language_info": {
   "codemirror_mode": {
    "name": "ipython",
    "version": 3
   },
   "file_extension": ".py",
   "mimetype": "text/x-python",
   "name": "python",
   "nbconvert_exporter": "python",
   "pygments_lexer": "ipython3",
   "version": "3.9.7"
  },
  "orig_nbformat": 4,
  "vscode": {
   "interpreter": {
    "hash": "c5aa13c5662b7cd49c2a6a4cb6c712880a857c98a831bc049e568d94e5223a76"
   }
  }
 },
 "nbformat": 4,
 "nbformat_minor": 2
}
