{
 "cells": [
  {
   "cell_type": "markdown",
   "metadata": {},
   "source": [
    "## Identifiers"
   ]
  },
  {
   "cell_type": "code",
   "execution_count": null,
   "metadata": {},
   "outputs": [],
   "source": [
    "import pickle\n",
    "import sys\n",
    "import spacy\n",
    "from spacy import displacy\n",
    "import benepar"
   ]
  },
  {
   "cell_type": "code",
   "execution_count": null,
   "metadata": {},
   "outputs": [],
   "source": [
    "# Set up and store NLP\n",
    "nlp = spacy.load(\"en_core_web_md\")\n",
    "benepar.download('benepar_en3')\n",
    "nlp.add_pipe('benepar', config={'model': 'benepar_en3'})\n",
    "\n",
    "with open('./nlp/nlp.pickle', 'wb') as f:\n",
    "    pickle.dump(nlp, f)"
   ]
  },
  {
   "cell_type": "code",
   "execution_count": null,
   "metadata": {},
   "outputs": [],
   "source": [
    "# Load NLP\n",
    "#sys.path.append('../')\n",
    "\n",
    "with open('./nlp/nlp.pickle', 'rb') as f:\n",
    "    nlp = pickle.load(f)"
   ]
  },
  {
   "cell_type": "code",
   "execution_count": null,
   "metadata": {},
   "outputs": [],
   "source": [
    "from app.classes.spec.primitive import *\n",
    "\n",
    "from app.src.sentence_summarizer import SentenceSummarizer\n",
    "\n",
    "summarizer = SentenceSummarizer(nlp)"
   ]
  },
  {
   "cell_type": "markdown",
   "metadata": {},
   "source": [
    "### Testing it out"
   ]
  },
  {
   "cell_type": "code",
   "execution_count": null,
   "metadata": {},
   "outputs": [],
   "source": [
    "from app.src.primitive_identifiers.dict_set_builder import DictSetBuilder\n",
    "\n",
    "\n",
    "all_dicts = DictSetBuilder.build_all()"
   ]
  },
  {
   "cell_type": "code",
   "execution_count": null,
   "metadata": {},
   "outputs": [],
   "source": [
    "from app.src.primitive_extractor import PrimitiveExtractor\n",
    "from app.src.primitive_identifiers.obligation_event_identifier import ObligationEventIdentifier\n",
    "from app.src.primitive_identifiers.power_event_identifier import PowerEventIdentifier\n",
    "from app.src.primitive_identifiers.contract_event_identifier import ContractEventIdentifier\n",
    "from app.src.primitive_identifiers.obligation_state_identifier import ObligationStateIdentifier\n",
    "from app.src.primitive_identifiers.power_state_identifier import PowerStateIdentifier\n",
    "from app.src.primitive_identifiers.contract_state_identifier import ContractStateIdentifier\n",
    "from app.src.primitive_identifiers.event_scorer import EventScorer\n",
    "from app.src.primitive_identifiers.primitive_identifier import IIdentifyPrimitives\n",
    "from app.src.primitive_identifiers.state_name_scorer import StateNameScorer\n",
    "from app.src.primitive_identifiers.variable_scorer import VariableScorer\n",
    "from app.src.primitive_identifiers.similarity_calculator import SentenceSimilarityCalculator\n",
    "from app.src.primitive_identifiers.sentence_preprocessor import SentencePreprocessor\n",
    "from app.templates.meat_sale.templates import meat_sale_templates\n",
    "\n",
    "preprocessor = SentencePreprocessor(nlp)\n",
    "similarity_calculator = SentenceSimilarityCalculator(preprocessor)\n",
    "\n",
    "# ObligationEvent\n",
    "ob_event_scorer = EventScorer(all_dicts['obligation_events'])\n",
    "obligation_sent_dict = meat_sale_templates['obligations']\n",
    "ob_var_scorer = VariableScorer(nlp, obligation_sent_dict, similarity_calculator)\n",
    "oe_identifier = ObligationEventIdentifier(ob_event_scorer, ob_var_scorer)\n",
    "\n",
    "# PowerEvent\n",
    "power_event_scorer = EventScorer(all_dicts['power_events'])\n",
    "power_sent_dict = meat_sale_templates['powers']\n",
    "power_var_scorer = VariableScorer(nlp, power_sent_dict, similarity_calculator)\n",
    "pe_identifier = PowerEventIdentifier(power_event_scorer, power_var_scorer)\n",
    "\n",
    "# ContractEvent\n",
    "c_event_scorer = EventScorer(all_dicts['contract_events'])\n",
    "ce_identifier = ContractEventIdentifier(c_event_scorer)\n",
    "\n",
    "# ObligationState\n",
    "ob_state_scorer = StateNameScorer(all_dicts['obligation_states'])\n",
    "ob_var_scorer = VariableScorer(nlp, obligation_sent_dict, similarity_calculator)\n",
    "os_identifier = ObligationStateIdentifier(ob_state_scorer, ob_var_scorer)\n",
    "\n",
    "# PowerState\n",
    "power_state_scorer = StateNameScorer(all_dicts['power_states'])\n",
    "power_var_scorer = VariableScorer(nlp, power_sent_dict, similarity_calculator)\n",
    "ps_identifier = PowerStateIdentifier(power_state_scorer, power_var_scorer)\n",
    "\n",
    "# ContractState\n",
    "c_state_scorer = StateNameScorer(all_dicts['contract_states'])\n",
    "cs_identifier = ContractStateIdentifier(c_event_scorer)\n",
    "\n",
    "ident_list: list[IIdentifyPrimitives] = [\n",
    "    oe_identifier,\n",
    "    pe_identifier,\n",
    "    ce_identifier,\n",
    "    os_identifier,\n",
    "    ps_identifier,\n",
    "    cs_identifier\n",
    "]\n",
    "\n",
    "primitive_extractor = PrimitiveExtractor(ident_list, 0.78)\n"
   ]
  },
  {
   "cell_type": "code",
   "execution_count": null,
   "metadata": {},
   "outputs": [],
   "source": [
    "\n",
    "test_sentence = 'seller has resumed delivery of goods'\n",
    "doc = nlp(test_sentence)\n",
    "\n",
    "results = primitive_extractor.extract(doc)\n",
    "\n",
    "for x in ident_list:\n",
    "    next_res = x.identify(doc)\n",
    "    print(type(next_res.primitive))\n",
    "    print(next_res.score)\n"
   ]
  },
  {
   "cell_type": "markdown",
   "metadata": {},
   "source": [
    "## Graph viz"
   ]
  },
  {
   "cell_type": "code",
   "execution_count": 13,
   "metadata": {},
   "outputs": [],
   "source": [
    "from app.src.graph.graph_visualizer import GraphVisualizer\n",
    "from app.src.graph.graph_builder import GraphBuilder\n",
    "from app.classes.spec.symboleo_spec import PAtom\n",
    "\n",
    "graph_builder = GraphBuilder()\n",
    "digraph = graph_builder.build(PAtom)\n",
    "\n",
    "gv = GraphVisualizer()\n",
    "\n",
    "\n",
    "g = gv.create_viz(digraph.nodes)\n",
    "g.show('nx.html')"
   ]
  }
 ],
 "metadata": {
  "kernelspec": {
   "display_name": "Python 3.9.7 ('base')",
   "language": "python",
   "name": "python3"
  },
  "language_info": {
   "codemirror_mode": {
    "name": "ipython",
    "version": 3
   },
   "file_extension": ".py",
   "mimetype": "text/x-python",
   "name": "python",
   "nbconvert_exporter": "python",
   "pygments_lexer": "ipython3",
   "version": "3.9.7"
  },
  "orig_nbformat": 4,
  "vscode": {
   "interpreter": {
    "hash": "5e1573d6c84447af34afea73405281252e0fe9e7aa5b16df75ea480bceab155a"
   }
  }
 },
 "nbformat": 4,
 "nbformat_minor": 2
}
