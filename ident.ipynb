{
 "cells": [
  {
   "cell_type": "markdown",
   "metadata": {},
   "source": [
    "## Identifiers"
   ]
  },
  {
   "cell_type": "code",
   "execution_count": 1,
   "metadata": {},
   "outputs": [],
   "source": [
    "import pickle\n",
    "import sys\n",
    "import spacy\n",
    "from spacy import displacy\n",
    "import benepar"
   ]
  },
  {
   "cell_type": "code",
   "execution_count": 2,
   "metadata": {},
   "outputs": [
    {
     "name": "stderr",
     "output_type": "stream",
     "text": [
      "[nltk_data] Downloading package benepar_en3 to\n",
      "[nltk_data]     C:\\Users\\regan\\AppData\\Roaming\\nltk_data...\n",
      "[nltk_data]   Package benepar_en3 is already up-to-date!\n"
     ]
    }
   ],
   "source": [
    "# Set up and store NLP\n",
    "nlp = spacy.load(\"en_core_web_md\")\n",
    "benepar.download('benepar_en3')\n",
    "nlp.add_pipe('benepar', config={'model': 'benepar_en3'})\n",
    "\n",
    "with open('./nlp/nlp.pickle', 'wb') as f:\n",
    "    pickle.dump(nlp, f)"
   ]
  },
  {
   "cell_type": "code",
   "execution_count": 3,
   "metadata": {},
   "outputs": [],
   "source": [
    "# Load NLP\n",
    "#sys.path.append('../')\n",
    "\n",
    "with open('./nlp/nlp.pickle', 'rb') as f:\n",
    "    nlp = pickle.load(f)"
   ]
  },
  {
   "cell_type": "code",
   "execution_count": 4,
   "metadata": {},
   "outputs": [],
   "source": [
    "from app.classes.spec.primitive import *\n",
    "\n",
    "from app.src.sentence_summarizer import SentenceSummarizer\n",
    "\n",
    "summarizer = SentenceSummarizer(nlp)"
   ]
  },
  {
   "cell_type": "markdown",
   "metadata": {},
   "source": [
    "### Testing it out"
   ]
  },
  {
   "cell_type": "code",
   "execution_count": 5,
   "metadata": {},
   "outputs": [
    {
     "name": "stderr",
     "output_type": "stream",
     "text": [
      "[nltk_data] Downloading package omw-1.4 to\n",
      "[nltk_data]     C:\\Users\\regan\\AppData\\Roaming\\nltk_data...\n",
      "[nltk_data]   Package omw-1.4 is already up-to-date!\n"
     ]
    }
   ],
   "source": [
    "from app.src.primitive_identifiers.dict_set_builder import DictSetBuilder\n",
    "\n",
    "# Will need to put all of this in a config somewhere...\n",
    "# And will want to get ALL the dict sets for each identifier\n",
    "# Have it done in a single call\n",
    "obligation_events = {\n",
    "    'triggered': 'trip.v.04', \n",
    "    'activated': 'activate.v.02', \n",
    "    'suspended': 'suspend.v.06', \n",
    "    'resumed': 'resume.v.02', \n",
    "    'discharged': 'free.v.06', \n",
    "    'expired': 'run_out.v.04', \n",
    "    'fulfilled': 'satisfy.v.01', \n",
    "    'violated': 'transgress.v.01', \n",
    "    'terminated': 'end.v.02'\n",
    "}\n",
    "\n",
    "dict_set_builder = DictSetBuilder()\n",
    "dict_set = dict_set_builder.build(obligation_events, 'v')\n",
    "\n"
   ]
  },
  {
   "cell_type": "code",
   "execution_count": 7,
   "metadata": {},
   "outputs": [],
   "source": [
    "from app.src.primitive_identifiers.obligation_event_identifier import ObligationEventIdentifier\n",
    "from app.src.primitive_identifiers.event_scorer import EventScorer\n",
    "from app.src.primitive_identifiers.variable_scorer import VariableScorer\n",
    "from app.src.primitive_identifiers.similarity_calculator import SentenceSimilarityCalculator\n",
    "from app.src.primitive_identifiers.sentence_preprocessor import SentencePreprocessor\n",
    "from app.templates.meat_sale.templates import meat_sale_templates\n",
    "\n",
    "event_name_scorer = EventScorer(dict_set)\n",
    "preprocessor = SentencePreprocessor(nlp)\n",
    "similarity_calculator = SentenceSimilarityCalculator(preprocessor)\n",
    "obligation_sent_dict = meat_sale_templates['obligations']\n",
    "variable_scorer = VariableScorer(nlp, obligation_sent_dict, similarity_calculator)\n",
    "oe_identifier = ObligationEventIdentifier(event_name_scorer, variable_scorer)\n"
   ]
  },
  {
   "cell_type": "code",
   "execution_count": 15,
   "metadata": {},
   "outputs": [
    {
     "name": "stderr",
     "output_type": "stream",
     "text": [
      "c:\\Users\\regan\\anaconda3\\lib\\site-packages\\torch\\distributions\\distribution.py:44: UserWarning: <class 'torch_struct.distributions.TreeCRF'> does not define `arg_constraints`. Please set `arg_constraints = {}` or initialize the distribution with `validate_args=False` to turn off validation.\n",
      "  warnings.warn(f'{self.__class__} does not define `arg_constraints`. ' +\n"
     ]
    },
    {
     "name": "stdout",
     "output_type": "stream",
     "text": [
      "<class 'app.classes.spec.sym_event.ObligationEvent'>\n",
      "event:  resumed\n",
      "var: delivery\n",
      "0.797\n"
     ]
    }
   ],
   "source": [
    "\n",
    "test_sentence = 'seller has resumed delivery of goods'\n",
    "doc = nlp(test_sentence)\n",
    "\n",
    "result = oe_identifier.identify(doc)\n",
    "\n",
    "print(type(result.primitive))\n",
    "p: ObligationEvent = result.primitive\n",
    "print('event: ',p.event_name)\n",
    "print('var:', p.obligation_variable)\n",
    "print(result.score)"
   ]
  }
 ],
 "metadata": {
  "kernelspec": {
   "display_name": "Python 3.9.7 ('base')",
   "language": "python",
   "name": "python3"
  },
  "language_info": {
   "codemirror_mode": {
    "name": "ipython",
    "version": 3
   },
   "file_extension": ".py",
   "mimetype": "text/x-python",
   "name": "python",
   "nbconvert_exporter": "python",
   "pygments_lexer": "ipython3",
   "version": "3.9.7"
  },
  "orig_nbformat": 4,
  "vscode": {
   "interpreter": {
    "hash": "5e1573d6c84447af34afea73405281252e0fe9e7aa5b16df75ea480bceab155a"
   }
  }
 },
 "nbformat": 4,
 "nbformat_minor": 2
}
