{
 "cells": [
  {
   "cell_type": "markdown",
   "metadata": {},
   "source": [
    "## Identifiers"
   ]
  },
  {
   "cell_type": "code",
   "execution_count": 1,
   "metadata": {},
   "outputs": [],
   "source": [
    "import pickle\n",
    "import sys\n",
    "import spacy\n",
    "from spacy import displacy\n",
    "import benepar"
   ]
  },
  {
   "cell_type": "code",
   "execution_count": 2,
   "metadata": {},
   "outputs": [
    {
     "name": "stderr",
     "output_type": "stream",
     "text": [
      "[nltk_data] Downloading package benepar_en3 to\n",
      "[nltk_data]     C:\\Users\\regan\\AppData\\Roaming\\nltk_data...\n",
      "[nltk_data]   Package benepar_en3 is already up-to-date!\n"
     ]
    }
   ],
   "source": [
    "# Set up and store NLP\n",
    "nlp = spacy.load(\"en_core_web_md\")\n",
    "benepar.download('benepar_en3')\n",
    "nlp.add_pipe('benepar', config={'model': 'benepar_en3'})\n",
    "\n",
    "with open('./nlp/nlp.pickle', 'wb') as f:\n",
    "    pickle.dump(nlp, f)"
   ]
  },
  {
   "cell_type": "code",
   "execution_count": 3,
   "metadata": {},
   "outputs": [],
   "source": [
    "# Load NLP\n",
    "#sys.path.append('../')\n",
    "\n",
    "with open('./nlp/nlp.pickle', 'rb') as f:\n",
    "    nlp = pickle.load(f)"
   ]
  },
  {
   "cell_type": "code",
   "execution_count": 4,
   "metadata": {},
   "outputs": [],
   "source": [
    "from app.classes.spec.primitive import *\n",
    "\n",
    "from app.src.sentence_summarizer import SentenceSummarizer\n",
    "\n",
    "summarizer = SentenceSummarizer(nlp)"
   ]
  },
  {
   "cell_type": "markdown",
   "metadata": {},
   "source": [
    "### Testing it out"
   ]
  },
  {
   "cell_type": "code",
   "execution_count": 5,
   "metadata": {},
   "outputs": [
    {
     "name": "stderr",
     "output_type": "stream",
     "text": [
      "[nltk_data] Downloading package omw-1.4 to\n",
      "[nltk_data]     C:\\Users\\regan\\AppData\\Roaming\\nltk_data...\n",
      "[nltk_data]   Package omw-1.4 is already up-to-date!\n"
     ]
    }
   ],
   "source": [
    "from app.src.primitive_identifiers.dict_set_builder import DictSetBuilder\n",
    "\n",
    "\n",
    "all_dicts = DictSetBuilder.build_all()"
   ]
  },
  {
   "cell_type": "code",
   "execution_count": 14,
   "metadata": {},
   "outputs": [],
   "source": [
    "from app.src.primitive_extractor import PrimitiveExtractor\n",
    "from app.src.primitive_identifiers.obligation_event_identifier import ObligationEventIdentifier\n",
    "from app.src.primitive_identifiers.power_event_identifier import PowerEventIdentifier\n",
    "from app.src.primitive_identifiers.contract_event_identifier import ContractEventIdentifier\n",
    "from app.src.primitive_identifiers.event_scorer import EventScorer\n",
    "from app.src.primitive_identifiers.variable_scorer import VariableScorer\n",
    "from app.src.primitive_identifiers.similarity_calculator import SentenceSimilarityCalculator\n",
    "from app.src.primitive_identifiers.sentence_preprocessor import SentencePreprocessor\n",
    "from app.templates.meat_sale.templates import meat_sale_templates\n",
    "\n",
    "preprocessor = SentencePreprocessor(nlp)\n",
    "similarity_calculator = SentenceSimilarityCalculator(preprocessor)\n",
    "\n",
    "# ObligationEvent\n",
    "ob_event_scorer = EventScorer(all_dicts['obligation_events'])\n",
    "obligation_sent_dict = meat_sale_templates['obligations']\n",
    "ob_var_scorer = VariableScorer(nlp, obligation_sent_dict, similarity_calculator)\n",
    "oe_identifier = ObligationEventIdentifier(ob_event_scorer, ob_var_scorer)\n",
    "\n",
    "# PowerEvent\n",
    "power_event_scorer = EventScorer(all_dicts['power_events'])\n",
    "power_sent_dict = meat_sale_templates['powers']\n",
    "power_var_scorer = VariableScorer(nlp, power_sent_dict, similarity_calculator)\n",
    "pe_identifier = PowerEventIdentifier(power_event_scorer, power_var_scorer)\n",
    "\n",
    "# ContractEvent\n",
    "c_event_scorer = EventScorer(all_dicts['contract_events'])\n",
    "c_identifier = ContractEventIdentifier(c_event_scorer)\n",
    "\n",
    "primitive_extractor = PrimitiveExtractor([\n",
    "    oe_identifier,\n",
    "    pe_identifier,\n",
    "    c_identifier\n",
    "], 0.78)\n"
   ]
  },
  {
   "cell_type": "code",
   "execution_count": 15,
   "metadata": {},
   "outputs": [
    {
     "name": "stdout",
     "output_type": "stream",
     "text": [
      "<class 'app.classes.spec.sym_event.ObligationEvent'>\n"
     ]
    }
   ],
   "source": [
    "\n",
    "test_sentence = 'seller has resumed delivery of goods'\n",
    "doc = nlp(test_sentence)\n",
    "\n",
    "results = primitive_extractor.extract(doc)\n",
    "\n",
    "for x in results:\n",
    "    print(type(x))\n",
    "    # print(x)\n",
    "    # p: ObligationEvent = result.primitive\n",
    "    # print('event: ',p.event_name)\n",
    "    # print('var:', p.obligation_variable)\n",
    "    # print(result.score)"
   ]
  },
  {
   "cell_type": "code",
   "execution_count": null,
   "metadata": {},
   "outputs": [],
   "source": []
  }
 ],
 "metadata": {
  "kernelspec": {
   "display_name": "Python 3.9.7 ('base')",
   "language": "python",
   "name": "python3"
  },
  "language_info": {
   "codemirror_mode": {
    "name": "ipython",
    "version": 3
   },
   "file_extension": ".py",
   "mimetype": "text/x-python",
   "name": "python",
   "nbconvert_exporter": "python",
   "pygments_lexer": "ipython3",
   "version": "3.9.7"
  },
  "orig_nbformat": 4,
  "vscode": {
   "interpreter": {
    "hash": "5e1573d6c84447af34afea73405281252e0fe9e7aa5b16df75ea480bceab155a"
   }
  }
 },
 "nbformat": 4,
 "nbformat_minor": 2
}
