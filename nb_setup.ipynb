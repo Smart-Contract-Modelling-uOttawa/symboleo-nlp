{
 "cells": [
  {
   "attachments": {},
   "cell_type": "markdown",
   "metadata": {},
   "source": [
    "## NLP Setup"
   ]
  },
  {
   "attachments": {},
   "cell_type": "markdown",
   "metadata": {},
   "source": [
    "This is for setting up the NLP processing pipeline, including any custom components"
   ]
  },
  {
   "attachments": {},
   "cell_type": "markdown",
   "metadata": {},
   "source": [
    "## Init NLP"
   ]
  },
  {
   "cell_type": "markdown",
   "metadata": {},
   "source": [
    "### Spacy"
   ]
  },
  {
   "cell_type": "code",
   "execution_count": null,
   "metadata": {},
   "outputs": [],
   "source": [
    "!python -m pip install -U pydantic spacy"
   ]
  },
  {
   "cell_type": "code",
   "execution_count": null,
   "metadata": {},
   "outputs": [],
   "source": [
    "# May need to restart the environment after running this command\n",
    "!python -m spacy download en_core_web_md"
   ]
  },
  {
   "cell_type": "code",
   "execution_count": null,
   "metadata": {},
   "outputs": [],
   "source": [
    "# Benepar (Optional) - for consituency parsing\n",
    "# Can take 3 minutes\n",
    "%pip install benepar"
   ]
  },
  {
   "cell_type": "code",
   "execution_count": null,
   "metadata": {},
   "outputs": [],
   "source": [
    "import pickle\n",
    "import spacy\n",
    "from spacy import displacy"
   ]
  },
  {
   "cell_type": "code",
   "execution_count": null,
   "metadata": {},
   "outputs": [],
   "source": [
    "# Set up and store NLP\n",
    "nlp = spacy.load('en_core_web_md')"
   ]
  },
  {
   "cell_type": "markdown",
   "metadata": {},
   "source": [
    "### Benepar (Optional)"
   ]
  },
  {
   "cell_type": "code",
   "execution_count": null,
   "metadata": {},
   "outputs": [],
   "source": [
    "import benepar\n",
    "\n",
    "benepar.download('benepar_en3')\n",
    "nlp.add_pipe('benepar', config={'model': 'benepar_en3'})"
   ]
  },
  {
   "cell_type": "markdown",
   "metadata": {},
   "source": [
    "### Coreferee (Optional)"
   ]
  },
  {
   "cell_type": "code",
   "execution_count": null,
   "metadata": {},
   "outputs": [],
   "source": [
    "# Optional: Takes about 1 minute\n",
    "!python -m coreferee install en"
   ]
  },
  {
   "cell_type": "code",
   "execution_count": null,
   "metadata": {},
   "outputs": [],
   "source": [
    "# Optional\n",
    "import coreferee\n",
    "nlp.add_pipe('coreferee')"
   ]
  },
  {
   "cell_type": "markdown",
   "metadata": {},
   "source": [
    "### Store"
   ]
  },
  {
   "cell_type": "code",
   "execution_count": null,
   "metadata": {},
   "outputs": [],
   "source": [
    "print(nlp.pipe_names)"
   ]
  },
  {
   "cell_type": "code",
   "execution_count": null,
   "metadata": {},
   "outputs": [],
   "source": [
    "doc = nlp(\"The seller shall deliver the order in one delivery to the buyer at its warehouse.\")"
   ]
  },
  {
   "cell_type": "code",
   "execution_count": null,
   "metadata": {},
   "outputs": [],
   "source": [
    "with open('./nlp/nlp.pickle', 'wb') as f:\n",
    "    pickle.dump(nlp, f)"
   ]
  },
  {
   "attachments": {},
   "cell_type": "markdown",
   "metadata": {},
   "source": [
    "## Other Customization (Optional)"
   ]
  },
  {
   "attachments": {},
   "cell_type": "markdown",
   "metadata": {},
   "source": [
    "#### Coref"
   ]
  },
  {
   "cell_type": "code",
   "execution_count": null,
   "metadata": {},
   "outputs": [],
   "source": [
    "doc._.coref_chains\n",
    "\n",
    "doc._.coref_chains.print()"
   ]
  },
  {
   "cell_type": "code",
   "execution_count": null,
   "metadata": {},
   "outputs": [],
   "source": [
    "for c in doc._.coref_chains:\n",
    "    print('-', c.index, c.mentions, c.most_specific_mention_index)\n",
    "    msmi = c.most_specific_mention_index\n",
    "    ti = c.mentions[msmi]\n",
    "    print('- msm', ti.pretty_representation)\n",
    "\n",
    "    for m in c.mentions:\n",
    "        print('---', m)\n",
    "\n",
    "        for mi in m.token_indexes:\n",
    "            print('-----', doc[mi])"
   ]
  },
  {
   "attachments": {},
   "cell_type": "markdown",
   "metadata": {},
   "source": [
    "#### Domain event tagging"
   ]
  },
  {
   "cell_type": "code",
   "execution_count": null,
   "metadata": {},
   "outputs": [],
   "source": [
    "from spacy.matcher import PhraseMatcher, Matcher\n",
    "\n",
    "matcher = Matcher(nlp.vocab)\n",
    "\n",
    "# I'll eventually need to write tests for this...\n",
    "# Will want this to auto-generate based on the domain model...\n",
    "# Use information from the domain model to set up tagging\n",
    "contract_verbs = ['activate', 'terminate', 'suspend', ]\n",
    "contract_verb_nouns = ['activation', 'termination', 'suspension']\n",
    "contract_event_nouns = ['payment', 'delivery']\n",
    "contract_event_verbs = ['make', 'complete']\n",
    "\n",
    "# separate ones for contract event, ob event, power event, etc?\n",
    "domain_event_patterns = [\n",
    "    [{\"LOWER\": {'IN': ['contract']}, \"POS\": \"NOUN\" } , {\"POS\": \"VERB\", \"LEMMA\": {\"IN\": contract_verbs}} ],\n",
    "    [{\"LOWER\": {\"IN\": contract_event_nouns}, \"POS\": \"NOUN\"}, {\"POS\": {\"IN\": [\"VERB\", \"AUX\"]}, \"OP\": \"+\"}, {\"LOWER\": \"not\", \"OP\": \"?\"}, {\"LEMMA\": {\"IN\": contract_event_verbs}, \"OP\": \"?\"}],\n",
    "    [{\"POS\": \"NOUN\", \"LEMMA\": {\"IN\": contract_verb_nouns}}, {\"LOWER\": \"of\"}, {\"LOWER\": \"the\"}, {\"LOWER\": {'IN': ['contract']}, \"POS\": \"NOUN\" }]\n",
    "]\n",
    "\n",
    "matcher.add(\"DOMAIN_EVENT\", domain_event_patterns)"
   ]
  },
  {
   "cell_type": "code",
   "execution_count": null,
   "metadata": {},
   "outputs": [],
   "source": [
    "doc = nlp('if payment is made')\n",
    "matches = matcher(doc)\n",
    "\n",
    "for m_id, start, end in matches:\n",
    "    print(nlp.vocab.strings[m_id], doc[start:end])"
   ]
  },
  {
   "cell_type": "code",
   "execution_count": null,
   "metadata": {},
   "outputs": [],
   "source": [
    "# SKIP THIS\n",
    "from spacy.language import Language\n",
    "from spacy.tokens import Span, Doc\n",
    "\n",
    "Doc.set_extension(\"domain_components\", default=[])\n",
    "\n",
    "# Define the custom component\n",
    "@Language.component(\"domain_component\")\n",
    "def domain_component_function(doc):\n",
    "    # Apply the matcher to the doc\n",
    "    matches = matcher(doc)\n",
    "    # Create a Span for each match and assign the label \"ANIMAL\"\n",
    "    spans = [Span(doc, start, end, label=\"DOMAIN_EVENT\") for match_id, start, end in matches]\n",
    "    # Overwrite the doc.ents with the matched spans\n",
    "    doc._.domain_components = spans\n",
    "    #doc.ents = spans\n",
    "    return doc\n",
    "\n",
    "# Add the component to the pipeline after the \"ner\" component\n",
    "nlp.add_pipe(\"domain_component\", last=True)\n",
    "print(nlp.pipe_names)"
   ]
  },
  {
   "cell_type": "code",
   "execution_count": null,
   "metadata": {},
   "outputs": [],
   "source": [
    "# Entity Ruler add patterns\n",
    "ruler = nlp.add_pipe(\"entity_ruler\")\n",
    "\n",
    "for i, x in enumerate(domain_event_patterns):\n",
    "    print(x)\n",
    "    er_patterns = [\n",
    "        {\"label\": \"DOMAIN_EVENT\", \"pattern\": x }\n",
    "    ]\n",
    "    ruler.add_patterns(er_patterns)"
   ]
  },
  {
   "attachments": {},
   "cell_type": "markdown",
   "metadata": {},
   "source": [
    "## Test"
   ]
  },
  {
   "cell_type": "code",
   "execution_count": null,
   "metadata": {},
   "outputs": [],
   "source": [
    "with open('nlp/nlp.pickle', 'rb') as f:\n",
    "    new_nlp = pickle.load(f)\n",
    "\n",
    "type(new_nlp)"
   ]
  },
  {
   "cell_type": "code",
   "execution_count": null,
   "metadata": {},
   "outputs": [],
   "source": [
    "from tests.helpers.test_nlp import TestNLP\n",
    "\n",
    "new_nlp = TestNLP.get_nlp()\n",
    "\n",
    "print(type(new_nlp))\n",
    "print(new_nlp.pipe_names)"
   ]
  },
  {
   "cell_type": "code",
   "execution_count": null,
   "metadata": {},
   "outputs": [],
   "source": [
    "from app.src.nlp.sentence_summarizer import SentenceSummarizer\n",
    "\n",
    "summarizer = SentenceSummarizer(nlp)\n",
    "\n",
    "sentence = \"Seller shall deliver the goods before the contract terminates\"\n",
    "#sentence = \"I will arrive before the payment is made\"\n",
    "summarizer.summarize(sentence)\n"
   ]
  }
 ],
 "metadata": {
  "kernelspec": {
   "display_name": "Python 3.9.7 ('sym-env': venv)",
   "language": "python",
   "name": "python3"
  },
  "language_info": {
   "codemirror_mode": {
    "name": "ipython",
    "version": 3
   },
   "file_extension": ".py",
   "mimetype": "text/x-python",
   "name": "python",
   "nbconvert_exporter": "python",
   "pygments_lexer": "ipython3",
   "version": "3.9.7"
  },
  "orig_nbformat": 4,
  "vscode": {
   "interpreter": {
    "hash": "c5aa13c5662b7cd49c2a6a4cb6c712880a857c98a831bc049e568d94e5223a76"
   }
  }
 },
 "nbformat": 4,
 "nbformat_minor": 2
}
