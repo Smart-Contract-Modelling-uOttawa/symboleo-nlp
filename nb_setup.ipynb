{
 "cells": [
  {
   "cell_type": "markdown",
   "metadata": {},
   "source": [
    "## NLP Setup"
   ]
  },
  {
   "cell_type": "markdown",
   "metadata": {},
   "source": [
    "This is for setting up the NLP processing pipeline, including any custom components"
   ]
  },
  {
   "cell_type": "code",
   "execution_count": null,
   "metadata": {},
   "outputs": [],
   "source": [
    "# Takes about 1 minute\n",
    "!python -m coreferee install en"
   ]
  },
  {
   "cell_type": "code",
   "execution_count": null,
   "metadata": {},
   "outputs": [],
   "source": [
    "!pip install tokenizers==0.12.1"
   ]
  },
  {
   "cell_type": "code",
   "execution_count": null,
   "metadata": {},
   "outputs": [],
   "source": [
    "import operator\n",
    "import pickle\n",
    "import sys\n",
    "import spacy\n",
    "from spacy import displacy\n",
    "import benepar\n",
    "import coreferee\n"
   ]
  },
  {
   "cell_type": "code",
   "execution_count": null,
   "metadata": {},
   "outputs": [],
   "source": [
    "# Set up and store NLP\n",
    "#nlp = spacy.load(\"en_core_web_trf\") #en_core_web_md\n",
    "nlp = spacy.load('en_core_web_md') # maybe try lg??\n",
    "benepar.download('benepar_en3')\n",
    "nlp.add_pipe('benepar', config={'model': 'benepar_en3'})\n",
    "nlp.add_pipe('coreferee')"
   ]
  },
  {
   "cell_type": "code",
   "execution_count": null,
   "metadata": {},
   "outputs": [],
   "source": [
    "print(nlp.pipe_names)"
   ]
  },
  {
   "cell_type": "code",
   "execution_count": null,
   "metadata": {},
   "outputs": [],
   "source": [
    "doc = nlp(\"The seller shall deliver the order in one delivery to the buyer at its warehouse.\")"
   ]
  },
  {
   "cell_type": "code",
   "execution_count": null,
   "metadata": {},
   "outputs": [],
   "source": [
    "doc._.coref_chains\n",
    "\n",
    "doc._.coref_chains.print()"
   ]
  },
  {
   "cell_type": "code",
   "execution_count": null,
   "metadata": {},
   "outputs": [],
   "source": [
    "for c in doc._.coref_chains:\n",
    "    print('-', c.index, c.mentions, c.most_specific_mention_index)\n",
    "    msmi = c.most_specific_mention_index\n",
    "    ti = c.mentions[msmi]\n",
    "    print('- msm', ti.pretty_representation)\n",
    "\n",
    "    for m in c.mentions:\n",
    "        print('---', m)\n",
    "\n",
    "        for mi in m.token_indexes:\n",
    "            print('-----', doc[mi])"
   ]
  },
  {
   "cell_type": "markdown",
   "metadata": {},
   "source": [
    "### Domain event tagging"
   ]
  },
  {
   "cell_type": "code",
   "execution_count": null,
   "metadata": {},
   "outputs": [],
   "source": [
    "from spacy.matcher import PhraseMatcher, Matcher\n",
    "\n",
    "matcher = Matcher(nlp.vocab)\n",
    "\n",
    "# Use information from the domain model to set up tagging\n",
    "contract_verbs = ['activate', 'terminate', 'suspend', ]\n",
    "contract_event_nouns = ['payment', 'delivery']\n",
    "contract_event_verbs = ['pay', 'deliver']\n",
    "\n",
    "# separate ones for contract event, ob event, power event, etc?\n",
    "domain_event_patterns = [\n",
    "    [{\"LOWER\": {'IN': ['contract']}, \"POS\": \"NOUN\" } , {\"POS\": \"VERB\", \"LEMMA\": {\"IN\": contract_verbs}} ],\n",
    "    [{\"LOWER\": {\"IN\": contract_event_nouns}, \"POS\": \"NOUN\"}, {\"POS\": {\"IN\": [\"VERB\", \"AUX\"]}, \"OP\": \"+\"}]\n",
    "]\n",
    "\n",
    "matcher.add(\"DOMAIN_EVENT\", domain_event_patterns)"
   ]
  },
  {
   "cell_type": "code",
   "execution_count": null,
   "metadata": {},
   "outputs": [],
   "source": [
    "doc = nlp('Seller shall deliver the goods before the contract terminates')\n",
    "matches = matcher(doc)\n",
    "\n",
    "for m_id, start, end in matches:\n",
    "    print(nlp.vocab.strings[m_id], doc[start:end])"
   ]
  },
  {
   "cell_type": "code",
   "execution_count": null,
   "metadata": {},
   "outputs": [],
   "source": [
    "# sentence = 'before payment is made'\n",
    "# doc = nlp(sentence)\n",
    "# summarizer.summarize(sentence)\n",
    "# matches = matcher(doc)\n",
    "\n",
    "# for m_id, start, end in matches:\n",
    "#     print(nlp.vocab.strings[m_id], doc[start:end])"
   ]
  },
  {
   "cell_type": "code",
   "execution_count": null,
   "metadata": {},
   "outputs": [],
   "source": [
    "# SKIP THIS\n",
    "from spacy.language import Language\n",
    "from spacy.tokens import Span, Doc\n",
    "\n",
    "Doc.set_extension(\"domain_components\", default=[])\n",
    "\n",
    "# Define the custom component\n",
    "@Language.component(\"domain_component\")\n",
    "def domain_component_function(doc):\n",
    "    # Apply the matcher to the doc\n",
    "    matches = matcher(doc)\n",
    "    # Create a Span for each match and assign the label \"ANIMAL\"\n",
    "    spans = [Span(doc, start, end, label=\"DOMAIN_EVENT\") for match_id, start, end in matches]\n",
    "    # Overwrite the doc.ents with the matched spans\n",
    "    doc._.domain_components = spans\n",
    "    #doc.ents = spans\n",
    "    return doc\n",
    "\n",
    "# Add the component to the pipeline after the \"ner\" component\n",
    "nlp.add_pipe(\"domain_component\", last=True)\n",
    "print(nlp.pipe_names)"
   ]
  },
  {
   "cell_type": "code",
   "execution_count": null,
   "metadata": {},
   "outputs": [],
   "source": [
    "# Entity Ruler add patterns\n",
    "ruler = nlp.add_pipe(\"entity_ruler\")\n",
    "\n",
    "for i, x in enumerate(domain_event_patterns):\n",
    "    print(x)\n",
    "    er_patterns = [\n",
    "        {\"label\": \"DOMAIN_EVENT\", \"pattern\": x }\n",
    "    ]\n",
    "    ruler.add_patterns(er_patterns)"
   ]
  },
  {
   "cell_type": "code",
   "execution_count": null,
   "metadata": {},
   "outputs": [],
   "source": [
    "with open('./nlp/nlp.pickle', 'wb') as f:\n",
    "    pickle.dump(nlp, f)"
   ]
  },
  {
   "cell_type": "code",
   "execution_count": null,
   "metadata": {},
   "outputs": [],
   "source": [
    "from app.src.sentence_summarizer import SentenceSummarizer\n",
    "\n",
    "summarizer = SentenceSummarizer(nlp)\n",
    "\n",
    "sentence = \"Seller shall deliver the goods before the contract terminates\"\n",
    "#sentence = \"I will arrive before the payment is made\"\n",
    "summarizer.summarize(sentence)\n"
   ]
  },
  {
   "cell_type": "code",
   "execution_count": null,
   "metadata": {},
   "outputs": [],
   "source": [
    "doc = nlp(sentence)\n",
    "\n",
    "# colors = {'Fruit': \"#85C1E9\"}\n",
    "# options = {\"ents\": ['Fruit'], \"colors\": colors} \n",
    "# spacy.displacy.render(doc, style=\"ent\", jupyter=True, options=options)\n",
    "spacy.displacy.render(doc, style=\"ent\", jupyter=True)\n",
    "\n",
    "print([(ent.text, ent.label_) for ent in doc.ents])"
   ]
  }
 ],
 "metadata": {
  "kernelspec": {
   "display_name": "Python 3.9.7 ('base')",
   "language": "python",
   "name": "python3"
  },
  "language_info": {
   "codemirror_mode": {
    "name": "ipython",
    "version": 3
   },
   "file_extension": ".py",
   "mimetype": "text/x-python",
   "name": "python",
   "nbconvert_exporter": "python",
   "pygments_lexer": "ipython3",
   "version": "3.9.7"
  },
  "orig_nbformat": 4,
  "vscode": {
   "interpreter": {
    "hash": "5e1573d6c84447af34afea73405281252e0fe9e7aa5b16df75ea480bceab155a"
   }
  }
 },
 "nbformat": 4,
 "nbformat_minor": 2
}
