{
 "cells": [
  {
   "cell_type": "code",
   "execution_count": 1,
   "metadata": {},
   "outputs": [
    {
     "name": "stdout",
     "output_type": "stream",
     "text": [
      "advertise: The Manager shall advertise the Property for rent, engage and screen potential renters, enter into rental agreement(s) with acceptable renter(s).\n",
      " - ob_advertise: Obligation(manager, owner, true, Happens(evt_advertise));\n",
      "\n",
      "\n",
      "reimburse: The Owner shall reimburse the Manager for all expenses related to such Advertising. \n",
      " - ob_reimburse: Obligation(owner, manager, true, Happens(evt_reimburse_advertisting));\n",
      "\n",
      "\n",
      "notify_expense: The Manager shall notify the Owner, in advance, of anticipated expenses related to such Advertising.\n",
      " - ob_notify_expense: Obligation(manager, owner, true, Happens(evt_notify_expenses));\n",
      "\n",
      "\n",
      "collect_rent: The Manager shall be responsible for all collection of Rent earned on the Property.\n",
      " - ob_collect_rent: Obligation(manager, owner, true, Happens(evt_collect_rent));\n",
      "\n",
      "\n",
      "disbursement: The Manager shall then be responsible for disbursement of those proceeds to the Owner.\n",
      " - ob_disbursement: Obligation(manager, owner, true, Happens(evt_disburse));\n",
      "\n",
      "\n",
      "accounting: The Manager shall further prepare and provide to the Owner a detailed accounting of all rents, expenses, and disbursements.\n",
      " - ob_accounting: Obligation(manager, owner, true, Happens(evt_accounting));\n",
      "\n",
      "\n",
      "repair: The Manager shall be responsible for performing, or hiring necessary personnel to perform, all necessary maintenance and repairs to the Property. \n",
      " - ob_repair: Obligation(manager, owner, true, Happens(evt_repair));\n",
      "\n",
      "\n",
      "reimburse_maintenance: The Owner shall reimburse the Manager for the cost of all such maintenance and repairs. \n",
      " - ob_reimburse_maintenance: Obligation(owner, manager, true, Happens(evt_reimburse_maintenance));\n",
      "\n",
      "\n",
      "repair_invoice: The Manager shall provide the Owner invoices of the actual costs.\n",
      " - ob_repair_invoice: Obligation(manager, owner, true, Happens(evt_repair_invoice));\n",
      "\n",
      "\n",
      "legal_proceedings: The Manager shall handle all legal proceedings.\n",
      " - ob_legal_proceedings: Obligation(manager, owner, true, Happens(evt_handle_legal));\n",
      "\n",
      "\n",
      "disburse_termination: the Manager shall disburse to the Owner any monies in the Manager's possession due and owing to the Owner\n",
      " - ob_disburse_termination: Obligation(manager, owner, true, Happens(evt_disburse_termination));\n",
      "\n",
      "\n",
      "reimburse_termination: The Owner shall reimburse the Manager for any expenses incurred or approved prior to the date of termination\n",
      " - ob_reimburse_termination: Obligation(owner, manager, true, Happens(evt_reimburse_termination));\n",
      "\n",
      "\n"
     ]
    }
   ],
   "source": [
    "# Get the template\n",
    "from typing import Dict\n",
    "from app.templates.template_getter import get_template\n",
    "contract = get_template('prop_t')\n",
    "\n",
    "parameter_dict: Dict[str,str] = {}\n",
    "\n",
    "contract.print_all_strings()"
   ]
  },
  {
   "cell_type": "code",
   "execution_count": 2,
   "metadata": {},
   "outputs": [],
   "source": [
    "#print(contract.to_sym())"
   ]
  },
  {
   "cell_type": "code",
   "execution_count": 3,
   "metadata": {},
   "outputs": [],
   "source": [
    "# The goal is to make this work\n",
    "from app.classes.selection.all_nodes import *\n",
    "\n",
    "node_list = [\n",
    "    RootNode(),\n",
    "    BeforeNode(),\n",
    "    EventNode(),\n",
    "    NewEventNode(value='John eats pie with bob at the store'),\n",
    "    SubjectNode(value='John'),\n",
    "    VerbNode(value='eats'),\n",
    "    DobjNode(value='pie'),\n",
    "    AdverbNode(value='loudly'),\n",
    "    PrepNode(value='with Bob'),\n",
    "    PrepNode(value='at the store')\n",
    "]\n",
    "key = 'delivery'"
   ]
  },
  {
   "cell_type": "code",
   "execution_count": 4,
   "metadata": {},
   "outputs": [],
   "source": [
    "# Contract action\n",
    "node_list = [\n",
    "    RootNode(),\n",
    "    IfNode(),\n",
    "    EventNode(),\n",
    "    StandardEventNode(),\n",
    "    ContractSubjectNode(value='contract'),\n",
    "    ContractActionNode(value='terminated')\n",
    "]\n",
    "\n",
    "key = 'delivery'"
   ]
  },
  {
   "cell_type": "code",
   "execution_count": 5,
   "metadata": {},
   "outputs": [],
   "source": [
    "node_list = [\n",
    "    RootNode(),\n",
    "    IfNode(),\n",
    "    EventNode(),\n",
    "    NewEventNode(),\n",
    "    SubjectNode(value='legal proceedings'),\n",
    "    VerbNode(value='become'),\n",
    "    PredicateNode(value='necessary')\n",
    "]\n",
    "\n",
    "key='legal_proceedings'"
   ]
  },
  {
   "cell_type": "code",
   "execution_count": null,
   "metadata": {},
   "outputs": [],
   "source": []
  },
  {
   "cell_type": "code",
   "execution_count": 6,
   "metadata": {},
   "outputs": [],
   "source": [
    "from app.src.operations.refine_parameter.parameter_refiner import ParameterRefiner, ParameterOperation\n",
    "from app.src.frames.frame_checker_constuctor import FrameCheckerConstructor\n",
    "\n",
    "from app.src.sym_updaters.updater_dict import UpdaterDictConstructor\n",
    "from app.src.sym_updaters.update_extractor import UpdateExtractor\n",
    "\n",
    "frame_checker = FrameCheckerConstructor.construct()\n",
    "updater_dict = UpdaterDictConstructor.build()\n",
    "update_extractor = UpdateExtractor(updater_dict)\n",
    "\n",
    "refiner = ParameterRefiner(frame_checker, update_extractor)\n",
    "\n",
    "op = ParameterOperation(key, node_list)\n",
    "\n",
    "#refiner.refine(contract, op)"
   ]
  },
  {
   "cell_type": "code",
   "execution_count": 7,
   "metadata": {},
   "outputs": [
    {
     "name": "stdout",
     "output_type": "stream",
     "text": [
      "ob_legal_proceedings: Obligation(manager, owner, true, Happens(evt_handle_legal));\n",
      "-- <class 'app.classes.selection.new_event_nodes.PredicateNode'>\n",
      "-- <class 'app.classes.selection.new_event_nodes.VerbNode'>\n",
      "-- <class 'app.classes.selection.new_event_nodes.SubjectNode'>\n",
      "-- <class 'app.classes.selection.new_event_node.NewEventNode'>\n",
      "-- <class 'app.classes.selection.event_node.EventNode'>\n",
      "-- <class 'app.classes.selection.if_node.IfNode'>\n",
      "-- <class 'app.classes.selection.root_node.RootNode'>\n",
      "-Norms: 1\n",
      "-Decls: 1\n",
      "-DMOs: 1\n",
      "<app.classes.spec.domain_object.DomainEvent object at 0x000002BBD690BE50> Become isAn Event with subj: String, dobj: String;\n",
      "DECL evt_Become\n",
      "DP legal proceedings\n",
      "DP None\n"
     ]
    }
   ],
   "source": [
    "# Refiner code:\n",
    "norm = contract.get_norm_by_key(op.key)\n",
    "print(norm.to_sym())\n",
    "\n",
    "# Build frame from node_list to get the NL text\n",
    "frame = frame_checker.get_frame(op.node_list)\n",
    "\n",
    "# Extract all the required updates\n",
    "## Will include declarations, dmos, norms, etc\n",
    "update_set = update_extractor.extract(norm, op.node_list)\n",
    "\n",
    "update_set.print_me()\n",
    "\n",
    "for x in update_set.domain_objects:\n",
    "    print(x, x.to_sym())\n",
    "\n",
    "# Run the update set against the contract\n",
    "contract.run_updates(update_set)\n",
    "\n",
    "# Update the NL... Likely need the component here as well\n",
    "contract.update_nl(op.key, frame.to_text())"
   ]
  },
  {
   "cell_type": "code",
   "execution_count": 8,
   "metadata": {},
   "outputs": [
    {
     "name": "stdout",
     "output_type": "stream",
     "text": [
      "manager: Manager\n",
      "owner: Owner\n",
      "var_accounting_artifacts: String\n",
      "var_ad_expenses: String\n",
      "var_rent_proceeds: String\n",
      "var_repair_costs: String\n",
      "var_termination_disbursement: String\n",
      "var_termination_reimbursement: String\n",
      "legal proceedings: String\n",
      "None: String\n"
     ]
    }
   ],
   "source": [
    "for x in contract.contract_spec.parameters:\n",
    "    print(x.to_sym())\n",
    "\n",
    "#print(contract.to_sym())\n",
    "#contract.print_all_strings()\n"
   ]
  },
  {
   "cell_type": "code",
   "execution_count": 19,
   "metadata": {},
   "outputs": [
    {
     "name": "stdout",
     "output_type": "stream",
     "text": [
      "[<UnitType.BEFORE: (12,)>, <UnitType.WITHIN: (14,)>, <UnitType.IF: (15,)>, <UnitType.AFTER: (18,)>, <UnitType.UNTIL: (19,)>, <UnitType.USING: (20,)>]\n"
     ]
    }
   ],
   "source": [
    "from app.classes.frames.all_frames import get_all_frames\n",
    "\n",
    "all_frames = get_all_frames()\n",
    "\n",
    "curr = UnitType.ROOT\n",
    "\n",
    "next_children = []\n",
    "\n",
    "for f in all_frames:\n",
    "    if curr in f.pattern:\n",
    "        find_curr = f.pattern.index(curr)\n",
    "        next_child = f.pattern[find_curr+1]\n",
    "        if next_child not in next_children:\n",
    "            next_children.append(next_child)\n",
    "\n",
    "print(next_children)\n",
    "    #print(f.pattern[0])\n",
    "\n",
    "\n"
   ]
  },
  {
   "cell_type": "code",
   "execution_count": null,
   "metadata": {},
   "outputs": [],
   "source": []
  }
 ],
 "metadata": {
  "kernelspec": {
   "display_name": "Python 3.9.7 ('sym-env': venv)",
   "language": "python",
   "name": "python3"
  },
  "language_info": {
   "codemirror_mode": {
    "name": "ipython",
    "version": 3
   },
   "file_extension": ".py",
   "mimetype": "text/x-python",
   "name": "python",
   "nbconvert_exporter": "python",
   "pygments_lexer": "ipython3",
   "version": "3.9.7"
  },
  "orig_nbformat": 4,
  "vscode": {
   "interpreter": {
    "hash": "c5aa13c5662b7cd49c2a6a4cb6c712880a857c98a831bc049e568d94e5223a76"
   }
  }
 },
 "nbformat": 4,
 "nbformat_minor": 2
}
