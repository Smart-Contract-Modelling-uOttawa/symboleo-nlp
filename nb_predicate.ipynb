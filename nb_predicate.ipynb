{
 "cells": [
  {
   "cell_type": "markdown",
   "metadata": {},
   "source": [
    "## NLP Setup"
   ]
  },
  {
   "cell_type": "code",
   "execution_count": 1,
   "metadata": {},
   "outputs": [],
   "source": [
    "import random\n",
    "import operator\n",
    "import pickle\n",
    "import sys\n",
    "import spacy\n",
    "from spacy import displacy\n",
    "import benepar\n",
    "import copy\n",
    "import networkx as nx"
   ]
  },
  {
   "cell_type": "code",
   "execution_count": 2,
   "metadata": {},
   "outputs": [
    {
     "name": "stderr",
     "output_type": "stream",
     "text": [
      "[nltk_data] Downloading package benepar_en3 to\n",
      "[nltk_data]     C:\\Users\\regan\\AppData\\Roaming\\nltk_data...\n",
      "[nltk_data]   Package benepar_en3 is already up-to-date!\n"
     ]
    }
   ],
   "source": [
    "# Set up and store NLP\n",
    "nlp = spacy.load(\"en_core_web_md\")\n",
    "benepar.download('benepar_en3')\n",
    "nlp.add_pipe('benepar', config={'model': 'benepar_en3'})\n",
    "\n",
    "with open('./nlp/nlp.pickle', 'wb') as f:\n",
    "    pickle.dump(nlp, f)"
   ]
  },
  {
   "cell_type": "code",
   "execution_count": 3,
   "metadata": {},
   "outputs": [],
   "source": [
    "# Load NLP\n",
    "#sys.path.append('../')\n",
    "\n",
    "with open('./nlp/nlp.pickle', 'rb') as f:\n",
    "    nlp = pickle.load(f)"
   ]
  },
  {
   "cell_type": "markdown",
   "metadata": {},
   "source": [
    "## Graph"
   ]
  },
  {
   "cell_type": "code",
   "execution_count": 4,
   "metadata": {},
   "outputs": [],
   "source": [
    "from app.classes.spec.symboleo_spec import PAtom\n",
    "from app.src.graph.graph_builder import GraphBuilder\n",
    "from app.src.graph.graph_visualizer import GraphVisualizer\n",
    "\n",
    "graph_builder = GraphBuilder()\n",
    "graph_visualizer = GraphVisualizer()\n",
    "\n",
    "digraph = graph_builder.build(PAtom)\n",
    "\n",
    "gv = graph_visualizer.create_viz(digraph.nodes)\n",
    "gv.show('nx.html')\n"
   ]
  },
  {
   "cell_type": "markdown",
   "metadata": {},
   "source": [
    "## Set up Extractor"
   ]
  },
  {
   "cell_type": "code",
   "execution_count": null,
   "metadata": {},
   "outputs": [],
   "source": [
    "from app.src.atom_assembler import AtomAssembler\n",
    "from app.src.atom_extractor import AtomExtractor\n",
    "from app.src.predicate_builder import PredicateBuilder\n",
    "from app.src.primitive_checker import PrimitiveChecker\n",
    "from app.src.primitive_extractor import PrimitiveExtractor\n",
    "from app.src.dynamic_constructor import DynamicObjectConstructor\n",
    "from app.src.sentence_summarizer import SentenceSummarizer\n",
    "\n",
    "summarizer = SentenceSummarizer(nlp)\n",
    "\n",
    "options = {}\n",
    "\n",
    "primitive_identifiers = [] # Will need to add this in\n",
    "primitive_extractor = PrimitiveExtractor(primitive_identifiers)\n",
    "\n",
    "candidates = [\n",
    "    'PredicateFunctionHappens',\n",
    "    'PredicateFunctionHappensWithin',\n",
    "    'PredicateFunctionOccurs',\n",
    "    'PredicateFunctionWHappensBefore',\n",
    "    'PredicateFunctionWHappensBeforeEvent',\n",
    "    'PredicateFunctionHappensAfter',\n",
    "]\n",
    "\n",
    "primitive_checker = PrimitiveChecker()\n",
    "dynamic_constructor = DynamicObjectConstructor(digraph)\n",
    "predicate_builder = PredicateBuilder(digraph, primitive_checker, dynamic_constructor)\n",
    "atom_assembler = AtomAssembler(candidates, predicate_builder)\n",
    "\n",
    "atom_extractor = AtomExtractor(options, nlp, primitive_extractor, atom_assembler)"
   ]
  },
  {
   "cell_type": "code",
   "execution_count": null,
   "metadata": {},
   "outputs": [],
   "source": [
    "sentence = ''\n",
    "\n",
    "# summarize the sentence\n",
    "summarizer.summarize(sentence)\n",
    "\n",
    "results = atom_extractor.extract(sentence)\n",
    "\n",
    "for result in results:\n",
    "    print(result.to_sym())"
   ]
  },
  {
   "cell_type": "markdown",
   "metadata": {},
   "source": [
    "## Gather user input (old)"
   ]
  },
  {
   "cell_type": "code",
   "execution_count": null,
   "metadata": {},
   "outputs": [],
   "source": [
    "from app.classes.spec.symboleo_spec import Obligation\n",
    "from app.templates.meat_sale.norms import meat_sale_norms\n",
    "from app.templates.meat_sale.templates import meat_sale_templates\n",
    "obligations: list[Obligation] = copy.deepcopy(meat_sale_norms['obligations'])\n",
    "templates = meat_sale_templates['obligations']"
   ]
  },
  {
   "cell_type": "code",
   "execution_count": null,
   "metadata": {},
   "outputs": [],
   "source": [
    "USER_INPUT = True\n",
    "\n",
    "DEFAULT_OBLIGATION_ID = 'delivery'\n",
    "DEFAULT_COMPONENT_CHAR = 't'\n",
    "\n",
    "COMPONENT_DICT = {\n",
    "    'a': 'antecedent',\n",
    "    't': 'trigger',\n",
    "    'c': 'consequent'\n",
    "}\n",
    "\n",
    "SAMPLE_SENTENCES = [\n",
    "    \"It is a holiday\",\n",
    "    \"The sky is blue\",\n",
    "    \"It is not a holiday\",\n",
    "    \"It is a full moon\",\n",
    "    \"two plus two equals four\",\n",
    "    \"the house is on fire\",\n",
    "    \"Ted built a house\",\n",
    "    \"it is expected to rain\",\n",
    "    \"it is raining\"\n",
    "]\n",
    "\n",
    "DEFAULT_SENTENCE = SAMPLE_SENTENCES[1]\n"
   ]
  },
  {
   "cell_type": "code",
   "execution_count": null,
   "metadata": {},
   "outputs": [],
   "source": [
    "for ob in obligations:\n",
    "    print(ob.id)\n",
    "    print(f'- NL: {templates[ob.id]}')\n",
    "    print(f'- SYM: {ob.to_sym()}')"
   ]
  },
  {
   "cell_type": "code",
   "execution_count": null,
   "metadata": {},
   "outputs": [],
   "source": [
    "# Choose the obligation\n",
    "if USER_INPUT:\n",
    "    # Choose the obligation\n",
    "    selected_ob_id = input('Enter obligation id: ')\n",
    "else:\n",
    "    selected_ob_id = DEFAULT_OBLIGATION_ID"
   ]
  },
  {
   "cell_type": "code",
   "execution_count": null,
   "metadata": {},
   "outputs": [],
   "source": [
    "if USER_INPUT:\n",
    "    selected_component_char = input('Select the component to update (t/a/c): ')\n",
    "else:\n",
    "    selected_component_char = DEFAULT_COMPONENT_CHAR\n",
    "\n",
    "selected_component = COMPONENT_DICT[selected_component_char]"
   ]
  },
  {
   "cell_type": "code",
   "execution_count": null,
   "metadata": {},
   "outputs": [],
   "source": [
    "if USER_INPUT:\n",
    "    sentence = input('Enter an extension sentence: ')\n",
    "else:\n",
    "    sentence = DEFAULT_SENTENCE"
   ]
  }
 ],
 "metadata": {
  "kernelspec": {
   "display_name": "Python 3.9.7 ('base')",
   "language": "python",
   "name": "python3"
  },
  "language_info": {
   "codemirror_mode": {
    "name": "ipython",
    "version": 3
   },
   "file_extension": ".py",
   "mimetype": "text/x-python",
   "name": "python",
   "nbconvert_exporter": "python",
   "pygments_lexer": "ipython3",
   "version": "3.9.7"
  },
  "orig_nbformat": 4,
  "vscode": {
   "interpreter": {
    "hash": "5e1573d6c84447af34afea73405281252e0fe9e7aa5b16df75ea480bceab155a"
   }
  }
 },
 "nbformat": 4,
 "nbformat_minor": 2
}
