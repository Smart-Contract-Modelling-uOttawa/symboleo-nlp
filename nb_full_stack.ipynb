{
 "cells": [
  {
   "cell_type": "markdown",
   "metadata": {},
   "source": [
    "### NLP Setup"
   ]
  },
  {
   "cell_type": "code",
   "execution_count": 1,
   "metadata": {},
   "outputs": [
    {
     "name": "stderr",
     "output_type": "stream",
     "text": [
      "c:\\Users\\regan\\Documents\\dev\\symboleo-nlp\\sym-env\\lib\\site-packages\\tqdm\\auto.py:22: TqdmWarning: IProgress not found. Please update jupyter and ipywidgets. See https://ipywidgets.readthedocs.io/en/stable/user_install.html\n",
      "  from .autonotebook import tqdm as notebook_tqdm\n"
     ]
    }
   ],
   "source": [
    "import pickle\n",
    "import sys\n",
    "import spacy\n",
    "\n",
    "# Load NLP\n",
    "#sys.path.append('../')\n",
    "\n",
    "with open('./nlp/nlp.pickle', 'rb') as f:\n",
    "    nlp = pickle.load(f)"
   ]
  },
  {
   "cell_type": "markdown",
   "metadata": {},
   "source": [
    "### Import the Template"
   ]
  },
  {
   "cell_type": "code",
   "execution_count": 2,
   "metadata": {},
   "outputs": [
    {
     "name": "stdout",
     "output_type": "stream",
     "text": [
      "OBLIGATIONS\n",
      "delivery: The Seller shall deliver the Order in one delivery [DELIVERY_TIMEFRAME] to the Buyer [DELIVERY_LOCATION]\n",
      "\n",
      "payment: The Buyer shall pay [PAYMENT_DETAILS] to the Seller [PAYMENT_TIMEFRAME].\n",
      "\n",
      "latePayment: In the event of late payment of the amount owed due, the Buyer shall pay interests equal to [INTEREST_DETAILS]\n",
      "\n"
     ]
    }
   ],
   "source": [
    "from app.templates.meat_sale.nl_template import nl_template\n",
    "\n",
    "obs = nl_template['obligations']\n",
    "\n",
    "print('OBLIGATIONS')\n",
    "for ob in obs:\n",
    "    print(f'{ob}: {obs[ob]}\\n')"
   ]
  },
  {
   "cell_type": "code",
   "execution_count": 3,
   "metadata": {},
   "outputs": [],
   "source": [
    "from app.templates.meat_sale.symboleo.contract_template import get_template\n",
    "\n",
    "contract_template = get_template()\n",
    "\n",
    "sym_template = contract_template.to_sym()\n",
    "\n",
    "sym_template_path = './app/templates/meat_sale/symboleo/symboleo_spec.txt'\n",
    "with open(sym_template_path, 'w') as f:\n",
    "    f.write(sym_template)"
   ]
  },
  {
   "cell_type": "code",
   "execution_count": 4,
   "metadata": {},
   "outputs": [],
   "source": [
    "from app.src.sentence_summarizer import SentenceSummarizer\n",
    "\n",
    "summarizer = SentenceSummarizer(nlp)"
   ]
  },
  {
   "cell_type": "markdown",
   "metadata": {},
   "source": [
    "### Reusable"
   ]
  },
  {
   "cell_type": "code",
   "execution_count": 5,
   "metadata": {},
   "outputs": [],
   "source": [
    "from app.templates.meat_sale.nl_template import parameters as meat_sale_parms\n",
    "\n",
    "from app.src.rules.contract_spec.predicate_processor import PredicateProcessor\n",
    "from app.src.rules.domain_model.domain_prop_processor import DomainPropProcessor\n",
    "\n",
    "from app.src.rules.shared.configs import PredicateProcessorConfig\n",
    "from app.src.rules.shared.configs import DomainPropProcessorConfig\n",
    "# from app.src.rules.shared.predicate_extractor import PredicateExtractor\n",
    "\n",
    "from app.src.norm_proposition_updater import NormPropositionUpdater\n",
    "from app.classes.spec.predicate_function import PredicateFunctionHappens\n",
    "\n",
    "from app.src.rules.contract_spec.timeframe.timeframe_extractor_builder import TimeFrameExtractorBuilder\n",
    "from app.src.rules.domain_model.amount.amount_extractor_builder import AmountExtractorBuilder\n",
    "from app.src.rules.domain_model.currency.currency_extractor_builder import CurrencyExtractorBuilder\n",
    "from app.src.rules.domain_model.location.location_extractor_builder import LocationExtractorBuilder\n",
    "\n",
    "norm_updater = NormPropositionUpdater()"
   ]
  },
  {
   "cell_type": "markdown",
   "metadata": {},
   "source": [
    "### DELIVERY_TIMEFRAME"
   ]
  },
  {
   "cell_type": "code",
   "execution_count": 7,
   "metadata": {},
   "outputs": [],
   "source": [
    "delivered_event = contract_template.domain_model.events['delivered'].to_obj()\n",
    "template = PredicateFunctionHappens(delivered_event)\n",
    "dtf_extractor = TimeFrameExtractorBuilder.build(nlp, template)\n",
    "\n",
    "dtf_pred_proc_config = meat_sale_parms['DELIVERY_TIMEFRAME'][0].config\n",
    "\n",
    "dtf_processor = PredicateProcessor(dtf_pred_proc_config, dtf_extractor, norm_updater)"
   ]
  },
  {
   "cell_type": "markdown",
   "metadata": {},
   "source": [
    "### DELIVERY_LOCATION"
   ]
  },
  {
   "cell_type": "code",
   "execution_count": 8,
   "metadata": {},
   "outputs": [],
   "source": [
    "dl_extractor = LocationExtractorBuilder.build(nlp)\n",
    "\n",
    "dl_config = meat_sale_parms['DELIVERY_LOCATION'][0].config\n",
    "\n",
    "dl_processor = DomainPropProcessor(dl_config, dl_extractor)"
   ]
  },
  {
   "cell_type": "markdown",
   "metadata": {},
   "source": [
    "### PAYMENT_DETAILS"
   ]
  },
  {
   "cell_type": "code",
   "execution_count": 9,
   "metadata": {},
   "outputs": [],
   "source": [
    "pd_currency_extractor = CurrencyExtractorBuilder.build(nlp)\n",
    "\n",
    "pd_curr_config = meat_sale_parms['PAYMENT_DETAILS'][1].config\n",
    "\n",
    "pd_curr_processor = DomainPropProcessor(pd_curr_config, pd_currency_extractor)"
   ]
  },
  {
   "cell_type": "code",
   "execution_count": 10,
   "metadata": {},
   "outputs": [],
   "source": [
    "pd_amount_extractor = AmountExtractorBuilder.build(nlp)\n",
    "\n",
    "pd_amt_config = meat_sale_parms['PAYMENT_DETAILS'][0].config\n",
    "\n",
    "pd_amt_processor = DomainPropProcessor(pd_amt_config, pd_amount_extractor)"
   ]
  },
  {
   "cell_type": "markdown",
   "metadata": {},
   "source": [
    "### PAYMENT_TIMEFRAME"
   ]
  },
  {
   "cell_type": "code",
   "execution_count": null,
   "metadata": {},
   "outputs": [],
   "source": [
    "paid_event = contract_template.domain_model.events['paid'].to_obj()\n",
    "paid_template = PredicateFunctionHappens(paid_event)\n",
    "ptf_extractor = TimeFrameExtractorBuilder.build(nlp, paid_template)\n",
    "\n",
    "ptf_config = meat_sale_parms['PAYMENT_TIMEFRAME'][0].config\n",
    "\n",
    "ptf_processor = PredicateProcessor(ptf_config, ptf_extractor, norm_updater)"
   ]
  },
  {
   "cell_type": "markdown",
   "metadata": {},
   "source": [
    "### INTEREST_DETAILS"
   ]
  },
  {
   "cell_type": "code",
   "execution_count": 11,
   "metadata": {},
   "outputs": [],
   "source": [
    "id_currency_extractor = CurrencyExtractorBuilder.build(nlp)\n",
    "\n",
    "id_curr_config = meat_sale_parms['INTEREST_DETAILS'][1].config\n",
    "\n",
    "id_curr_processor = DomainPropProcessor(id_curr_config, id_currency_extractor)"
   ]
  },
  {
   "cell_type": "code",
   "execution_count": 12,
   "metadata": {},
   "outputs": [],
   "source": [
    "id_amount_extractor = AmountExtractorBuilder.build(nlp)\n",
    "\n",
    "id_amt_config = meat_sale_parms['INTEREST_DETAILS'][0].config\n",
    "\n",
    "id_amt_processor = DomainPropProcessor(id_amt_config, id_amount_extractor)"
   ]
  },
  {
   "cell_type": "markdown",
   "metadata": {},
   "source": [
    "### Contract Updater"
   ]
  },
  {
   "cell_type": "code",
   "execution_count": null,
   "metadata": {},
   "outputs": [],
   "source": [
    "from app.src.contract_updater import ContractUpdater, ContractUpdateRequest\n",
    "from app.src.processor_lookup import ProcessorLookup\n",
    "\n",
    "processor_dict = {\n",
    "    'DELIVERY_TIMEFRAME': [dtf_processor],\n",
    "    'DELIVERY_LOCATION': [dl_processor],\n",
    "    'PAYMENT_DETAILS': [pd_curr_processor, pd_amt_processor], \n",
    "    'PAYMENT_TIMEFRAME': [ptf_processor],\n",
    "    'INTEREST_DETAILS': [id_amt_processor, id_curr_processor]\n",
    "}\n",
    "processor_lookup = ProcessorLookup(processor_dict)\n",
    "\n",
    "contract_updater = ContractUpdater(processor_lookup)\n",
    "\n",
    "contract = contract_template"
   ]
  },
  {
   "cell_type": "code",
   "execution_count": null,
   "metadata": {},
   "outputs": [],
   "source": [
    "customizations = [\n",
    "    ('DELIVERY_TIMEFRAME', 'within 2 weeks'),\n",
    "    ('DELIVERY_LOCATION', 'at the buyer\\'s warehouse'),\n",
    "    ('PAYMENT_DETAILS', '$100.00 CAD'),\n",
    "    ('PAYMENT_TIMEFRAME', 'before April 17, 2022'),\n",
    "    ('INTEREST_DETAILS', '10% of the amount owed')\n",
    "]"
   ]
  },
  {
   "cell_type": "code",
   "execution_count": null,
   "metadata": {},
   "outputs": [],
   "source": [
    "for c in customizations:\n",
    "    key = c[0]\n",
    "    value = c[1]\n",
    "    doc = nlp(value)\n",
    "\n",
    "    req = ContractUpdateRequest(contract, key, value, doc)\n",
    "\n",
    "    print(key)\n",
    "    contract = contract_updater.update(req)"
   ]
  },
  {
   "cell_type": "code",
   "execution_count": null,
   "metadata": {},
   "outputs": [],
   "source": [
    "print(contract.to_sym())"
   ]
  }
 ],
 "metadata": {
  "kernelspec": {
   "display_name": "Python 3.9.7 ('sym-env': venv)",
   "language": "python",
   "name": "python3"
  },
  "language_info": {
   "codemirror_mode": {
    "name": "ipython",
    "version": 3
   },
   "file_extension": ".py",
   "mimetype": "text/x-python",
   "name": "python",
   "nbconvert_exporter": "python",
   "pygments_lexer": "ipython3",
   "version": "3.9.7"
  },
  "orig_nbformat": 4,
  "vscode": {
   "interpreter": {
    "hash": "c5aa13c5662b7cd49c2a6a4cb6c712880a857c98a831bc049e568d94e5223a76"
   }
  }
 },
 "nbformat": 4,
 "nbformat_minor": 2
}
