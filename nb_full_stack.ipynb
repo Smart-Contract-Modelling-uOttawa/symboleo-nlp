{
 "cells": [
  {
   "cell_type": "markdown",
   "metadata": {},
   "source": [
    "### NLP Setup"
   ]
  },
  {
   "cell_type": "code",
   "execution_count": null,
   "metadata": {},
   "outputs": [],
   "source": [
    "import pickle\n",
    "import sys\n",
    "import spacy\n",
    "\n",
    "# Load NLP\n",
    "#sys.path.append('../')\n",
    "\n",
    "with open('./nlp/nlp.pickle', 'rb') as f:\n",
    "    nlp = pickle.load(f)"
   ]
  },
  {
   "cell_type": "markdown",
   "metadata": {},
   "source": [
    "### Import the Template"
   ]
  },
  {
   "cell_type": "code",
   "execution_count": null,
   "metadata": {},
   "outputs": [],
   "source": [
    "from app.templates.meat_sale.nl_template import nl_template\n",
    "\n",
    "obs = nl_template['obligations']\n",
    "\n",
    "print('OBLIGATIONS')\n",
    "for ob in obs:\n",
    "    print(f'{ob}: {obs[ob]}\\n')"
   ]
  },
  {
   "cell_type": "code",
   "execution_count": null,
   "metadata": {},
   "outputs": [],
   "source": [
    "from app.templates.meat_sale.contract_template import get_template\n",
    "\n",
    "contract_template = get_template()\n",
    "\n",
    "print(contract_template.to_sym())"
   ]
  },
  {
   "cell_type": "code",
   "execution_count": null,
   "metadata": {},
   "outputs": [],
   "source": [
    "from app.src.sentence_summarizer import SentenceSummarizer\n",
    "\n",
    "summarizer = SentenceSummarizer(nlp)"
   ]
  },
  {
   "cell_type": "code",
   "execution_count": null,
   "metadata": {},
   "outputs": [],
   "source": [
    "from app.classes.spec.symboleo_spec import PAtom\n",
    "from app.src.graph.graph_builder import GraphBuilder\n",
    "from app.src.graph.graph_visualizer import GraphVisualizer\n",
    "from app.src.dynamic_constructor import DynamicObjectConstructor\n",
    "\n",
    "graph_builder = GraphBuilder()\n",
    "graph_visualizer = GraphVisualizer()\n",
    "\n",
    "digraph = graph_builder.build(PAtom)\n",
    "\n",
    "gv = graph_visualizer.create_viz(digraph.nodes)\n",
    "gv.show('nx.html')\n",
    "\n",
    "dynamic_constructor = DynamicObjectConstructor(digraph)\n"
   ]
  },
  {
   "cell_type": "markdown",
   "metadata": {},
   "source": [
    "### Reusable"
   ]
  },
  {
   "cell_type": "code",
   "execution_count": null,
   "metadata": {},
   "outputs": [],
   "source": [
    "from app.src.rules.shared.predicate_processor import PredicateProcessor\n",
    "from app.src.rules.shared.domain_prop_processor import DomainPropProcessor\n",
    "\n",
    "from app.src.rules.shared.configs import PredicateExtractorConfig, PredicateProcessorConfig\n",
    "from app.src.rules.shared.configs import DomainPropProcessorConfig\n",
    "from app.src.rules.shared.predicate_extractor import PredicateExtractor"
   ]
  },
  {
   "cell_type": "code",
   "execution_count": null,
   "metadata": {},
   "outputs": [],
   "source": [
    "from app.src.norm_proposition_updater import NormPropositionUpdater\n",
    "from app.src.dynamic_constructor import DynamicObjectConstructor\n",
    "\n",
    "dynamic_constructor = DynamicObjectConstructor(digraph)\n",
    "norm_updater = NormPropositionUpdater()"
   ]
  },
  {
   "cell_type": "markdown",
   "metadata": {},
   "source": [
    "### DELIVERY_TIMEFRAME"
   ]
  },
  {
   "cell_type": "code",
   "execution_count": null,
   "metadata": {},
   "outputs": [],
   "source": [
    "from app.src.rules.meat_sale.delivery_timeframe.dtf_config import get_dtf_pred_config\n",
    "\n",
    "dtf_pred_proc_config = PredicateProcessorConfig(\n",
    "    norm_type = 'obligations',\n",
    "    norm_id = 'delivery',\n",
    "    norm_component = 'consequent',\n",
    ")\n",
    "\n",
    "dtf_predex_config = get_dtf_pred_config(nlp)\n",
    "\n",
    "dtf_predicate_extractor = PredicateExtractor(nlp, dtf_predex_config, dynamic_constructor)\n",
    "\n",
    "dtf_processor = PredicateProcessor(dtf_pred_proc_config, dtf_predicate_extractor, norm_updater)"
   ]
  },
  {
   "cell_type": "markdown",
   "metadata": {},
   "source": [
    "### DELIVERY_LOCATION"
   ]
  },
  {
   "cell_type": "code",
   "execution_count": null,
   "metadata": {},
   "outputs": [],
   "source": [
    "from app.src.rules.meat_sale.delivery_location.dl_libs import get_dl_libs\n",
    "\n",
    "dl_libs = get_dl_libs(nlp)\n",
    "dl_location_extractor = dl_libs['location_extractor']\n",
    "\n",
    "dl_config = DomainPropProcessorConfig(\n",
    "    'events',\n",
    "    'delivered',\n",
    "    'delDueDate',\n",
    "    'str'\n",
    ")\n",
    "\n",
    "dl_processor = DomainPropProcessor(dl_config, dl_location_extractor)"
   ]
  },
  {
   "cell_type": "markdown",
   "metadata": {},
   "source": [
    "### PAYMENT_AMOUNT"
   ]
  },
  {
   "cell_type": "code",
   "execution_count": null,
   "metadata": {},
   "outputs": [],
   "source": [
    "from app.src.rules.meat_sale.payment_amount.pa_libs import get_pa_libs\n",
    "\n",
    "pa_libs = get_pa_libs(nlp)\n",
    "pa_currency_extractor = pa_libs['currency_extractor']\n",
    "pa_amount_extractor = pa_libs['amount_extractor']\n",
    "\n",
    "pa_curr_config = DomainPropProcessorConfig(\n",
    "    'events',\n",
    "    'paid',\n",
    "    'currency',\n",
    "    'str'\n",
    ")\n",
    "\n",
    "pa_amt_config = DomainPropProcessorConfig(\n",
    "    'events',\n",
    "    'paid',\n",
    "    'amount',\n",
    "    'str'\n",
    ")\n",
    "\n",
    "pa_curr_processor = DomainPropProcessor(pa_curr_config, pa_currency_extractor)\n",
    "pa_amt_processor = DomainPropProcessor(pa_amt_config, pa_amount_extractor)"
   ]
  },
  {
   "cell_type": "markdown",
   "metadata": {},
   "source": [
    "### PAYMENT_TIMEFRAME"
   ]
  },
  {
   "cell_type": "code",
   "execution_count": null,
   "metadata": {},
   "outputs": [],
   "source": [
    "from app.src.rules.meat_sale.payment_timeframe.ptf_config import get_ptf_pred_config\n",
    "\n",
    "ptf_pred_proc_config = PredicateProcessorConfig(\n",
    "    norm_type = 'obligations',\n",
    "    norm_id = 'payment',\n",
    "    norm_component = 'consequent',\n",
    ")\n",
    "\n",
    "ptf_predex_config = get_ptf_pred_config(nlp, contract_template)\n",
    "ptf_predicate_extractor = PredicateExtractor(nlp, ptf_predex_config, dynamic_constructor)\n",
    "ptf_processor = PredicateProcessor(ptf_pred_proc_config, ptf_predicate_extractor, norm_updater)"
   ]
  },
  {
   "cell_type": "markdown",
   "metadata": {},
   "source": [
    "### INTEREST_AMOUNT"
   ]
  },
  {
   "cell_type": "code",
   "execution_count": null,
   "metadata": {},
   "outputs": [],
   "source": [
    "from app.src.rules.meat_sale.interest_amount.ia_libs import get_ia_libs\n",
    "\n",
    "ia_libs = get_ia_libs(nlp)\n",
    "ia_currency_extractor = ia_libs['currency_extractor']\n",
    "ia_amount_extractor = ia_libs['amount_extractor']\n",
    "\n",
    "ia_curr_config = DomainPropProcessorConfig(\n",
    "    'events',\n",
    "    'paidLate',\n",
    "    'currency',\n",
    "    'str'\n",
    ")\n",
    "\n",
    "ia_amt_config = DomainPropProcessorConfig(\n",
    "    'events',\n",
    "    'paidLate',\n",
    "    'amount',\n",
    "    'str'\n",
    ")\n",
    "\n",
    "ia_curr_processor = DomainPropProcessor(ia_curr_config, ia_currency_extractor)\n",
    "ia_amt_processor = DomainPropProcessor(ia_amt_config, ia_amount_extractor)"
   ]
  },
  {
   "cell_type": "markdown",
   "metadata": {},
   "source": [
    "### Contract Updater"
   ]
  },
  {
   "cell_type": "code",
   "execution_count": null,
   "metadata": {},
   "outputs": [],
   "source": [
    "from app.src.contract_updater import ContractUpdater, ContractUpdateRequest\n",
    "from app.src.processor_lookup import ProcessorLookup\n",
    "\n",
    "processor_dict = {\n",
    "    'DELIVERY_TIMEFRAME': [dtf_processor],\n",
    "    'DELIVERY_LOCATION': [dl_processor],\n",
    "    'PAYMENT_AMOUNT': [pa_curr_processor, pa_amt_processor], \n",
    "    'PAYMENT_TIMEFRAME': [ptf_processor],\n",
    "    'INTEREST_AMOUNT': [ia_amt_processor, ia_curr_processor]\n",
    "}\n",
    "processor_lookup = ProcessorLookup(processor_dict)\n",
    "\n",
    "contract_updater = ContractUpdater(processor_lookup)\n",
    "\n",
    "contract = contract_template"
   ]
  },
  {
   "cell_type": "code",
   "execution_count": null,
   "metadata": {},
   "outputs": [],
   "source": [
    "customizations = [\n",
    "    ('DELIVERY_TIMEFRAME', 'within 2 weeks'),\n",
    "    ('DELIVERY_LOCATION', 'at the buyer\\'s warehouse'),\n",
    "    ('PAYMENT_AMOUNT', '$100.00 CAD'),\n",
    "    ('PAYMENT_TIMEFRAME', 'before April 17, 2022'),\n",
    "    ('INTEREST_AMOUNT', '10% of the amount owed')\n",
    "]"
   ]
  },
  {
   "cell_type": "code",
   "execution_count": null,
   "metadata": {},
   "outputs": [],
   "source": [
    "for c in customizations:\n",
    "    key = c[0]\n",
    "    value = c[1]\n",
    "    doc = nlp(value)\n",
    "\n",
    "    req = ContractUpdateRequest(contract, key, value, doc)\n",
    "\n",
    "    print(key)\n",
    "    contract = contract_updater.update(req)"
   ]
  },
  {
   "cell_type": "code",
   "execution_count": null,
   "metadata": {},
   "outputs": [],
   "source": [
    "print(contract.to_sym())"
   ]
  }
 ],
 "metadata": {
  "kernelspec": {
   "display_name": "Python 3.9.7 ('sym-env': venv)",
   "language": "python",
   "name": "python3"
  },
  "language_info": {
   "codemirror_mode": {
    "name": "ipython",
    "version": 3
   },
   "file_extension": ".py",
   "mimetype": "text/x-python",
   "name": "python",
   "nbconvert_exporter": "python",
   "pygments_lexer": "ipython3",
   "version": "3.9.7"
  },
  "orig_nbformat": 4,
  "vscode": {
   "interpreter": {
    "hash": "c5aa13c5662b7cd49c2a6a4cb6c712880a857c98a831bc049e568d94e5223a76"
   }
  }
 },
 "nbformat": 4,
 "nbformat_minor": 2
}
