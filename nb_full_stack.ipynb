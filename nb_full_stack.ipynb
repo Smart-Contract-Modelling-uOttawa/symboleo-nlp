{
 "cells": [
  {
   "cell_type": "markdown",
   "metadata": {},
   "source": [
    "### NLP Setup"
   ]
  },
  {
   "cell_type": "code",
   "execution_count": null,
   "metadata": {},
   "outputs": [],
   "source": [
    "import pickle\n",
    "import sys\n",
    "import spacy\n",
    "\n",
    "# Load NLP\n",
    "#sys.path.append('../')\n",
    "\n",
    "with open('./nlp/nlp.pickle', 'rb') as f:\n",
    "    nlp = pickle.load(f)"
   ]
  },
  {
   "cell_type": "markdown",
   "metadata": {},
   "source": [
    "### Import the Template"
   ]
  },
  {
   "cell_type": "code",
   "execution_count": null,
   "metadata": {},
   "outputs": [],
   "source": [
    "from app.templates.meat_sale.nl_template import nl_template\n",
    "\n",
    "obs = nl_template['obligations']\n",
    "\n",
    "print('OBLIGATIONS')\n",
    "for ob in obs:\n",
    "    print(f'{ob}: {obs[ob]}\\n')"
   ]
  },
  {
   "cell_type": "code",
   "execution_count": null,
   "metadata": {},
   "outputs": [],
   "source": [
    "from app.templates.meat_sale.contract_template import get_template\n",
    "\n",
    "contract_template = get_template()\n",
    "\n",
    "print(contract_template.to_sym())"
   ]
  },
  {
   "cell_type": "code",
   "execution_count": null,
   "metadata": {},
   "outputs": [],
   "source": [
    "from app.src.sentence_summarizer import SentenceSummarizer\n",
    "\n",
    "summarizer = SentenceSummarizer(nlp)"
   ]
  },
  {
   "cell_type": "code",
   "execution_count": null,
   "metadata": {},
   "outputs": [],
   "source": [
    "from app.classes.spec.symboleo_spec import PAtom\n",
    "from app.src.graph.graph_builder import GraphBuilder\n",
    "from app.src.graph.graph_visualizer import GraphVisualizer\n",
    "from app.src.dynamic_constructor import DynamicObjectConstructor\n",
    "\n",
    "graph_builder = GraphBuilder()\n",
    "graph_visualizer = GraphVisualizer()\n",
    "\n",
    "digraph = graph_builder.build(PAtom)\n",
    "\n",
    "gv = graph_visualizer.create_viz(digraph.nodes)\n",
    "gv.show('nx.html')\n",
    "\n",
    "dynamic_constructor = DynamicObjectConstructor(digraph)\n"
   ]
  },
  {
   "cell_type": "markdown",
   "metadata": {},
   "source": [
    "### DELIVERY_TIMEFRAME"
   ]
  },
  {
   "cell_type": "code",
   "execution_count": null,
   "metadata": {},
   "outputs": [],
   "source": [
    "from app.src.rules.shared.predicate_processor import PredicateProcessor\n",
    "from app.src.rules.meat_sale.delivery_timeframe.dtf_config import get_dtf_pred_config\n",
    "from app.src.rules.shared.configs import PredicateExtractorConfig, PredicateProcessorConfig\n",
    "from app.src.dynamic_constructor import DynamicObjectConstructor\n",
    "from app.src.rules.shared.predicate_extractor import PredicateExtractor\n",
    "from app.src.norm_proposition_updater import NormPropositionUpdater\n",
    "\n",
    "pred_proc_config = PredicateProcessorConfig(\n",
    "    norm_type = 'obligations',\n",
    "    norm_id = 'delivery',\n",
    "    norm_component = 'consequent',\n",
    ")\n",
    "dtf_predex_config = get_dtf_pred_config(nlp)\n",
    "dynamic_constructor = DynamicObjectConstructor(digraph)\n",
    "norm_updater = NormPropositionUpdater()\n",
    "pred_config = PredicateExtractorConfig\n",
    "predicate_extractor = PredicateExtractor(nlp, dtf_predex_config, dynamic_constructor)\n",
    "dtf_processor = PredicateProcessor(pred_proc_config, predicate_extractor, norm_updater)\n"
   ]
  },
  {
   "cell_type": "markdown",
   "metadata": {},
   "source": [
    "### DELIVERY_LOCATION"
   ]
  },
  {
   "cell_type": "code",
   "execution_count": null,
   "metadata": {},
   "outputs": [],
   "source": [
    "# Want to shift much of this to a setup function or a config...\n",
    "from app.src.rules.shared.domain_prop_processor import DomainPropProcessor\n",
    "from app.src.rules.meat_sale.delivery_location.location_extractor import LocationExtractor\n",
    "from app.src.rules.meat_sale.delivery_location.address_scorer import AddressScorer\n",
    "from app.src.rules.meat_sale.delivery_location.noun_chunk_scorer import NounChunkScorer\n",
    "from app.src.rules.meat_sale.delivery_location.role_scorer import RoleScorer\n",
    "\n",
    "from app.src.rules.meat_sale.delivery_location.address_extractor import AddressExtractor\n",
    "from app.src.rules.meat_sale.delivery_location.role_score_builder import RoleScoreBuilder\n",
    "from app.src.rules.meat_sale.delivery_location.coref_getter import CorefGetter\n",
    "from app.src.rules.meat_sale.delivery_location.matchers import get_matcher\n",
    "from app.src.rules.shared.configs import DomainPropProcessorConfig\n",
    "\n",
    "address_extractor = AddressExtractor()\n",
    "coref_getter = CorefGetter(nlp)\n",
    "\n",
    "init_scores = {\n",
    "    'seller': 0.5,\n",
    "    'buyer': 0.6\n",
    "}\n",
    "role_score_builder = RoleScoreBuilder(nlp, init_scores, coref_getter)\n",
    "\n",
    "scorers = [\n",
    "    AddressScorer(nlp, address_extractor),\n",
    "    NounChunkScorer(nlp),\n",
    "    RoleScorer(nlp, role_score_builder)\n",
    "]\n",
    "\n",
    "matcher = get_matcher(nlp)\n",
    "location_extractor = LocationExtractor(nlp, scorers, matcher)\n",
    "\n",
    "dl_config = DomainPropProcessorConfig(\n",
    "    'events',\n",
    "    'delivered',\n",
    "    'delDueDate',\n",
    "    'str'\n",
    ")\n",
    "\n",
    "dl_processor = DomainPropProcessor(dl_config, location_extractor)"
   ]
  },
  {
   "cell_type": "markdown",
   "metadata": {},
   "source": [
    "### Contract Updater"
   ]
  },
  {
   "cell_type": "code",
   "execution_count": null,
   "metadata": {},
   "outputs": [],
   "source": [
    "from app.src.contract_updater import ContractUpdater, ContractUpdateRequest\n",
    "from app.src.processor_lookup import ProcessorLookup\n",
    "\n",
    "processor_dict = {\n",
    "    'DELIVERY_TIMEFRAME': dtf_processor,\n",
    "    'DELIVERY_LOCATION': dl_processor\n",
    "}\n",
    "processor_lookup = ProcessorLookup(processor_dict)\n",
    "\n",
    "contract_updater = ContractUpdater(processor_lookup)\n"
   ]
  },
  {
   "cell_type": "code",
   "execution_count": null,
   "metadata": {},
   "outputs": [],
   "source": [
    "contract = contract_template"
   ]
  },
  {
   "cell_type": "code",
   "execution_count": null,
   "metadata": {},
   "outputs": [],
   "source": [
    "user_key = 'DELIVERY_TIMEFRAME'\n",
    "user_value = 'within 2 weeks'\n",
    "\n",
    "# user_key = 'DELIVERY_LOCATION'\n",
    "# user_value = 'at the buyer\\'s warehouse'\n",
    "\n",
    "doc = nlp(user_value)"
   ]
  },
  {
   "cell_type": "markdown",
   "metadata": {},
   "source": [
    "### Run"
   ]
  },
  {
   "cell_type": "code",
   "execution_count": null,
   "metadata": {},
   "outputs": [],
   "source": [
    "req = ContractUpdateRequest(\n",
    "    contract, \n",
    "    user_key,\n",
    "    user_value,\n",
    "    doc\n",
    ")\n",
    "contract = contract_updater.update(req)\n",
    "\n",
    "print(contract.to_sym())"
   ]
  },
  {
   "cell_type": "code",
   "execution_count": null,
   "metadata": {},
   "outputs": [],
   "source": []
  }
 ],
 "metadata": {
  "kernelspec": {
   "display_name": "Python 3.9.7 ('base')",
   "language": "python",
   "name": "python3"
  },
  "language_info": {
   "codemirror_mode": {
    "name": "ipython",
    "version": 3
   },
   "file_extension": ".py",
   "mimetype": "text/x-python",
   "name": "python",
   "nbconvert_exporter": "python",
   "pygments_lexer": "ipython3",
   "version": "3.9.7"
  },
  "orig_nbformat": 4,
  "vscode": {
   "interpreter": {
    "hash": "5e1573d6c84447af34afea73405281252e0fe9e7aa5b16df75ea480bceab155a"
   }
  }
 },
 "nbformat": 4,
 "nbformat_minor": 2
}
