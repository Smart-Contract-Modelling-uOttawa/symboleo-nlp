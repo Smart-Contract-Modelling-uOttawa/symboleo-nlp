{
 "cells": [
  {
   "attachments": {},
   "cell_type": "markdown",
   "metadata": {},
   "source": [
    "## NLP Setup"
   ]
  },
  {
   "cell_type": "code",
   "execution_count": null,
   "metadata": {},
   "outputs": [],
   "source": [
    "import pickle\n",
    "import sys\n",
    "import spacy\n",
    "\n",
    "# Load NLP\n",
    "#sys.path.append('../')\n",
    "\n",
    "with open('./nlp/nlp.pickle', 'rb') as f:\n",
    "    nlp = pickle.load(f)"
   ]
  },
  {
   "cell_type": "code",
   "execution_count": null,
   "metadata": {},
   "outputs": [],
   "source": [
    "from app.classes.spec.symboleo_contract import SymboleoContract\n",
    "from app.src.operations.contract_updater_builder import ContractUpdaterBuilder\n",
    "from app.src.operations.dependency_builder import DependencyBuilder\n",
    "from app.src.pattern_builder.pattern_builder_constructor import PatternBuilderConstructor\n",
    "from app.src.operations.pattern_class_resolver import PatternClassResolver\n",
    "from app.classes.spec.norm_config import NormConfig\n",
    "\n",
    "from app.classes.pattern_classes.pattern_class import EventPatternClass\n",
    "from app.classes.events.custom_event.custom_event import CustomEvent\n",
    "\n",
    "from app.src.norm_update_extractor.handlers.norm_update_handler_dict import NormUpdateHandlerDictBuilder\n",
    "from app.src.norm_update_extractor.norm_update_extractor import NormUpdateExtractor\n",
    "from app.src.domain_update_extractor.domain_update_extractor_builder import DomainUpdateExtractorBuilder"
   ]
  },
  {
   "cell_type": "code",
   "execution_count": null,
   "metadata": {},
   "outputs": [],
   "source": [
    "from tests.test_suites.isolated_test_cases.porex import test_case"
   ]
  },
  {
   "cell_type": "code",
   "execution_count": null,
   "metadata": {},
   "outputs": [],
   "source": [
    "deps = DependencyBuilder.build(fake=True)\n",
    "#self.updater = ContractUpdaterBuilder.build(deps)\n",
    "pattern_builder = PatternBuilderConstructor.construct(deps)\n",
    "pattern_resolver = PatternClassResolver()\n",
    "handler_dict = NormUpdateHandlerDictBuilder.build()\n",
    "norm_update_extractor = NormUpdateExtractor(handler_dict)\n",
    "domain_update_extractor = DomainUpdateExtractorBuilder.build(deps)"
   ]
  },
  {
   "cell_type": "code",
   "execution_count": null,
   "metadata": {},
   "outputs": [],
   "source": [
    "\n",
    "config = test_case.update_config\n",
    "contract = test_case.init_sym\n",
    "\n",
    "norm_configs = contract.get_norm_configs_by_key(config.nl_key, config.parm_key)\n",
    "norm_config = norm_configs[0]\n",
    "\n",
    "user_input = test_case.update_config.user_inputs\n",
    "\n",
    "pattern_classes = pattern_builder.build(user_input, contract)\n",
    "\n",
    "pattern_class:EventPatternClass = pattern_resolver.resolve(pattern_classes, norm_config)\n",
    "\n",
    "pattern_class.val_dict"
   ]
  },
  {
   "cell_type": "code",
   "execution_count": null,
   "metadata": {},
   "outputs": [],
   "source": [
    "domain_updates = domain_update_extractor.extract(pattern_class, contract)\n",
    "\n",
    "for dec in domain_updates.declarations:\n",
    "    dec.print_me()\n",
    "\n",
    "for dm in domain_updates.domain_objects:\n",
    "    print(dm.to_sym())\n",
    "\n",
    "\n"
   ]
  },
  {
   "cell_type": "code",
   "execution_count": null,
   "metadata": {},
   "outputs": [],
   "source": [
    "norm_updates = norm_update_extractor.extract(pattern_class, norm_config)\n",
    "\n",
    "for x in norm_updates:\n",
    "    print(x.to_sym())"
   ]
  },
  {
   "cell_type": "code",
   "execution_count": null,
   "metadata": {},
   "outputs": [],
   "source": []
  }
 ],
 "metadata": {
  "kernelspec": {
   "display_name": "Python 3.9.7 ('sym-env': venv)",
   "language": "python",
   "name": "python3"
  },
  "language_info": {
   "codemirror_mode": {
    "name": "ipython",
    "version": 3
   },
   "file_extension": ".py",
   "mimetype": "text/x-python",
   "name": "python",
   "nbconvert_exporter": "python",
   "pygments_lexer": "ipython3",
   "version": "3.9.7"
  },
  "orig_nbformat": 4,
  "vscode": {
   "interpreter": {
    "hash": "c5aa13c5662b7cd49c2a6a4cb6c712880a857c98a831bc049e568d94e5223a76"
   }
  }
 },
 "nbformat": 4,
 "nbformat_minor": 2
}
