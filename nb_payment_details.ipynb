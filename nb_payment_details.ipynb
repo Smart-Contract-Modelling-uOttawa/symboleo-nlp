{
 "cells": [
  {
   "cell_type": "markdown",
   "metadata": {},
   "source": [
    "## NLP Setup"
   ]
  },
  {
   "cell_type": "code",
   "execution_count": null,
   "metadata": {},
   "outputs": [],
   "source": [
    "import pickle\n",
    "import sys\n",
    "import spacy\n",
    "\n",
    "# Load NLP\n",
    "#sys.path.append('../')\n",
    "\n",
    "with open('./nlp/nlp.pickle', 'rb') as f:\n",
    "    nlp = pickle.load(f)\n",
    "\n",
    "print(nlp.pipe_names)"
   ]
  },
  {
   "cell_type": "code",
   "execution_count": null,
   "metadata": {},
   "outputs": [],
   "source": [
    "from app.templates.meat_sale.domain_model_template import meat_sale_domain_model_template as dm\n",
    "from app.templates.meat_sale.contract_spec_template import meat_sale_contract_spec_template as cs\n",
    "from app.src.sentence_summarizer import SentenceSummarizer\n",
    "\n",
    "summarizer = SentenceSummarizer(nlp)\n",
    "\n",
    "ob = cs.obligations['payment']\n",
    "ob.to_sym()"
   ]
  },
  {
   "cell_type": "code",
   "execution_count": null,
   "metadata": {},
   "outputs": [],
   "source": [
    "from app.templates.meat_sale.contract_template import get_template\n",
    "\n",
    "contract_template = get_template()"
   ]
  },
  {
   "cell_type": "code",
   "execution_count": null,
   "metadata": {},
   "outputs": [],
   "source": [
    "# <amt> (“amount”) in <curr> (“currency”)\n",
    "# 100 USD\n",
    "# 99.30 CAD \n",
    "test_suite = [\n",
    "    ['$10.50 in USD', 'USD'], \n",
    "    ['$2000 USD', 'USD'], \n",
    "    ['500 CAD', 'CAD'], \n",
    "    ['$500.00 CAD', 'CAD'], \n",
    "    ['USD 787', 'USD'], \n",
    "    #...\n",
    "]\n",
    "\n",
    "index = 4\n",
    "sentence = test_suite[index][0]\n",
    "\n",
    "doc = nlp(sentence)\n",
    "\n",
    "summarizer.summarize(sentence)"
   ]
  },
  {
   "cell_type": "code",
   "execution_count": null,
   "metadata": {},
   "outputs": [],
   "source": [
    "from app.src.rules.meat_sale.payment_amount.score_based_extractor import ScoreBasedExtractor\n",
    "from app.src.rules.meat_sale.delivery_location.basic_scorer import BasicScorer\n",
    "from app.src.rules.meat_sale.payment_amount.currency_scorer import CurrencyScorer\n",
    "from app.src.rules.meat_sale.payment_amount.matchers import get_validation_matcher\n",
    "from app.src.rules.shared.match_validator import MatchValidator\n",
    "\n",
    "key = 'PAYMENT_AMOUNT'\n",
    "\n",
    "matcher = get_validation_matcher(nlp)\n",
    "\n",
    "validator = MatchValidator(matcher)\n",
    "\n",
    "allowed_currs = ['USD', 'CAD'] # Get this from the domain model\n",
    "currency_scorer = CurrencyScorer(allowed_currs)\n",
    "\n",
    "currency_scorers = [\n",
    "    BasicScorer('X', 0),\n",
    "    currency_scorer\n",
    "]\n",
    "\n",
    "currency_extractor = ScoreBasedExtractor(nlp, validator, currency_scorers)\n",
    "\n"
   ]
  },
  {
   "cell_type": "code",
   "execution_count": null,
   "metadata": {},
   "outputs": [],
   "source": [
    "from app.classes.contract_update_request import ContractUpdateRequest\n",
    "\n",
    "req = ContractUpdateRequest(\n",
    "    contract_template,\n",
    "    key,\n",
    "    sentence,\n",
    "    doc\n",
    ")\n",
    "\n",
    "currency = currency_extractor.extract(req)"
   ]
  },
  {
   "cell_type": "code",
   "execution_count": null,
   "metadata": {},
   "outputs": [],
   "source": [
    "print(currency)"
   ]
  },
  {
   "cell_type": "code",
   "execution_count": null,
   "metadata": {},
   "outputs": [],
   "source": [
    "from app.src.rules.meat_sale.payment_amount.amount_scorer import AmountScorer\n",
    "\n",
    "amount_scorer = AmountScorer(nlp)\n",
    "\n",
    "amount_scorers = [\n",
    "    BasicScorer('0', 0),\n",
    "    amount_scorer\n",
    "]\n",
    "\n",
    "amount_extractor = ScoreBasedExtractor(nlp, validator, amount_scorers)"
   ]
  },
  {
   "cell_type": "code",
   "execution_count": null,
   "metadata": {},
   "outputs": [],
   "source": [
    "req = ContractUpdateRequest(\n",
    "    contract_template,\n",
    "    key,\n",
    "    sentence,\n",
    "    doc\n",
    ")\n",
    "\n",
    "amount = amount_extractor.extract(req)"
   ]
  },
  {
   "cell_type": "code",
   "execution_count": null,
   "metadata": {},
   "outputs": [],
   "source": [
    "print(amount)"
   ]
  }
 ],
 "metadata": {
  "kernelspec": {
   "display_name": "Python 3.9.7 ('sym-env': venv)",
   "language": "python",
   "name": "python3"
  },
  "language_info": {
   "codemirror_mode": {
    "name": "ipython",
    "version": 3
   },
   "file_extension": ".py",
   "mimetype": "text/x-python",
   "name": "python",
   "nbconvert_exporter": "python",
   "pygments_lexer": "ipython3",
   "version": "3.9.7"
  },
  "orig_nbformat": 4,
  "vscode": {
   "interpreter": {
    "hash": "c5aa13c5662b7cd49c2a6a4cb6c712880a857c98a831bc049e568d94e5223a76"
   }
  }
 },
 "nbformat": 4,
 "nbformat_minor": 2
}
