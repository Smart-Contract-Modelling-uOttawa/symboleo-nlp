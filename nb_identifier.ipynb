{
 "cells": [
  {
   "cell_type": "markdown",
   "metadata": {},
   "source": [
    "## NLP Setup"
   ]
  },
  {
   "cell_type": "code",
   "execution_count": 1,
   "metadata": {},
   "outputs": [],
   "source": [
    "import pickle\n",
    "import sys\n",
    "import spacy\n",
    "from spacy import displacy\n",
    "import benepar"
   ]
  },
  {
   "cell_type": "code",
   "execution_count": 2,
   "metadata": {},
   "outputs": [
    {
     "name": "stderr",
     "output_type": "stream",
     "text": [
      "[nltk_data] Downloading package benepar_en3 to\n",
      "[nltk_data]     C:\\Users\\regan\\AppData\\Roaming\\nltk_data...\n",
      "[nltk_data]   Package benepar_en3 is already up-to-date!\n"
     ]
    }
   ],
   "source": [
    "# Set up and store NLP\n",
    "nlp = spacy.load(\"en_core_web_md\")\n",
    "benepar.download('benepar_en3')\n",
    "nlp.add_pipe('benepar', config={'model': 'benepar_en3'})\n",
    "\n",
    "with open('./nlp/nlp.pickle', 'wb') as f:\n",
    "    pickle.dump(nlp, f)"
   ]
  },
  {
   "cell_type": "code",
   "execution_count": 3,
   "metadata": {},
   "outputs": [],
   "source": [
    "# Load NLP\n",
    "#sys.path.append('../')\n",
    "\n",
    "with open('./nlp/nlp.pickle', 'rb') as f:\n",
    "    nlp = pickle.load(f)"
   ]
  },
  {
   "cell_type": "markdown",
   "metadata": {},
   "source": [
    "## Set up identifiers"
   ]
  },
  {
   "cell_type": "code",
   "execution_count": 4,
   "metadata": {},
   "outputs": [],
   "source": [
    "from app.src.sentence_summarizer import SentenceSummarizer\n",
    "summarizer = SentenceSummarizer(nlp)"
   ]
  },
  {
   "cell_type": "code",
   "execution_count": 5,
   "metadata": {},
   "outputs": [
    {
     "name": "stderr",
     "output_type": "stream",
     "text": [
      "[nltk_data] Downloading package omw-1.4 to\n",
      "[nltk_data]     C:\\Users\\regan\\AppData\\Roaming\\nltk_data...\n",
      "[nltk_data]   Package omw-1.4 is already up-to-date!\n"
     ]
    }
   ],
   "source": [
    "from app.src.primitive_identifiers.dicts.event_dict_set_builder import EventDictSetBuilder\n",
    "\n",
    "all_event_dicts = EventDictSetBuilder.build_all()"
   ]
  },
  {
   "cell_type": "code",
   "execution_count": 6,
   "metadata": {},
   "outputs": [],
   "source": [
    "from app.src.primitive_extractor import PrimitiveExtractor\n",
    "from app.src.primitive_identifiers.obligation_event_identifier import ObligationEventIdentifier\n",
    "from app.src.primitive_identifiers.power_event_identifier import PowerEventIdentifier\n",
    "from app.src.primitive_identifiers.contract_event_identifier import ContractEventIdentifier\n",
    "from app.src.primitive_identifiers.obligation_state_identifier import ObligationStateIdentifier\n",
    "from app.src.primitive_identifiers.power_state_identifier import PowerStateIdentifier\n",
    "from app.src.primitive_identifiers.contract_state_identifier import ContractStateIdentifier\n",
    "from app.src.primitive_identifiers.event_scorer import EventScorer\n",
    "from app.src.primitive_identifiers.primitive_identifier import IIdentifyPrimitives\n",
    "from app.src.primitive_identifiers.state_name_scorer import StateNameScorer\n",
    "from app.src.primitive_identifiers.variable_scorer import VariableScorer\n",
    "from app.src.primitive_identifiers.similarity_calculator import SentenceSimilarityCalculator\n",
    "from app.src.primitive_identifiers.sentence_preprocessor import SentencePreprocessor\n",
    "from app.templates.meat_sale.templates import meat_sale_templates\n",
    "\n",
    "preprocessor = SentencePreprocessor(nlp)\n",
    "similarity_calculator = SentenceSimilarityCalculator(preprocessor)\n",
    "\n",
    "# ObligationEvent\n",
    "ob_event_scorer = EventScorer(all_event_dicts['obligation'])\n",
    "obligation_sent_dict = meat_sale_templates['obligations']\n",
    "ob_var_scorer = VariableScorer(nlp, obligation_sent_dict, similarity_calculator)\n",
    "oe_identifier = ObligationEventIdentifier(ob_event_scorer, ob_var_scorer)\n",
    "\n",
    "# PowerEvent\n",
    "power_event_scorer = EventScorer(all_event_dicts['power'])\n",
    "power_sent_dict = meat_sale_templates['powers']\n",
    "power_var_scorer = VariableScorer(nlp, power_sent_dict, similarity_calculator)\n",
    "pe_identifier = PowerEventIdentifier(power_event_scorer, power_var_scorer)\n",
    "\n",
    "# ContractEvent\n",
    "c_event_scorer = EventScorer(all_event_dicts['contract'])\n",
    "ce_identifier = ContractEventIdentifier(c_event_scorer)\n",
    "\n",
    "ident_list: list[IIdentifyPrimitives] = [\n",
    "    oe_identifier,\n",
    "    pe_identifier,\n",
    "    ce_identifier,\n",
    "]\n",
    "\n",
    "primitive_extractor = PrimitiveExtractor(ident_list)\n"
   ]
  },
  {
   "cell_type": "code",
   "execution_count": 8,
   "metadata": {},
   "outputs": [
    {
     "name": "stderr",
     "output_type": "stream",
     "text": [
      "c:\\Users\\regan\\anaconda3\\lib\\site-packages\\torch\\distributions\\distribution.py:44: UserWarning: <class 'torch_struct.distributions.TreeCRF'> does not define `arg_constraints`. Please set `arg_constraints = {}` or initialize the distribution with `validate_args=False` to turn off validation.\n",
      "  warnings.warn(f'{self.__class__} does not define `arg_constraints`. ' +\n"
     ]
    },
    {
     "name": "stdout",
     "output_type": "stream",
     "text": [
      "<class 'app.classes.spec.sym_event.ObligationEvent'>\n",
      "0.797\n",
      "<class 'app.classes.spec.sym_event.PowerEvent'>\n",
      "0.765\n",
      "<class 'app.classes.spec.sym_event.ContractEvent'>\n",
      "0.7\n"
     ]
    }
   ],
   "source": [
    "\n",
    "test_sentence = 'seller has resumed delivery of goods'\n",
    "\n",
    "summarizer.summarize(test_sentence)\n",
    "\n",
    "doc = nlp(test_sentence)\n",
    "\n",
    "results = primitive_extractor.extract(doc)\n",
    "\n",
    "for x in ident_list:\n",
    "    next_res = x.identify(doc)\n",
    "    print(type(next_res.primitive))\n",
    "    print(next_res.score)\n"
   ]
  }
 ],
 "metadata": {
  "kernelspec": {
   "display_name": "Python 3.9.7 ('base')",
   "language": "python",
   "name": "python3"
  },
  "language_info": {
   "codemirror_mode": {
    "name": "ipython",
    "version": 3
   },
   "file_extension": ".py",
   "mimetype": "text/x-python",
   "name": "python",
   "nbconvert_exporter": "python",
   "pygments_lexer": "ipython3",
   "version": "3.9.7"
  },
  "orig_nbformat": 4,
  "vscode": {
   "interpreter": {
    "hash": "5e1573d6c84447af34afea73405281252e0fe9e7aa5b16df75ea480bceab155a"
   }
  }
 },
 "nbformat": 4,
 "nbformat_minor": 2
}
