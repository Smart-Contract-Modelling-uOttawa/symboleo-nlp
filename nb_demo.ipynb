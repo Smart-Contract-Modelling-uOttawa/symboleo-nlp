{
 "cells": [
  {
   "cell_type": "code",
   "execution_count": 1,
   "metadata": {},
   "outputs": [
    {
     "name": "stdout",
     "output_type": "stream",
     "text": [
      "\n",
      "DOMAIN MODEL:\n",
      "== Roles ==\n",
      "seller: seller\n",
      "- address (str): 123 Main street\n",
      "\n",
      "buyer: buyer\n",
      "- warehouse (str): 999 Central Ave\n",
      "\n",
      "\n",
      "== Assets ==\n",
      "perishableGood: perishableGood (None)\n",
      "- quantity (number): \n",
      "- quality (MeatQuality): \n",
      "\n",
      "meat: meat (perishableGood)\n",
      "\n",
      "\n",
      "== Events ==\n",
      "delivered: delivered\n",
      "- item (meat): meat\n",
      "\n",
      "paid: paid\n",
      "- from (Role): buyer\n",
      "- to (Role): seller\n",
      "\n",
      "paidLate: paidLate\n",
      "- from (Role): buyer\n",
      "- to (Role): seller\n",
      "\n",
      "disclosed: disclosed\n",
      "\n",
      "\n",
      "\n",
      "CONTRACT SPEC:\n",
      "\n",
      "== Obligations ==\n",
      "delivery: O(seller, buyer, true, Happens(delivered))\n",
      "\n",
      "payment: O(buyer, seller, true, Happens(paid))\n",
      "\n",
      "latePayment: Happens(Violated(obligations.payment)) -> O(buyer, seller, true, Happens(paidLate))\n",
      "\n",
      "disclosure1: O(seller, buyer, true, not Happens(disclosed))\n",
      "\n",
      "disclosure2: O(buyer, seller, true, not Happens(disclosed))\n",
      "\n",
      "\n",
      "== Powers ==\n",
      "suspendDelivery: P(seller, buyer, true, Suspended(obligations.delivery))\n",
      "\n",
      "resumeDelivery: Happens(NEVER) -> P(buyer, seller, true, Resumed(obligations.delivery))\n",
      "\n",
      "terminateContract: Occurs(Violation(obligations.delivery), NEVER) -> P(buyer, seller, true, Terminated(self))\n",
      "\n",
      "\n"
     ]
    }
   ],
   "source": [
    "# Get the template\n",
    "from app.src.helpers.template_getter import get_template\n",
    "contract = get_template('meat_sale')\n",
    "\n",
    "print(contract.to_sym())"
   ]
  },
  {
   "cell_type": "code",
   "execution_count": 2,
   "metadata": {},
   "outputs": [
    {
     "name": "stdout",
     "output_type": "stream",
     "text": [
      "== OBLIGATIONS ==\n",
      "- delivery: The Seller shall deliver the Order in one delivery to the Buyer [DELIVERY_REFINEMENT]\n",
      "\n",
      "- delivery_old: The Seller shall deliver the Order in one delivery [DELIVERY_TIMEFRAME] to the Buyer [DELIVERY_LOCATION]\n",
      "\n",
      "- payment: The Buyer shall pay [PAYMENT_DETAILS] to the Seller [PAYMENT_TIMEFRAME].\n",
      "\n",
      "- latePayment: In the event of late payment of the amount owed due, the Buyer shall pay interests equal to [INTEREST_DETAILS]\n",
      "\n",
      "- disclosure: Both Seller and Buyer must keep the contents of this contract confidential [CONFIDENTIALITY_TIMEFRAME]\n",
      "\n",
      "== POWERS ==\n",
      "- suspendResumeDelivery: [DELIVERY_SUSPENSION_CONDITION] the Seller may suspend performance of all of its obligations under the agreement [DELIVERY_RESUMPTION_CONDITION]\n",
      "\n",
      "- terminateContract: Any delay in delivery of the goods will not entitle the Buyer to terminate the Contract [TERMINATION_CONDITION]\n",
      "\n"
     ]
    }
   ],
   "source": [
    "obs = contract.template_strings['obligations']\n",
    "pows = contract.template_strings['powers']\n",
    "\n",
    "print('== OBLIGATIONS ==')\n",
    "for x in obs:\n",
    "    print(f'- {x}: {obs[x]}\\n')\n",
    "\n",
    "print('== POWERS ==')\n",
    "for x in pows:\n",
    "    print(f'- {x}: {pows[x]}\\n')"
   ]
  },
  {
   "cell_type": "code",
   "execution_count": 3,
   "metadata": {},
   "outputs": [
    {
     "name": "stdout",
     "output_type": "stream",
     "text": [
      "1 - DELIVERY_REFINEMENT\n",
      "2 - DELIVERY_TIMEFRAME\n",
      "3 - DELIVERY_LOCATION\n",
      "4 - PAYMENT_DETAILS\n",
      "5 - PAYMENT_TIMEFRAME\n",
      "6 - INTEREST_DETAILS\n",
      "7 - CONFIDENTIALITY_TIMEFRAME\n",
      "8 - DELIVERY_SUSPENSION_CONDITION\n",
      "9 - DELIVERY_RESUMPTION_CONDITION\n",
      "10 - TERMINATION_CONDITION\n",
      "\n",
      "Parameter: DELIVERY_REFINEMENT\n"
     ]
    }
   ],
   "source": [
    "# Select the parameter\n",
    "from app.templates.meat_sale.nl_template import parameters\n",
    "\n",
    "pki_dict = {i+1: pk for i,pk in enumerate(parameters)}\n",
    "\n",
    "for pki in pki_dict:\n",
    "    print(f'{pki} - {pki_dict[pki]}')\n",
    "\n",
    "selected_pki = input('Select a parameter: ')\n",
    "selected_pk = pki_dict[int(selected_pki)]\n",
    "selected_parm = parameters[selected_pk][0]\n",
    "\n",
    "print(f'\\nParameter: {selected_pk}')\n",
    "\n",
    "# The selected parameter will trigger some other things, e.g. which grammar/frameset to use...\n"
   ]
  },
  {
   "cell_type": "code",
   "execution_count": 4,
   "metadata": {},
   "outputs": [
    {
     "name": "stdout",
     "output_type": "stream",
     "text": [
      "Default Event: delivered\n"
     ]
    }
   ],
   "source": [
    "from app.src.operations.helpers.default_event_getter import DefaultEventGetter\n",
    "\n",
    "# Extract the default event\n",
    "deg = DefaultEventGetter()\n",
    "\n",
    "# Handle the case where there is none...\n",
    "default_event = deg.get(contract.contract_spec, selected_parm.config)\n",
    "\n",
    "print(f'Default Event: {default_event.to_sym()}')\n"
   ]
  },
  {
   "cell_type": "code",
   "execution_count": null,
   "metadata": {},
   "outputs": [],
   "source": [
    "#default_event = None"
   ]
  },
  {
   "cell_type": "code",
   "execution_count": 5,
   "metadata": {},
   "outputs": [],
   "source": [
    "from app.src.operations.configs import OpCode\n",
    "from app.src.grammar.grammar_generator import GrammarGenerator\n",
    "from app.src.grammar.grammar_config import GrammarGeneratorConfig\n",
    "\n",
    "# Generate the grammar from the contract template\n",
    "gg = GrammarGenerator()\n",
    "\n",
    "# These should probably come from the parameter...\n",
    "op_codes = [OpCode.ADD_TRIGGER, OpCode.REFINE_PREDICATE] \n",
    "\n",
    "grammar_config = GrammarGeneratorConfig(op_codes)\n",
    "\n",
    "grammar_root = gg.generate(contract, grammar_config)\n"
   ]
  },
  {
   "cell_type": "code",
   "execution_count": 6,
   "metadata": {},
   "outputs": [
    {
     "name": "stdout",
     "output_type": "stream",
     "text": [
      "\n",
      "Choose an option:\n",
      "- 1 if\n",
      "- 2 before\n",
      "- 3 after\n",
      "- 4 within\n",
      "\n",
      "Choose an option:\n",
      "- 1 Enter a date\n",
      "- 2 Describe an event\n"
     ]
    }
   ],
   "source": [
    "from app.src.grammar.grammar_selector import GrammarSelector\n",
    "from app.src.grammar.manual_node_selector import ManualGrammarNodeSelector\n",
    "\n",
    "# Run the selection so the user can choose the text\n",
    "inner_selector = ManualGrammarNodeSelector()\n",
    "gs = GrammarSelector(inner_selector)\n",
    "selection = gs.select(grammar_root)"
   ]
  },
  {
   "cell_type": "code",
   "execution_count": 7,
   "metadata": {},
   "outputs": [
    {
     "name": "stdout",
     "output_type": "stream",
     "text": [
      "<class 'app.classes.frames.after_date_frame.AfterDateFrame'> after 2022/02/23\n"
     ]
    }
   ],
   "source": [
    "from app.src.frames.frame_checker_constuctor import FrameCheckerConstructor\n",
    "\n",
    "frame_checker = FrameCheckerConstructor.construct()\n",
    "frames = frame_checker.check_all_frames(selection.nodes)\n",
    "\n",
    "for x in frames:\n",
    "    print(type(x), x.to_text())\n",
    "\n",
    "main_frame = frames[0]\n",
    "op_code = main_frame.op_code"
   ]
  },
  {
   "cell_type": "code",
   "execution_count": 8,
   "metadata": {},
   "outputs": [
    {
     "name": "stdout",
     "output_type": "stream",
     "text": [
      "HappensAfter(delivered, 2022/02/23)\n"
     ]
    }
   ],
   "source": [
    "# Generate the Symboleo\n",
    "symboleo_obj = selection.to_obj(default_event)\n",
    "print(symboleo_obj.to_sym())"
   ]
  },
  {
   "cell_type": "code",
   "execution_count": 9,
   "metadata": {},
   "outputs": [],
   "source": [
    "# Updating\n",
    "from app.src.operations.contract_updater_builder import ContractUpdaterBuilder\n",
    "\n",
    "contract_updater = ContractUpdaterBuilder.build()\n",
    "\n",
    "updated_contract = contract_updater.update(op_code, contract, symboleo_obj, selected_parm.config)\n"
   ]
  },
  {
   "cell_type": "code",
   "execution_count": 10,
   "metadata": {},
   "outputs": [
    {
     "name": "stdout",
     "output_type": "stream",
     "text": [
      "\n",
      "DOMAIN MODEL:\n",
      "== Roles ==\n",
      "seller: seller\n",
      "- address (str): 123 Main street\n",
      "\n",
      "buyer: buyer\n",
      "- warehouse (str): 999 Central Ave\n",
      "\n",
      "\n",
      "== Assets ==\n",
      "perishableGood: perishableGood (None)\n",
      "- quantity (number): \n",
      "- quality (MeatQuality): \n",
      "\n",
      "meat: meat (perishableGood)\n",
      "\n",
      "\n",
      "== Events ==\n",
      "delivered: delivered\n",
      "- item (meat): meat\n",
      "\n",
      "paid: paid\n",
      "- from (Role): buyer\n",
      "- to (Role): seller\n",
      "\n",
      "paidLate: paidLate\n",
      "- from (Role): buyer\n",
      "- to (Role): seller\n",
      "\n",
      "disclosed: disclosed\n",
      "\n",
      "\n",
      "\n",
      "CONTRACT SPEC:\n",
      "\n",
      "== Obligations ==\n",
      "delivery: O(seller, buyer, true, HappensAfter(delivered, 2022/02/23))\n",
      "\n",
      "payment: O(buyer, seller, true, Happens(paid))\n",
      "\n",
      "latePayment: Happens(Violated(obligations.payment)) -> O(buyer, seller, true, Happens(paidLate))\n",
      "\n",
      "disclosure1: O(seller, buyer, true, not Happens(disclosed))\n",
      "\n",
      "disclosure2: O(buyer, seller, true, not Happens(disclosed))\n",
      "\n",
      "\n",
      "== Powers ==\n",
      "suspendDelivery: P(seller, buyer, true, Suspended(obligations.delivery))\n",
      "\n",
      "resumeDelivery: Happens(NEVER) -> P(buyer, seller, true, Resumed(obligations.delivery))\n",
      "\n",
      "terminateContract: Occurs(Violation(obligations.delivery), NEVER) -> P(buyer, seller, true, Terminated(self))\n",
      "\n",
      "\n"
     ]
    }
   ],
   "source": [
    "print(updated_contract.to_sym())"
   ]
  },
  {
   "cell_type": "code",
   "execution_count": null,
   "metadata": {},
   "outputs": [],
   "source": []
  }
 ],
 "metadata": {
  "kernelspec": {
   "display_name": "Python 3.9.7 ('sym-env': venv)",
   "language": "python",
   "name": "python3"
  },
  "language_info": {
   "codemirror_mode": {
    "name": "ipython",
    "version": 3
   },
   "file_extension": ".py",
   "mimetype": "text/x-python",
   "name": "python",
   "nbconvert_exporter": "python",
   "pygments_lexer": "ipython3",
   "version": "3.9.7"
  },
  "orig_nbformat": 4,
  "vscode": {
   "interpreter": {
    "hash": "c5aa13c5662b7cd49c2a6a4cb6c712880a857c98a831bc049e568d94e5223a76"
   }
  }
 },
 "nbformat": 4,
 "nbformat_minor": 2
}
