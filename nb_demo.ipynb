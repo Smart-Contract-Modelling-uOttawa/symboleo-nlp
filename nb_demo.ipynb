{
 "cells": [
  {
   "cell_type": "code",
   "execution_count": null,
   "metadata": {},
   "outputs": [],
   "source": [
    "# Setup\n",
    "import nltk \n",
    "nltk.download('framenet_v17')"
   ]
  },
  {
   "cell_type": "code",
   "execution_count": 9,
   "metadata": {},
   "outputs": [
    {
     "name": "stdout",
     "output_type": "stream",
     "text": [
      "[]\n"
     ]
    }
   ],
   "source": [
    "from app.src.frames.frame_checker_constuctor import FrameCheckerConstructor\n",
    "from app.classes.grammar.selected_nodes.all_nodes import *\n",
    "\n",
    "frame_checker = FrameCheckerConstructor.construct()\n",
    "\n",
    "node_list = [\n",
    "            RootNode('', 0),\n",
    "            BeforeNode('', 0),\n",
    "            EventNode('', 0),\n",
    "            DomainEventNode('',0),\n",
    "            DomainEventNameNode('', 0, 'occupy')\n",
    "        ]\n",
    "\n",
    "res = frame_checker.check_all_frames(node_list)\n",
    "\n",
    "print(res)"
   ]
  },
  {
   "cell_type": "code",
   "execution_count": null,
   "metadata": {},
   "outputs": [],
   "source": [
    "# Get the template\n",
    "from typing import Dict\n",
    "from app.src.helpers.template_getter import get_template\n",
    "contract = get_template('rental_t')\n",
    "\n",
    "parameter_dict: Dict[str,str] = {}\n",
    "\n",
    "contract.print_all_strings()"
   ]
  },
  {
   "cell_type": "code",
   "execution_count": null,
   "metadata": {},
   "outputs": [],
   "source": [
    "#print(contract.to_sym())"
   ]
  },
  {
   "cell_type": "code",
   "execution_count": null,
   "metadata": {},
   "outputs": [],
   "source": [
    "# User chooses the operation\n",
    "ops_dict = {\n",
    "    1: 'Customize a Parameter',\n",
    "    2: 'Add a termination condition',\n",
    "    3: 'Add a new domain event'\n",
    "}\n",
    "\n",
    "for opi in ops_dict:\n",
    "    print(f'{opi} - {ops_dict[opi]}')\n",
    "    \n",
    "selected_op = int(input('Select an operation: '))\n",
    "\n",
    "\n",
    "print(f'\\nSelected operation: {ops_dict[selected_op]}\\n')"
   ]
  },
  {
   "cell_type": "code",
   "execution_count": null,
   "metadata": {},
   "outputs": [],
   "source": [
    "import nltk\n",
    "from nltk.corpus import framenet as fn\n",
    "\n",
    "from app.src.nlp.domain_event_creator import DomainEventCreator\n",
    "from app.src.operations.dm_object_adder import DomainObjectAdder\n",
    "from app.src.helpers.declarer import Declarer\n",
    "from app.src.operations.declaration_adder import DeclarationAdder\n",
    "\n",
    "if selected_op == '3':\n",
    "    print('Adding a new domain event')\n",
    "    dmc = DomainEventCreator(fn, contract.domain_model)\n",
    "    domain_event = dmc.create()\n",
    "\n",
    "    dm_adder = DomainObjectAdder()\n",
    "    contract = dm_adder.add('events', contract, domain_event)\n",
    "\n",
    "    print('\\nInstantiating the event')\n",
    "    declaration = Declarer.declare_input(contract, domain_event, 'events')\n",
    "\n",
    "    # Will need to add to the declaration - separate operation\n",
    "    declaration_adder = DeclarationAdder()\n",
    "    contract = declaration_adder.add(contract, declaration)\n",
    "\n",
    "\n"
   ]
  },
  {
   "cell_type": "code",
   "execution_count": null,
   "metadata": {},
   "outputs": [],
   "source": [
    "from app.src.operations.configs import ParameterConfig, ParameterSpec, OpCode\n",
    "from app.src.operations.norm_adder import NormAdder\n",
    "from app.classes.spec.prop_maker import PropMaker\n",
    "from app.classes.spec.contract_spec import Power\n",
    "from app.classes.spec.p_atoms import PAtomPredicateTrueLiteral\n",
    "from app.classes.spec.power_function import PowerFunction, PFContract, PFContractName\n",
    "\n",
    "# Adding a new termination power\n",
    "if selected_op == '2':\n",
    "    print('Adding termination condition')\n",
    "\n",
    "    # Collect relevant user input (debtor, id)\n",
    "    user_id = input('Enter an identifier: ')\n",
    "    print('Choose which role has the power to terminate the contract:')\n",
    "\n",
    "    roles = list(contract.domain_model.roles.keys())\n",
    "    print(roles)\n",
    "    for i,x in enumerate(roles):\n",
    "        print(f'{i+1}: {x}')\n",
    "    debtor_key = int(input('-- Enter #: ')) - 1\n",
    "\n",
    "    debtor = roles[debtor_key]\n",
    "    creditor = roles[1 - debtor_key]\n",
    "    norm_id = f'termination_{user_id}'\n",
    "    \n",
    "    # Add the triggerless power\n",
    "    new_power = Power(norm_id, None, debtor, creditor, PAtomPredicateTrueLiteral(), PFContract(PFContractName.Terminated))\n",
    "    norm_adder = NormAdder()\n",
    "    contract = norm_adder.add(contract, new_power)\n",
    "\n",
    "    # Create the new spec\n",
    "    parm_spec = ParameterSpec(\n",
    "            op_codes=[OpCode.ADD_TRIGGER],\n",
    "            configs = [\n",
    "                ParameterConfig('powers', norm_id, 'trigger')\n",
    "            ]\n",
    "        )\n",
    "    "
   ]
  },
  {
   "cell_type": "code",
   "execution_count": null,
   "metadata": {},
   "outputs": [],
   "source": [
    "# Select the parameter\n",
    "## TODO: Need a func to get the right parms (maybe include it with the contract collection)\n",
    "#from app.templates.sample.t.nl_template import sample_parameters\n",
    "from app.templates.rental_agreement.t.nl_template import parameters\n",
    "\n",
    "if selected_op == '1':\n",
    "    pki_dict = {i+1: pk for i,pk in enumerate(parameters)}\n",
    "\n",
    "    for pki in pki_dict:\n",
    "        print(f'{pki} - {pki_dict[pki]}')\n",
    "\n",
    "    selected_pki = input('Select a parameter: ')\n",
    "    selected_pk = pki_dict[int(selected_pki)]\n",
    "    parm_spec = parameters[selected_pk]\n",
    "\n",
    "    print(f'\\nParameter: {selected_pk}')"
   ]
  },
  {
   "cell_type": "code",
   "execution_count": null,
   "metadata": {},
   "outputs": [],
   "source": [
    "from app.src.grammar.grammar_generator import GrammarGenerator\n",
    "from app.src.grammar.grammar_config import GrammarGeneratorConfig\n",
    "from app.src.grammar.grammar_selector import GrammarSelector\n",
    "from app.src.grammar.manual_node_selector import ManualGrammarNodeSelector\n",
    "from app.src.grammar.helpers.domain_timepoint_extractor import DomainTimepointExtractor\n",
    "\n",
    "domain_timepoint_extractor = DomainTimepointExtractor()\n",
    "gg = GrammarGenerator(domain_timepoint_extractor)\n",
    "grammar_config = GrammarGeneratorConfig(parm_spec.op_codes)\n",
    "grammar_root = gg.generate(contract, grammar_config)\n",
    "\n",
    "inner_selector = ManualGrammarNodeSelector()\n",
    "gs = GrammarSelector(inner_selector)\n",
    "selection = gs.select(grammar_root)\n"
   ]
  },
  {
   "attachments": {},
   "cell_type": "markdown",
   "metadata": {},
   "source": [
    "## Use Runner"
   ]
  },
  {
   "cell_type": "code",
   "execution_count": null,
   "metadata": {},
   "outputs": [],
   "source": [
    "from app.src.runner import Runner\n",
    "\n",
    "# Run for all parameters\n",
    "for parm_config in parm_spec.configs:\n",
    "    runner = Runner(contract, parm_config)\n",
    "    contract = runner.update_contract(selection)\n",
    "\n",
    "print(contract.to_sym())\n"
   ]
  },
  {
   "attachments": {},
   "cell_type": "markdown",
   "metadata": {},
   "source": [
    "## Step through"
   ]
  },
  {
   "cell_type": "code",
   "execution_count": null,
   "metadata": {},
   "outputs": [],
   "source": [
    "from app.src.operations.helpers.default_event_getter import DefaultEventGetter\n",
    "\n",
    "# Extract the default event\n",
    "deg = DefaultEventGetter()\n",
    "\n",
    "# Handle the case where there is none...\n",
    "default_event = deg.get(contract.contract_spec, parm_config)\n",
    "\n",
    "if default_event:\n",
    "    print(f'Default Event: {default_event.to_sym()}')\n",
    "else:\n",
    "    print('No default event')"
   ]
  },
  {
   "cell_type": "code",
   "execution_count": null,
   "metadata": {},
   "outputs": [],
   "source": [
    "#default_event = None"
   ]
  },
  {
   "cell_type": "code",
   "execution_count": null,
   "metadata": {},
   "outputs": [],
   "source": [
    "from app.src.frames.frame_checker_constuctor import FrameCheckerConstructor\n",
    "\n",
    "frame_checker = FrameCheckerConstructor.construct()\n",
    "frames = frame_checker.check_all_frames(selection.nodes)\n",
    "\n",
    "for x in frames:\n",
    "    print(type(x), x.to_text())\n",
    "\n",
    "main_frame = frames[0]\n",
    "op_code = main_frame.op_code"
   ]
  },
  {
   "cell_type": "code",
   "execution_count": null,
   "metadata": {},
   "outputs": [],
   "source": [
    "# Create the basket\n",
    "from app.classes.grammar.selected_node import Basket\n",
    "basket = Basket()\n",
    "basket.default_event = default_event\n",
    "basket.initial_norm = contract.contract_spec.__dict__[parm_config.norm_type][parm_config.norm_id]"
   ]
  },
  {
   "cell_type": "code",
   "execution_count": null,
   "metadata": {},
   "outputs": [],
   "source": [
    "# Generate the Symboleo\n",
    "symboleo_obj = selection.to_obj(basket)\n",
    "print(symboleo_obj.to_sym())"
   ]
  },
  {
   "cell_type": "code",
   "execution_count": null,
   "metadata": {},
   "outputs": [],
   "source": [
    "# Updating\n",
    "from app.src.operations.parameter_updater_builder import ParameterUpdaterBuilder\n",
    "\n",
    "parm_updater = ParameterUpdaterBuilder.build()\n",
    "\n",
    "updated_contract = parm_updater.update(op_code, contract, symboleo_obj, parm_config)\n"
   ]
  },
  {
   "cell_type": "code",
   "execution_count": null,
   "metadata": {},
   "outputs": [],
   "source": [
    "print(updated_contract.to_sym())"
   ]
  },
  {
   "cell_type": "code",
   "execution_count": null,
   "metadata": {},
   "outputs": [],
   "source": []
  }
 ],
 "metadata": {
  "kernelspec": {
   "display_name": "Python 3.9.7 ('sym-env': venv)",
   "language": "python",
   "name": "python3"
  },
  "language_info": {
   "codemirror_mode": {
    "name": "ipython",
    "version": 3
   },
   "file_extension": ".py",
   "mimetype": "text/x-python",
   "name": "python",
   "nbconvert_exporter": "python",
   "pygments_lexer": "ipython3",
   "version": "3.9.7"
  },
  "orig_nbformat": 4,
  "vscode": {
   "interpreter": {
    "hash": "c5aa13c5662b7cd49c2a6a4cb6c712880a857c98a831bc049e568d94e5223a76"
   }
  }
 },
 "nbformat": 4,
 "nbformat_minor": 2
}
