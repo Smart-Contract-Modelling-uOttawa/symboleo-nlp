{
 "cells": [
  {
   "attachments": {},
   "cell_type": "markdown",
   "metadata": {},
   "source": [
    "## Setup"
   ]
  },
  {
   "cell_type": "code",
   "execution_count": null,
   "metadata": {},
   "outputs": [],
   "source": [
    "# Setup\n",
    "import nltk \n",
    "nltk.download('framenet_v17')"
   ]
  },
  {
   "cell_type": "code",
   "execution_count": null,
   "metadata": {},
   "outputs": [],
   "source": [
    "# Now we need nlp for real.\n",
    "import pickle\n",
    "import sys\n",
    "import spacy\n",
    "\n",
    "# Load NLP\n",
    "#sys.path.append('../')\n",
    "\n",
    "with open('./nlp/nlp.pickle', 'rb') as f:\n",
    "    nlp = pickle.load(f)"
   ]
  },
  {
   "cell_type": "code",
   "execution_count": null,
   "metadata": {},
   "outputs": [],
   "source": [
    "#%store nlp\n",
    "\n",
    "%store -r  nlp"
   ]
  },
  {
   "cell_type": "code",
   "execution_count": null,
   "metadata": {},
   "outputs": [],
   "source": [
    "from app.src.user_scripts.main_ops.user_deps import get_dependencies\n",
    "\n",
    "deps = get_dependencies(nlp)"
   ]
  },
  {
   "attachments": {},
   "cell_type": "markdown",
   "metadata": {},
   "source": [
    "## Contract"
   ]
  },
  {
   "cell_type": "code",
   "execution_count": null,
   "metadata": {},
   "outputs": [],
   "source": [
    "# Get the template\n",
    "from app.templates.template_getter import get_template\n",
    "contract = get_template('sample_t')\n",
    "#contract.print_all_strings()"
   ]
  },
  {
   "cell_type": "code",
   "execution_count": null,
   "metadata": {},
   "outputs": [],
   "source": [
    "#print(contract.to_sym())\n",
    "#print(contract.nl_template.stringify())"
   ]
  },
  {
   "cell_type": "code",
   "execution_count": null,
   "metadata": {},
   "outputs": [],
   "source": [
    "# User chooses the operation\n",
    "ops_dict = {\n",
    "    1: 'Customize a Parameter',\n",
    "    2: 'Add a termination condition',\n",
    "    3: 'Add a new domain event'\n",
    "}\n",
    "\n",
    "for opi in ops_dict:\n",
    "    print(f'{opi} - {ops_dict[opi]}')\n",
    "    \n",
    "selected_op = int(input('Select an operation: '))\n",
    "\n",
    "print(f'\\nSelected operation: {ops_dict[selected_op]}\\n')"
   ]
  },
  {
   "cell_type": "code",
   "execution_count": null,
   "metadata": {},
   "outputs": [],
   "source": [
    "from app.src.user_scripts.main_ops.refine_parm import refine_parm\n",
    "from app.src.user_scripts.main_ops.add_term import add_term\n",
    "from app.src.user_scripts.main_ops.add_dm import add_dm\n",
    "\n",
    "if selected_op == 1:\n",
    "    refine_parm(deps, contract)\n",
    "\n",
    "elif selected_op == 2:\n",
    "    add_term(deps, contract)\n",
    "\n",
    "elif selected_op == 3: \n",
    "    add_dm(deps, contract)"
   ]
  },
  {
   "cell_type": "code",
   "execution_count": null,
   "metadata": {},
   "outputs": [],
   "source": [
    "#print(contract.to_sym())\n",
    "contract.print_all_strings()"
   ]
  },
  {
   "cell_type": "code",
   "execution_count": null,
   "metadata": {},
   "outputs": [],
   "source": [
    "class TT:\n",
    "    f = 4"
   ]
  },
  {
   "cell_type": "code",
   "execution_count": null,
   "metadata": {},
   "outputs": [],
   "source": []
  }
 ],
 "metadata": {
  "kernelspec": {
   "display_name": "Python 3.9.7 ('sym-env': venv)",
   "language": "python",
   "name": "python3"
  },
  "language_info": {
   "codemirror_mode": {
    "name": "ipython",
    "version": 3
   },
   "file_extension": ".py",
   "mimetype": "text/x-python",
   "name": "python",
   "nbconvert_exporter": "python",
   "pygments_lexer": "ipython3",
   "version": "3.9.7"
  },
  "orig_nbformat": 4,
  "vscode": {
   "interpreter": {
    "hash": "c5aa13c5662b7cd49c2a6a4cb6c712880a857c98a831bc049e568d94e5223a76"
   }
  }
 },
 "nbformat": 4,
 "nbformat_minor": 2
}
