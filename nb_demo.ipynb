{
 "cells": [
  {
   "cell_type": "code",
   "execution_count": null,
   "metadata": {},
   "outputs": [],
   "source": [
    "# Setup\n",
    "import nltk \n",
    "nltk.download('framenet_v17')"
   ]
  },
  {
   "cell_type": "code",
   "execution_count": null,
   "metadata": {},
   "outputs": [],
   "source": [
    "# Get the template\n",
    "from typing import Dict\n",
    "from app.src.helpers.template_getter import get_template\n",
    "contract = get_template('prop_t')\n",
    "\n",
    "parameter_dict: Dict[str,str] = {}\n",
    "\n",
    "contract.print_all_strings()"
   ]
  },
  {
   "cell_type": "code",
   "execution_count": null,
   "metadata": {},
   "outputs": [],
   "source": [
    "print(contract.to_sym())"
   ]
  },
  {
   "cell_type": "code",
   "execution_count": null,
   "metadata": {},
   "outputs": [],
   "source": [
    "from app.src.user_scripts.main_ops.user_deps import get_dependencies\n",
    "from app.src.user_scripts.main_ops.refine_parm import refine_parm\n",
    "from app.src.user_scripts.main_ops.add_term import add_term\n",
    "from app.src.user_scripts.main_ops.add_dm import add_dm\n",
    "\n",
    "deps = get_dependencies()"
   ]
  },
  {
   "cell_type": "code",
   "execution_count": null,
   "metadata": {},
   "outputs": [],
   "source": [
    "# User chooses the operation\n",
    "ops_dict = {\n",
    "    1: 'Customize a Parameter',\n",
    "    2: 'Add a termination condition',\n",
    "    3: 'Add a new domain event'\n",
    "}\n",
    "\n",
    "for opi in ops_dict:\n",
    "    print(f'{opi} - {ops_dict[opi]}')\n",
    "    \n",
    "selected_op = int(input('Select an operation: '))\n",
    "\n",
    "print(f'\\nSelected operation: {ops_dict[selected_op]}\\n')"
   ]
  },
  {
   "cell_type": "code",
   "execution_count": null,
   "metadata": {},
   "outputs": [],
   "source": [
    "# Select the parameter\n",
    "## TODO: Need a func to get the right parms (maybe include it with the contract collection)\n",
    "#from app.templates.sample.t.nl_template import sample_parameters\n",
    "from app.templates.prop_mgmt.t.nl_template import parameters\n",
    "\n",
    "if selected_op == 1:\n",
    "    refine_parm(deps, contract, parameters)\n",
    "\n",
    "elif selected_op == 2:\n",
    "    add_term(deps, contract)\n",
    "\n",
    "elif selected_op == 3: \n",
    "    add_dm(deps, contract)"
   ]
  },
  {
   "cell_type": "code",
   "execution_count": null,
   "metadata": {},
   "outputs": [],
   "source": [
    "print(contract.to_sym())"
   ]
  },
  {
   "attachments": {},
   "cell_type": "markdown",
   "metadata": {},
   "source": [
    "## Step through"
   ]
  },
  {
   "cell_type": "code",
   "execution_count": null,
   "metadata": {},
   "outputs": [],
   "source": [
    "from app.src.operations.helpers.default_event_getter import DefaultEventGetter\n",
    "\n",
    "# Extract the default event\n",
    "deg = DefaultEventGetter()\n",
    "\n",
    "# Handle the case where there is none...\n",
    "default_event = deg.get(contract.contract_spec, parm_config)\n",
    "\n",
    "if default_event:\n",
    "    print(f'Default Event: {default_event.to_sym()}')\n",
    "else:\n",
    "    print('No default event')"
   ]
  },
  {
   "cell_type": "code",
   "execution_count": null,
   "metadata": {},
   "outputs": [],
   "source": [
    "#default_event = None"
   ]
  },
  {
   "cell_type": "code",
   "execution_count": null,
   "metadata": {},
   "outputs": [],
   "source": [
    "from app.src.frames.frame_checker_constuctor import FrameCheckerConstructor\n",
    "\n",
    "frame_checker = FrameCheckerConstructor.construct()\n",
    "frames = frame_checker.check_all_frames(selection.nodes)\n",
    "\n",
    "for x in frames:\n",
    "    print(type(x), x.to_text())\n",
    "\n",
    "main_frame = frames[0]\n",
    "op_code = main_frame.op_code"
   ]
  },
  {
   "cell_type": "code",
   "execution_count": null,
   "metadata": {},
   "outputs": [],
   "source": [
    "# Create the basket\n",
    "from app.classes.grammar.selected_node import Basket\n",
    "basket = Basket()\n",
    "basket.default_event = default_event\n",
    "basket.initial_norm = contract.contract_spec.__dict__[parm_config.norm_type][parm_config.norm_id]"
   ]
  },
  {
   "cell_type": "code",
   "execution_count": null,
   "metadata": {},
   "outputs": [],
   "source": [
    "# Generate the Symboleo\n",
    "symboleo_obj = selection.to_obj(basket)\n",
    "print(symboleo_obj.to_sym())"
   ]
  },
  {
   "cell_type": "code",
   "execution_count": null,
   "metadata": {},
   "outputs": [],
   "source": [
    "# Updating\n",
    "from app.src.operations.parameter_updater_builder import ParameterUpdaterBuilder\n",
    "\n",
    "parm_updater = ParameterUpdaterBuilder.build()\n",
    "\n",
    "updated_contract = parm_updater.update(op_code, contract, symboleo_obj, parm_config)\n"
   ]
  },
  {
   "cell_type": "code",
   "execution_count": null,
   "metadata": {},
   "outputs": [],
   "source": [
    "print(updated_contract.to_sym())"
   ]
  },
  {
   "cell_type": "code",
   "execution_count": null,
   "metadata": {},
   "outputs": [],
   "source": []
  }
 ],
 "metadata": {
  "kernelspec": {
   "display_name": "Python 3.9.7 ('sym-env': venv)",
   "language": "python",
   "name": "python3"
  },
  "language_info": {
   "codemirror_mode": {
    "name": "ipython",
    "version": 3
   },
   "file_extension": ".py",
   "mimetype": "text/x-python",
   "name": "python",
   "nbconvert_exporter": "python",
   "pygments_lexer": "ipython3",
   "version": "3.9.7"
  },
  "orig_nbformat": 4,
  "vscode": {
   "interpreter": {
    "hash": "c5aa13c5662b7cd49c2a6a4cb6c712880a857c98a831bc049e568d94e5223a76"
   }
  }
 },
 "nbformat": 4,
 "nbformat_minor": 2
}
