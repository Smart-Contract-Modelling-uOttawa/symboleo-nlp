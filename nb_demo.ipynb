{
 "cells": [
  {
   "attachments": {},
   "cell_type": "markdown",
   "metadata": {},
   "source": [
    "## Setup"
   ]
  },
  {
   "cell_type": "code",
   "execution_count": null,
   "metadata": {},
   "outputs": [],
   "source": [
    "# Now we need nlp for real.\n",
    "import pickle\n",
    "import sys\n",
    "import nltk\n",
    "import spacy\n",
    "\n",
    "# Load NLP\n",
    "#sys.path.append('../')\n",
    "\n",
    "with open('./nlp/nlp.pickle', 'rb') as f:\n",
    "    nlp = pickle.load(f)"
   ]
  },
  {
   "cell_type": "code",
   "execution_count": null,
   "metadata": {},
   "outputs": [],
   "source": [
    "#%store nlp\n",
    "\n",
    "%store -r  nlp"
   ]
  },
  {
   "cell_type": "code",
   "execution_count": null,
   "metadata": {},
   "outputs": [],
   "source": [
    "from app.classes.operations.dependencies import Dependencies\n",
    "from app.console_lib.console_dependencies import get_dependencies\n",
    "\n",
    "nlp=None\n",
    "inner_deps = Dependencies(nlp=nlp, fake=True)\n",
    "\n",
    "demo_deps = get_dependencies(inner_deps)"
   ]
  },
  {
   "attachments": {},
   "cell_type": "markdown",
   "metadata": {},
   "source": [
    "## Contract"
   ]
  },
  {
   "cell_type": "code",
   "execution_count": null,
   "metadata": {},
   "outputs": [],
   "source": [
    "# Get the template\n",
    "from app.templates.template_getter import get_template\n",
    "contract = get_template('sample')\n",
    "contract.print_all_strings()"
   ]
  },
  {
   "cell_type": "code",
   "execution_count": null,
   "metadata": {},
   "outputs": [],
   "source": [
    "print(contract.to_sym())\n",
    "#print(contract.nl_template.stringify())"
   ]
  },
  {
   "cell_type": "code",
   "execution_count": null,
   "metadata": {},
   "outputs": [],
   "source": [
    "# User chooses the operation\n",
    "ops_dict = {\n",
    "    1: 'Customize a Parameter',\n",
    "    2: 'Add a termination condition'\n",
    "}\n",
    "\n",
    "for opi in ops_dict:\n",
    "    print(f'{opi} - {ops_dict[opi]}')\n",
    "    \n",
    "selected_op = int(input('Select an operation: '))\n",
    "\n",
    "print(f'\\nSelected operation: {ops_dict[selected_op]}\\n')"
   ]
  },
  {
   "cell_type": "code",
   "execution_count": null,
   "metadata": {},
   "outputs": [],
   "source": [
    "if selected_op == 1:\n",
    "    nl_key, parm_key = demo_deps.parm_getter.get(contract)\n",
    "else:\n",
    "    raise NotImplementedError()"
   ]
  },
  {
   "cell_type": "code",
   "execution_count": null,
   "metadata": {},
   "outputs": [],
   "source": [
    "# Select Input\n",
    "\n",
    "from app.classes.pattern_classes.all_pattern_classes import *\n",
    "\n",
    "pattern_classes = get_all_pattern_classes()\n",
    "\n",
    "grammar_node = demo_deps.grammar_builder.build(pattern_classes)\n",
    "\n",
    "user_inputs = demo_deps.selector.select(grammar_node, contract)"
   ]
  },
  {
   "cell_type": "code",
   "execution_count": null,
   "metadata": {},
   "outputs": [],
   "source": [
    "# Mapping step\n",
    "from app.classes.operations.contract_updater_config import UpdateConfig\n",
    "from app.classes.operations.op_code import OpCode\n",
    "\n",
    "op_code = OpCode.UPDATE_PARM\n",
    "\n",
    "config = UpdateConfig(\n",
    "    op_code = op_code,\n",
    "    user_inputs = user_inputs,\n",
    "    nl_key = nl_key,\n",
    "    parm_key = parm_key\n",
    ")\n",
    "\n",
    "demo_deps.contract_updater.update(contract, op_code, config)\n"
   ]
  },
  {
   "cell_type": "code",
   "execution_count": null,
   "metadata": {},
   "outputs": [],
   "source": [
    "# Verify contract\n",
    "contract.print_all_strings()"
   ]
  },
  {
   "cell_type": "code",
   "execution_count": null,
   "metadata": {},
   "outputs": [
    {
     "ename": "",
     "evalue": "",
     "output_type": "error",
     "traceback": [
      "\u001b[1;31mThe Kernel crashed while executing code in the the current cell or a previous cell. Please review the code in the cell(s) to identify a possible cause of the failure. Click <a href='https://aka.ms/vscodeJupyterKernelCrash'>here</a> for more info. View Jupyter <a href='command:jupyter.viewOutput'>log</a> for further details."
     ]
    }
   ],
   "source": [
    "print(contract.to_sym())\n",
    "#contract.print_all_strings()"
   ]
  },
  {
   "cell_type": "code",
   "execution_count": null,
   "metadata": {},
   "outputs": [],
   "source": []
  }
 ],
 "metadata": {
  "kernelspec": {
   "display_name": "Python 3.9.7 ('sym-env': venv)",
   "language": "python",
   "name": "python3"
  },
  "language_info": {
   "codemirror_mode": {
    "name": "ipython",
    "version": 3
   },
   "file_extension": ".py",
   "mimetype": "text/x-python",
   "name": "python",
   "nbconvert_exporter": "python",
   "pygments_lexer": "ipython3",
   "version": "3.9.7"
  },
  "orig_nbformat": 4,
  "vscode": {
   "interpreter": {
    "hash": "c5aa13c5662b7cd49c2a6a4cb6c712880a857c98a831bc049e568d94e5223a76"
   }
  }
 },
 "nbformat": 4,
 "nbformat_minor": 2
}
