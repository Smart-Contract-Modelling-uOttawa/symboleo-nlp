{
 "cells": [
  {
   "cell_type": "code",
   "execution_count": null,
   "metadata": {},
   "outputs": [],
   "source": [
    "# Get the template\n",
    "from app.src.helpers.template_getter import get_template\n",
    "contract = get_template('meat_sale')\n",
    "\n",
    "print(contract.to_sym())"
   ]
  },
  {
   "cell_type": "code",
   "execution_count": null,
   "metadata": {},
   "outputs": [],
   "source": [
    "obs = contract.template_strings['obligations']\n",
    "pows = contract.template_strings['powers']\n",
    "\n",
    "print('== OBLIGATIONS ==')\n",
    "for x in obs:\n",
    "    print(f'- {x}: {obs[x]}\\n')\n",
    "\n",
    "print('== POWERS ==')\n",
    "for x in pows:\n",
    "    print(f'- {x}: {pows[x]}\\n')"
   ]
  },
  {
   "cell_type": "code",
   "execution_count": null,
   "metadata": {},
   "outputs": [],
   "source": [
    "# Select the parameter\n",
    "from app.templates.meat_sale.nl_template import parameters\n",
    "\n",
    "pki_dict = {i+1: pk for i,pk in enumerate(parameters)}\n",
    "\n",
    "for pki in pki_dict:\n",
    "    print(f'{pki} - {pki_dict[pki]}')\n",
    "\n",
    "selected_pki = input('Select a parameter: ')\n",
    "selected_pk = pki_dict[int(selected_pki)]\n",
    "selected_parm = parameters[selected_pk][0]\n",
    "\n",
    "print(f'\\nParameter: {selected_pk}')\n",
    "\n",
    "# The selected parameter will trigger some other things, e.g. which grammar/frameset to use...\n"
   ]
  },
  {
   "cell_type": "code",
   "execution_count": null,
   "metadata": {},
   "outputs": [],
   "source": [
    "from app.src.operations.helpers.default_event_getter import DefaultEventGetter\n",
    "\n",
    "# Extract the default event\n",
    "deg = DefaultEventGetter()\n",
    "\n",
    "# Handle the case where there is none...\n",
    "default_event = deg.get(contract.contract_spec, selected_parm.config)\n",
    "\n",
    "print(f'Default Event: {default_event.to_sym()}')\n"
   ]
  },
  {
   "cell_type": "code",
   "execution_count": null,
   "metadata": {},
   "outputs": [],
   "source": [
    "#default_event = None"
   ]
  },
  {
   "cell_type": "code",
   "execution_count": null,
   "metadata": {},
   "outputs": [],
   "source": [
    "from app.src.operations.configs import OpCode\n",
    "from app.src.grammar.grammar_generator import GrammarGenerator\n",
    "from app.src.grammar.grammar_config import GrammarGeneratorConfig\n",
    "\n",
    "# Generate the grammar from the contract template\n",
    "gg = GrammarGenerator()\n",
    "\n",
    "# These should probably come from the parameter...\n",
    "op_codes = [OpCode.ADD_TRIGGER, OpCode.REFINE_PREDICATE, OpCode.ADD_NORM] \n",
    "\n",
    "grammar_config = GrammarGeneratorConfig(op_codes)\n",
    "\n",
    "grammar_root = gg.generate(contract, grammar_config)\n"
   ]
  },
  {
   "cell_type": "code",
   "execution_count": null,
   "metadata": {},
   "outputs": [],
   "source": [
    "from app.src.grammar.grammar_selector import GrammarSelector\n",
    "from app.src.grammar.manual_node_selector import ManualGrammarNodeSelector\n",
    "\n",
    "# Run the selection so the user can choose the text\n",
    "inner_selector = ManualGrammarNodeSelector()\n",
    "gs = GrammarSelector(inner_selector)\n",
    "selection = gs.select(grammar_root)"
   ]
  },
  {
   "cell_type": "code",
   "execution_count": null,
   "metadata": {},
   "outputs": [],
   "source": [
    "from app.src.frames.frame_checker_constuctor import FrameCheckerConstructor\n",
    "\n",
    "frame_checker = FrameCheckerConstructor.construct()\n",
    "frames = frame_checker.check_all_frames(selection.nodes)\n",
    "\n",
    "for x in frames:\n",
    "    print(type(x), x.to_text())\n",
    "\n",
    "main_frame = frames[0]\n",
    "op_code = main_frame.op_code"
   ]
  },
  {
   "cell_type": "code",
   "execution_count": null,
   "metadata": {},
   "outputs": [],
   "source": [
    "# Create the basket\n",
    "from app.classes.grammar.selected_node import Basket\n",
    "basket = Basket()\n",
    "basket.default_event = default_event\n",
    "basket.initial_norm = contract.contract_spec.__dict__[selected_parm.config.norm_type][selected_parm.config.norm_id]\n",
    "\n",
    "\n",
    "print(basket.initial_norm.to_sym())"
   ]
  },
  {
   "cell_type": "code",
   "execution_count": null,
   "metadata": {},
   "outputs": [],
   "source": [
    "# Generate the Symboleo\n",
    "symboleo_obj = selection.to_obj(basket)\n",
    "print(symboleo_obj.to_sym())"
   ]
  },
  {
   "cell_type": "code",
   "execution_count": null,
   "metadata": {},
   "outputs": [],
   "source": [
    "# Updating\n",
    "from app.src.operations.contract_updater_builder import ContractUpdaterBuilder\n",
    "\n",
    "contract_updater = ContractUpdaterBuilder.build()\n",
    "\n",
    "updated_contract = contract_updater.update(op_code, contract, symboleo_obj, selected_parm.config)\n"
   ]
  },
  {
   "cell_type": "code",
   "execution_count": null,
   "metadata": {},
   "outputs": [],
   "source": [
    "print(updated_contract.to_sym())"
   ]
  },
  {
   "cell_type": "code",
   "execution_count": null,
   "metadata": {},
   "outputs": [],
   "source": []
  }
 ],
 "metadata": {
  "kernelspec": {
   "display_name": "Python 3.9.7 ('sym-env': venv)",
   "language": "python",
   "name": "python3"
  },
  "language_info": {
   "codemirror_mode": {
    "name": "ipython",
    "version": 3
   },
   "file_extension": ".py",
   "mimetype": "text/x-python",
   "name": "python",
   "nbconvert_exporter": "python",
   "pygments_lexer": "ipython3",
   "version": "3.9.7"
  },
  "orig_nbformat": 4,
  "vscode": {
   "interpreter": {
    "hash": "c5aa13c5662b7cd49c2a6a4cb6c712880a857c98a831bc049e568d94e5223a76"
   }
  }
 },
 "nbformat": 4,
 "nbformat_minor": 2
}
