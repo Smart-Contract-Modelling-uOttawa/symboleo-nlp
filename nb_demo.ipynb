{
 "cells": [
  {
   "attachments": {},
   "cell_type": "markdown",
   "metadata": {},
   "source": [
    "## Setup"
   ]
  },
  {
   "cell_type": "code",
   "execution_count": null,
   "metadata": {},
   "outputs": [],
   "source": [
    "# Setup\n",
    "import nltk \n",
    "nltk.download('framenet_v17')"
   ]
  },
  {
   "cell_type": "code",
   "execution_count": null,
   "metadata": {},
   "outputs": [],
   "source": [
    "# Now we need nlp for real.\n",
    "import pickle\n",
    "import sys\n",
    "import spacy\n",
    "\n",
    "# Load NLP\n",
    "#sys.path.append('../')\n",
    "\n",
    "with open('./nlp/nlp.pickle', 'rb') as f:\n",
    "    nlp = pickle.load(f)"
   ]
  },
  {
   "cell_type": "code",
   "execution_count": null,
   "metadata": {},
   "outputs": [],
   "source": [
    "#%store nlp\n",
    "\n",
    "%store -r  nlp"
   ]
  },
  {
   "cell_type": "code",
   "execution_count": 2,
   "metadata": {},
   "outputs": [],
   "source": [
    "from app.classes.operations.dependencies import Dependencies\n",
    "from app.src.user_scripts.main_ops.user_deps import get_dependencies\n",
    "\n",
    "inner_deps = Dependencies(nlp=None, fake=True)\n",
    "\n",
    "demo_deps = get_dependencies(inner_deps)"
   ]
  },
  {
   "attachments": {},
   "cell_type": "markdown",
   "metadata": {},
   "source": [
    "## Contract"
   ]
  },
  {
   "cell_type": "code",
   "execution_count": 3,
   "metadata": {},
   "outputs": [],
   "source": [
    "# Get the template\n",
    "from app.templates.template_getter import get_template\n",
    "contract = get_template('sample_t')\n",
    "#contract.print_all_strings()"
   ]
  },
  {
   "cell_type": "code",
   "execution_count": null,
   "metadata": {},
   "outputs": [],
   "source": [
    "#print(contract.to_sym())\n",
    "#print(contract.nl_template.stringify())"
   ]
  },
  {
   "cell_type": "code",
   "execution_count": 4,
   "metadata": {},
   "outputs": [
    {
     "name": "stdout",
     "output_type": "stream",
     "text": [
      "1 - Customize a Parameter\n",
      "2 - Add a termination condition\n",
      "\n",
      "Selected operation: Customize a Parameter\n",
      "\n"
     ]
    }
   ],
   "source": [
    "# User chooses the operation\n",
    "ops_dict = {\n",
    "    1: 'Customize a Parameter',\n",
    "    2: 'Add a termination condition',\n",
    "    #3: 'Add a new domain event'\n",
    "}\n",
    "\n",
    "for opi in ops_dict:\n",
    "    print(f'{opi} - {ops_dict[opi]}')\n",
    "    \n",
    "selected_op = int(input('Select an operation: '))\n",
    "\n",
    "print(f'\\nSelected operation: {ops_dict[selected_op]}\\n')"
   ]
  },
  {
   "cell_type": "code",
   "execution_count": 5,
   "metadata": {},
   "outputs": [
    {
     "ename": "ImportError",
     "evalue": "cannot import name 'IExtractNounPhrase' from 'app.src.extractors.custom_event.noun_phrase_extractor' (c:\\Users\\regan\\Documents\\dev\\symboleo-nlp\\app\\src\\extractors\\custom_event\\noun_phrase_extractor.py)",
     "output_type": "error",
     "traceback": [
      "\u001b[1;31m---------------------------------------------------------------------------\u001b[0m",
      "\u001b[1;31mImportError\u001b[0m                               Traceback (most recent call last)",
      "\u001b[1;32mc:\\Users\\regan\\Documents\\dev\\symboleo-nlp\\nb_demo.ipynb Cell 10\u001b[0m in \u001b[0;36m3\n\u001b[0;32m      <a href='vscode-notebook-cell:/c%3A/Users/regan/Documents/dev/symboleo-nlp/nb_demo.ipynb#X12sZmlsZQ%3D%3D?line=0'>1</a>\u001b[0m \u001b[39mfrom\u001b[39;00m \u001b[39mapp\u001b[39;00m\u001b[39m.\u001b[39;00m\u001b[39msrc\u001b[39;00m\u001b[39m.\u001b[39;00m\u001b[39muser_scripts\u001b[39;00m\u001b[39m.\u001b[39;00m\u001b[39mmain_ops\u001b[39;00m\u001b[39m.\u001b[39;00m\u001b[39mrefine_parm\u001b[39;00m \u001b[39mimport\u001b[39;00m refine_parm\n\u001b[0;32m      <a href='vscode-notebook-cell:/c%3A/Users/regan/Documents/dev/symboleo-nlp/nb_demo.ipynb#X12sZmlsZQ%3D%3D?line=1'>2</a>\u001b[0m \u001b[39mfrom\u001b[39;00m \u001b[39mapp\u001b[39;00m\u001b[39m.\u001b[39;00m\u001b[39msrc\u001b[39;00m\u001b[39m.\u001b[39;00m\u001b[39muser_scripts\u001b[39;00m\u001b[39m.\u001b[39;00m\u001b[39mmain_ops\u001b[39;00m\u001b[39m.\u001b[39;00m\u001b[39madd_term\u001b[39;00m \u001b[39mimport\u001b[39;00m add_term\n\u001b[1;32m----> <a href='vscode-notebook-cell:/c%3A/Users/regan/Documents/dev/symboleo-nlp/nb_demo.ipynb#X12sZmlsZQ%3D%3D?line=2'>3</a>\u001b[0m \u001b[39mfrom\u001b[39;00m \u001b[39mapp\u001b[39;00m\u001b[39m.\u001b[39;00m\u001b[39msrc\u001b[39;00m\u001b[39m.\u001b[39;00m\u001b[39muser_scripts\u001b[39;00m\u001b[39m.\u001b[39;00m\u001b[39mmain_ops\u001b[39;00m\u001b[39m.\u001b[39;00m\u001b[39madd_dm\u001b[39;00m \u001b[39mimport\u001b[39;00m add_dm\n\u001b[0;32m      <a href='vscode-notebook-cell:/c%3A/Users/regan/Documents/dev/symboleo-nlp/nb_demo.ipynb#X12sZmlsZQ%3D%3D?line=4'>5</a>\u001b[0m \u001b[39mif\u001b[39;00m selected_op \u001b[39m==\u001b[39m \u001b[39m1\u001b[39m:\n\u001b[0;32m      <a href='vscode-notebook-cell:/c%3A/Users/regan/Documents/dev/symboleo-nlp/nb_demo.ipynb#X12sZmlsZQ%3D%3D?line=5'>6</a>\u001b[0m     refine_parm(demo_deps, contract)\n",
      "File \u001b[1;32mc:\\Users\\regan\\Documents\\dev\\symboleo-nlp\\app\\src\\user_scripts\\main_ops\\add_dm.py:4\u001b[0m\n\u001b[0;32m      1\u001b[0m \u001b[39mfrom\u001b[39;00m \u001b[39mapp\u001b[39;00m\u001b[39m.\u001b[39;00m\u001b[39msrc\u001b[39;00m\u001b[39m.\u001b[39;00m\u001b[39muser_scripts\u001b[39;00m\u001b[39m.\u001b[39;00m\u001b[39mmain_ops\u001b[39;00m\u001b[39m.\u001b[39;00m\u001b[39muser_deps\u001b[39;00m \u001b[39mimport\u001b[39;00m UserDependencies\n\u001b[0;32m      2\u001b[0m \u001b[39mfrom\u001b[39;00m \u001b[39mapp\u001b[39;00m\u001b[39m.\u001b[39;00m\u001b[39mclasses\u001b[39;00m\u001b[39m.\u001b[39;00m\u001b[39mspec\u001b[39;00m\u001b[39m.\u001b[39;00m\u001b[39msymboleo_contract\u001b[39;00m \u001b[39mimport\u001b[39;00m SymboleoContract\n\u001b[1;32m----> 4\u001b[0m \u001b[39mfrom\u001b[39;00m \u001b[39mapp\u001b[39;00m\u001b[39m.\u001b[39;00m\u001b[39msrc\u001b[39;00m\u001b[39m.\u001b[39;00m\u001b[39muser_scripts\u001b[39;00m\u001b[39m.\u001b[39;00m\u001b[39mdomain_event_creator\u001b[39;00m \u001b[39mimport\u001b[39;00m DomainEventCreator\n\u001b[0;32m      5\u001b[0m \u001b[39mfrom\u001b[39;00m \u001b[39mapp\u001b[39;00m\u001b[39m.\u001b[39;00m\u001b[39msrc\u001b[39;00m\u001b[39m.\u001b[39;00m\u001b[39muser_scripts\u001b[39;00m\u001b[39m.\u001b[39;00m\u001b[39mdeclarer\u001b[39;00m \u001b[39mimport\u001b[39;00m ManualDeclarer\n\u001b[0;32m      7\u001b[0m \u001b[39mfrom\u001b[39;00m \u001b[39mapp\u001b[39;00m\u001b[39m.\u001b[39;00m\u001b[39msrc\u001b[39;00m\u001b[39m.\u001b[39;00m\u001b[39moperations\u001b[39;00m\u001b[39m.\u001b[39;00m\u001b[39mdomain_updater\u001b[39;00m \u001b[39mimport\u001b[39;00m DomainOperation\n",
      "File \u001b[1;32mc:\\Users\\regan\\Documents\\dev\\symboleo-nlp\\app\\src\\user_scripts\\domain_event_creator.py:10\u001b[0m\n\u001b[0;32m      7\u001b[0m \u001b[39mfrom\u001b[39;00m \u001b[39mnltk\u001b[39;00m\u001b[39m.\u001b[39;00m\u001b[39mcorpus\u001b[39;00m \u001b[39mimport\u001b[39;00m framenet \u001b[39mas\u001b[39;00m fn\n\u001b[0;32m      8\u001b[0m \u001b[39mfrom\u001b[39;00m \u001b[39mapp\u001b[39;00m\u001b[39m.\u001b[39;00m\u001b[39msrc\u001b[39;00m\u001b[39m.\u001b[39;00m\u001b[39mnlp\u001b[39;00m\u001b[39m.\u001b[39;00m\u001b[39mframenet\u001b[39;00m \u001b[39mimport\u001b[39;00m MyFrame, MyLU, MyFrameElement, MyFramenet\n\u001b[1;32m---> 10\u001b[0m \u001b[39mfrom\u001b[39;00m \u001b[39mapp\u001b[39;00m\u001b[39m.\u001b[39;00m\u001b[39mclasses\u001b[39;00m\u001b[39m.\u001b[39;00m\u001b[39mtemplate_event\u001b[39;00m\u001b[39m.\u001b[39;00m\u001b[39mcommon_events\u001b[39;00m \u001b[39mimport\u001b[39;00m standard_event_dict\n\u001b[0;32m     11\u001b[0m \u001b[39mfrom\u001b[39;00m \u001b[39mapp\u001b[39;00m\u001b[39m.\u001b[39;00m\u001b[39msrc\u001b[39;00m\u001b[39m.\u001b[39;00m\u001b[39mnlp\u001b[39;00m\u001b[39m.\u001b[39;00m\u001b[39mframenet_extractor\u001b[39;00m \u001b[39mimport\u001b[39;00m FramenetExtractor\n\u001b[0;32m     13\u001b[0m \u001b[39mfrom\u001b[39;00m \u001b[39mapp\u001b[39;00m\u001b[39m.\u001b[39;00m\u001b[39msrc\u001b[39;00m\u001b[39m.\u001b[39;00m\u001b[39mhelpers\u001b[39;00m\u001b[39m.\u001b[39;00m\u001b[39mstring_to_class\u001b[39;00m \u001b[39mimport\u001b[39;00m CaseConverter\n",
      "File \u001b[1;32mc:\\Users\\regan\\Documents\\dev\\symboleo-nlp\\app\\classes\\template_event\\common_events.py:9\u001b[0m\n\u001b[0;32m      6\u001b[0m \u001b[39mfrom\u001b[39;00m \u001b[39mapp\u001b[39;00m\u001b[39m.\u001b[39;00m\u001b[39mclasses\u001b[39;00m\u001b[39m.\u001b[39;00m\u001b[39mcustom_event\u001b[39;00m\u001b[39m.\u001b[39;00m\u001b[39madverb\u001b[39;00m \u001b[39mimport\u001b[39;00m Adverb\n\u001b[0;32m      7\u001b[0m \u001b[39mfrom\u001b[39;00m \u001b[39mapp\u001b[39;00m\u001b[39m.\u001b[39;00m\u001b[39mclasses\u001b[39;00m\u001b[39m.\u001b[39;00m\u001b[39mtemplate_event\u001b[39;00m\u001b[39m.\u001b[39;00m\u001b[39mEventMapping\u001b[39;00m \u001b[39mimport\u001b[39;00m EventMapping\n\u001b[1;32m----> 9\u001b[0m \u001b[39mfrom\u001b[39;00m \u001b[39mapp\u001b[39;00m\u001b[39m.\u001b[39;00m\u001b[39msrc\u001b[39;00m\u001b[39m.\u001b[39;00m\u001b[39mextractors\u001b[39;00m\u001b[39m.\u001b[39;00m\u001b[39mcustom_event\u001b[39;00m\u001b[39m.\u001b[39;00m\u001b[39mnoun_phrase_extractor\u001b[39;00m \u001b[39mimport\u001b[39;00m IExtractNounPhrase\n\u001b[0;32m     11\u001b[0m \u001b[39mfrom\u001b[39;00m \u001b[39mstring\u001b[39;00m \u001b[39mimport\u001b[39;00m Template\n\u001b[0;32m     13\u001b[0m \u001b[39m# class CommonEvent: \u001b[39;00m\n\u001b[0;32m     14\u001b[0m \u001b[39m#     def __init__(self, domain_event:DomainEvent, description:str):\u001b[39;00m\n\u001b[0;32m     15\u001b[0m \u001b[39m#         self.domain_event = domain_event\u001b[39;00m\n\u001b[0;32m     16\u001b[0m \u001b[39m#         self.description = description\u001b[39;00m\n",
      "\u001b[1;31mImportError\u001b[0m: cannot import name 'IExtractNounPhrase' from 'app.src.extractors.custom_event.noun_phrase_extractor' (c:\\Users\\regan\\Documents\\dev\\symboleo-nlp\\app\\src\\extractors\\custom_event\\noun_phrase_extractor.py)"
     ]
    }
   ],
   "source": [
    "from app.src.user_scripts.main_ops.refine_parm import refine_parm\n",
    "from app.src.user_scripts.main_ops.add_term import add_term\n",
    "#from app.src.user_scripts.main_ops.add_dm import add_dm\n",
    "\n",
    "if selected_op == 1:\n",
    "    refine_parm(demo_deps, contract)\n",
    "\n",
    "elif selected_op == 2:\n",
    "    add_term(demo_deps, contract)\n",
    "\n",
    "# elif selected_op == 3: \n",
    "#     add_dm(deps, contract)"
   ]
  },
  {
   "cell_type": "code",
   "execution_count": null,
   "metadata": {},
   "outputs": [],
   "source": [
    "#print(contract.to_sym())\n",
    "contract.print_all_strings()"
   ]
  },
  {
   "cell_type": "code",
   "execution_count": null,
   "metadata": {},
   "outputs": [],
   "source": [
    "class TT:\n",
    "    f = 4"
   ]
  },
  {
   "cell_type": "code",
   "execution_count": null,
   "metadata": {},
   "outputs": [],
   "source": []
  }
 ],
 "metadata": {
  "kernelspec": {
   "display_name": "Python 3.9.7 ('sym-env': venv)",
   "language": "python",
   "name": "python3"
  },
  "language_info": {
   "codemirror_mode": {
    "name": "ipython",
    "version": 3
   },
   "file_extension": ".py",
   "mimetype": "text/x-python",
   "name": "python",
   "nbconvert_exporter": "python",
   "pygments_lexer": "ipython3",
   "version": "3.9.7"
  },
  "orig_nbformat": 4,
  "vscode": {
   "interpreter": {
    "hash": "c5aa13c5662b7cd49c2a6a4cb6c712880a857c98a831bc049e568d94e5223a76"
   }
  }
 },
 "nbformat": 4,
 "nbformat_minor": 2
}
