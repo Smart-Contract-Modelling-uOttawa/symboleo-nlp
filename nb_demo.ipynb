{
 "cells": [
  {
   "cell_type": "code",
   "execution_count": null,
   "metadata": {},
   "outputs": [],
   "source": [
    "# Get the template\n",
    "from app.src.helpers.template_getter import get_template\n",
    "contract = get_template('sample_t')\n",
    "\n",
    "#print(contract.to_sym())\n",
    "\n",
    "contract.print_all_strings()"
   ]
  },
  {
   "cell_type": "code",
   "execution_count": null,
   "metadata": {},
   "outputs": [],
   "source": [
    "# Select the parameter\n",
    "from app.templates.sample.t.nl_template import parameters\n",
    "\n",
    "pki_dict = {i+1: pk for i,pk in enumerate(parameters)}\n",
    "\n",
    "for pki in pki_dict:\n",
    "    print(f'{pki} - {pki_dict[pki]}')\n",
    "\n",
    "selected_pki = input('Select a parameter: ')\n",
    "selected_pk = pki_dict[int(selected_pki)]\n",
    "parm_spec = parameters[selected_pk]\n",
    "\n",
    "print(f'\\nParameter: {selected_pk}')"
   ]
  },
  {
   "cell_type": "code",
   "execution_count": null,
   "metadata": {},
   "outputs": [],
   "source": [
    "from app.src.grammar.grammar_generator import GrammarGenerator\n",
    "from app.src.grammar.grammar_config import GrammarGeneratorConfig\n",
    "from app.src.grammar.grammar_selector import GrammarSelector\n",
    "from app.src.grammar.manual_node_selector import ManualGrammarNodeSelector\n",
    "from app.src.grammar.helpers.domain_timepoint_extractor import DomainTimepointExtractor\n",
    "\n",
    "domain_timepoint_extractor = DomainTimepointExtractor()\n",
    "gg = GrammarGenerator(domain_timepoint_extractor)\n",
    "grammar_config = GrammarGeneratorConfig(parm_spec.op_codes)\n",
    "grammar_root = gg.generate(contract, grammar_config)\n",
    "\n",
    "inner_selector = ManualGrammarNodeSelector()\n",
    "gs = GrammarSelector(inner_selector)\n",
    "selection = gs.select(grammar_root)\n"
   ]
  },
  {
   "attachments": {},
   "cell_type": "markdown",
   "metadata": {},
   "source": [
    "## Use Runner"
   ]
  },
  {
   "cell_type": "code",
   "execution_count": null,
   "metadata": {},
   "outputs": [],
   "source": [
    "from app.src.runner import Runner\n",
    "\n",
    "# Run for all parameters\n",
    "for parm_config in parm_spec.configs:\n",
    "    runner = Runner(contract, parm_config)\n",
    "    contract = runner.update_contract(selection)\n",
    "\n",
    "print(contract.to_sym())\n"
   ]
  },
  {
   "attachments": {},
   "cell_type": "markdown",
   "metadata": {},
   "source": [
    "## Step through"
   ]
  },
  {
   "cell_type": "code",
   "execution_count": null,
   "metadata": {},
   "outputs": [],
   "source": [
    "from app.src.operations.helpers.default_event_getter import DefaultEventGetter\n",
    "\n",
    "# Extract the default event\n",
    "deg = DefaultEventGetter()\n",
    "\n",
    "# Handle the case where there is none...\n",
    "default_event = deg.get(contract.contract_spec, parm_config)\n",
    "\n",
    "if default_event:\n",
    "    print(f'Default Event: {default_event.to_sym()}')\n",
    "else:\n",
    "    print('No default event')"
   ]
  },
  {
   "cell_type": "code",
   "execution_count": null,
   "metadata": {},
   "outputs": [],
   "source": [
    "#default_event = None"
   ]
  },
  {
   "cell_type": "code",
   "execution_count": null,
   "metadata": {},
   "outputs": [],
   "source": [
    "from app.src.frames.frame_checker_constuctor import FrameCheckerConstructor\n",
    "\n",
    "frame_checker = FrameCheckerConstructor.construct()\n",
    "frames = frame_checker.check_all_frames(selection.nodes)\n",
    "\n",
    "for x in frames:\n",
    "    print(type(x), x.to_text())\n",
    "\n",
    "main_frame = frames[0]\n",
    "op_code = main_frame.op_code"
   ]
  },
  {
   "cell_type": "code",
   "execution_count": null,
   "metadata": {},
   "outputs": [],
   "source": [
    "# Create the basket\n",
    "from app.classes.grammar.selected_node import Basket\n",
    "basket = Basket()\n",
    "basket.default_event = default_event\n",
    "basket.initial_norm = contract.contract_spec.__dict__[parm_config.norm_type][parm_config.norm_id]"
   ]
  },
  {
   "cell_type": "code",
   "execution_count": null,
   "metadata": {},
   "outputs": [],
   "source": [
    "# Generate the Symboleo\n",
    "symboleo_obj = selection.to_obj(basket)\n",
    "print(symboleo_obj.to_sym())"
   ]
  },
  {
   "cell_type": "code",
   "execution_count": null,
   "metadata": {},
   "outputs": [],
   "source": [
    "# Updating\n",
    "from app.src.operations.contract_updater_builder import ContractUpdaterBuilder\n",
    "\n",
    "contract_updater = ContractUpdaterBuilder.build()\n",
    "\n",
    "updated_contract = contract_updater.update(op_code, contract, symboleo_obj, parm_config)\n"
   ]
  },
  {
   "cell_type": "code",
   "execution_count": null,
   "metadata": {},
   "outputs": [],
   "source": [
    "print(updated_contract.to_sym())"
   ]
  },
  {
   "cell_type": "code",
   "execution_count": null,
   "metadata": {},
   "outputs": [],
   "source": []
  }
 ],
 "metadata": {
  "kernelspec": {
   "display_name": "Python 3.9.7 ('sym-env': venv)",
   "language": "python",
   "name": "python3"
  },
  "language_info": {
   "codemirror_mode": {
    "name": "ipython",
    "version": 3
   },
   "file_extension": ".py",
   "mimetype": "text/x-python",
   "name": "python",
   "nbconvert_exporter": "python",
   "pygments_lexer": "ipython3",
   "version": "3.9.7"
  },
  "orig_nbformat": 4,
  "vscode": {
   "interpreter": {
    "hash": "c5aa13c5662b7cd49c2a6a4cb6c712880a857c98a831bc049e568d94e5223a76"
   }
  }
 },
 "nbformat": 4,
 "nbformat_minor": 2
}
