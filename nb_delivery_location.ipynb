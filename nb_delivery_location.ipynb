{
 "cells": [
  {
   "cell_type": "markdown",
   "metadata": {},
   "source": [
    "## NLP Setup"
   ]
  },
  {
   "cell_type": "code",
   "execution_count": null,
   "metadata": {},
   "outputs": [],
   "source": [
    "import pickle\n",
    "import sys\n",
    "import spacy\n",
    "\n",
    "# Load NLP\n",
    "#sys.path.append('../')\n",
    "\n",
    "with open('./nlp/nlp.pickle', 'rb') as f:\n",
    "    nlp = pickle.load(f)"
   ]
  },
  {
   "cell_type": "code",
   "execution_count": null,
   "metadata": {},
   "outputs": [],
   "source": [
    "from app.templates.meat_sale.domain_model_template import meat_sale_domain_model_template as dm\n",
    "from app.templates.meat_sale.contract_spec_template import meat_sale_contract_spec_template as cs\n",
    "from app.src.sentence_summarizer import SentenceSummarizer\n",
    "\n",
    "summarizer = SentenceSummarizer(nlp)\n",
    "\n",
    "ob = cs.obligations['delivery']\n",
    "ob.to_sym()"
   ]
  },
  {
   "cell_type": "code",
   "execution_count": null,
   "metadata": {},
   "outputs": [],
   "source": [
    "test_suite = [\n",
    "    ['at the warehouse', 'warehouse'],\n",
    "    ['to the warehouse', 'warehouse'],\n",
    "    ['at their warehouse', 'buyer.warehouse'], #??\n",
    "    ['at its warehouse', 'buyer.warehouse'], #??\n",
    "    ['at the buyer\\'s address', 'buyer.address'],\n",
    "    ['at 1234 Main Street, Ottawa, ON', '1234 Main Street, Ottawa, ON'],\n",
    "    #...\n",
    "]\n",
    "\n",
    "index = 0\n",
    "sentence = test_suite[index][0]\n",
    "\n",
    "doc = nlp(sentence)\n",
    "\n",
    "summarizer.summarize(sentence)"
   ]
  },
  {
   "cell_type": "code",
   "execution_count": null,
   "metadata": {},
   "outputs": [],
   "source": [
    "from app.src.rules.meat_sale.delivery_location.processor import DeliveryLocationProcessor\n",
    "from app.src.rules.meat_sale.delivery_location.location_extractor import LocationExtractor\n",
    "from app.src.rules.meat_sale.delivery_location.matchers import get_matcher\n",
    "\n",
    "matcher = get_matcher(nlp)\n",
    "location_extractor = LocationExtractor(nlp, matcher)\n",
    "processor = DeliveryLocationProcessor(nlp, location_extractor)"
   ]
  },
  {
   "cell_type": "code",
   "execution_count": null,
   "metadata": {},
   "outputs": [],
   "source": [
    "from app.classes.symboleo_contract import DomainModel\n",
    "from app.classes.domain_model.domain_model import DomainProp\n",
    "\n",
    "result = location_extractor.extract(sentence, dm)\n",
    "print('\\nresult:', result)"
   ]
  }
 ],
 "metadata": {
  "kernelspec": {
   "display_name": "Python 3.9.7 ('base')",
   "language": "python",
   "name": "python3"
  },
  "language_info": {
   "codemirror_mode": {
    "name": "ipython",
    "version": 3
   },
   "file_extension": ".py",
   "mimetype": "text/x-python",
   "name": "python",
   "nbconvert_exporter": "python",
   "pygments_lexer": "ipython3",
   "version": "3.9.7"
  },
  "orig_nbformat": 4,
  "vscode": {
   "interpreter": {
    "hash": "5e1573d6c84447af34afea73405281252e0fe9e7aa5b16df75ea480bceab155a"
   }
  }
 },
 "nbformat": 4,
 "nbformat_minor": 2
}
