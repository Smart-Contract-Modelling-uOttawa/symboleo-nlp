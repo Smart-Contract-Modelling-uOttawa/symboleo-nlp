{
 "cells": [
  {
   "cell_type": "markdown",
   "metadata": {},
   "source": [
    "## NLP Setup"
   ]
  },
  {
   "cell_type": "code",
   "execution_count": null,
   "metadata": {},
   "outputs": [],
   "source": [
    "import pickle\n",
    "import sys\n",
    "import spacy\n",
    "\n",
    "# Load NLP\n",
    "#sys.path.append('../')\n",
    "\n",
    "with open('./nlp/nlp.pickle', 'rb') as f:\n",
    "    nlp = pickle.load(f)\n",
    "\n",
    "print(nlp.pipe_names)"
   ]
  },
  {
   "cell_type": "code",
   "execution_count": null,
   "metadata": {},
   "outputs": [],
   "source": [
    "from app.templates.meat_sale.domain_model_template import meat_sale_domain_model_template as dm\n",
    "from app.templates.meat_sale.contract_spec_template import meat_sale_contract_spec_template as cs\n",
    "from app.src.sentence_summarizer import SentenceSummarizer\n",
    "\n",
    "summarizer = SentenceSummarizer(nlp)\n",
    "\n",
    "ob = cs.obligations['delivery']\n",
    "ob.to_sym()"
   ]
  },
  {
   "cell_type": "code",
   "execution_count": null,
   "metadata": {},
   "outputs": [],
   "source": [
    "from app.templates.meat_sale.contract_template import get_template\n",
    "\n",
    "contract_template = get_template()"
   ]
  },
  {
   "cell_type": "code",
   "execution_count": null,
   "metadata": {},
   "outputs": [],
   "source": [
    "test_suite = [\n",
    "    ['at the warehouse', 'warehouse'], \n",
    "    ['to the warehouse', 'warehouse'], \n",
    "    ['at their warehouse', 'buyer.address'], \n",
    "    ['at its warehouse', 'buyer.address'], \n",
    "    ['at the buyer\\'s address', 'buyer.address'],\n",
    "    ['at 883 5th Ave, Ottawa, ON', '1234 Main Street, Ottawa, ON'],\n",
    "    #...\n",
    "]\n",
    "\n",
    "index = 4\n",
    "sentence = test_suite[index][0]\n",
    "\n",
    "doc = nlp(sentence)\n",
    "\n",
    "summarizer.summarize(sentence)"
   ]
  },
  {
   "cell_type": "code",
   "execution_count": null,
   "metadata": {},
   "outputs": [],
   "source": [
    "from app.src.rules.meat_sale.delivery_location.location_extractor import LocationExtractor\n",
    "from app.src.rules.meat_sale.delivery_location.address_extractor import AddressExtractor\n",
    "from app.src.rules.meat_sale.delivery_location.matchers import get_validation_matcher\n",
    "\n",
    "from app.src.rules.meat_sale.delivery_location.role_score_builder import RoleScoreBuilder\n",
    "from app.src.rules.meat_sale.delivery_location.coref_getter import CorefGetter\n",
    "from app.src.rules.shared.match_validator import MatchValidator\n",
    "\n",
    "from app.src.rules.meat_sale.delivery_location.basic_scorer import BasicScorer\n",
    "from app.src.rules.meat_sale.delivery_location.address_scorer import AddressScorer\n",
    "from app.src.rules.meat_sale.delivery_location.noun_chunk_scorer import NounChunkScorer\n",
    "from app.src.rules.meat_sale.delivery_location.role_scorer import RoleScorer\n",
    "\n",
    "init_role_scores = {\n",
    "    'buyer': 0.6,\n",
    "    'seller': 0.4\n",
    "}\n",
    "\n",
    "key = 'DELIVERY_LOCATION'\n",
    "\n",
    "coref_getter = CorefGetter(nlp)\n",
    "\n",
    "address_extractor = AddressExtractor()\n",
    "\n",
    "role_score_builder = RoleScoreBuilder(nlp, init_role_scores, coref_getter)\n",
    "\n",
    "scorers = [\n",
    "    BasicScorer('buyer', 0),\n",
    "    NounChunkScorer(nlp),\n",
    "    AddressScorer(nlp, address_extractor),\n",
    "    RoleScorer(nlp, role_score_builder)\n",
    "]\n",
    "\n",
    "v_matcher = get_validation_matcher(nlp)\n",
    "validator = MatchValidator(v_matcher)\n",
    "\n",
    "location_extractor = LocationExtractor(nlp, validator, scorers)"
   ]
  },
  {
   "cell_type": "code",
   "execution_count": null,
   "metadata": {},
   "outputs": [],
   "source": [
    "from app.classes.contract_update_request import ContractUpdateRequest\n",
    "\n",
    "req = ContractUpdateRequest(\n",
    "    contract_template,\n",
    "    key,\n",
    "    sentence,\n",
    "    doc\n",
    ")\n",
    "\n",
    "result = location_extractor.extract(req)"
   ]
  },
  {
   "cell_type": "code",
   "execution_count": null,
   "metadata": {},
   "outputs": [],
   "source": [
    "print(result)"
   ]
  },
  {
   "cell_type": "code",
   "execution_count": null,
   "metadata": {},
   "outputs": [],
   "source": []
  }
 ],
 "metadata": {
  "kernelspec": {
   "display_name": "Python 3.9.7 ('base')",
   "language": "python",
   "name": "python3"
  },
  "language_info": {
   "codemirror_mode": {
    "name": "ipython",
    "version": 3
   },
   "file_extension": ".py",
   "mimetype": "text/x-python",
   "name": "python",
   "nbconvert_exporter": "python",
   "pygments_lexer": "ipython3",
   "version": "3.9.7"
  },
  "orig_nbformat": 4,
  "vscode": {
   "interpreter": {
    "hash": "5e1573d6c84447af34afea73405281252e0fe9e7aa5b16df75ea480bceab155a"
   }
  }
 },
 "nbformat": 4,
 "nbformat_minor": 2
}
