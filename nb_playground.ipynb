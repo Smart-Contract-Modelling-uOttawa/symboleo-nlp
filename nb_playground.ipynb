{
 "cells": [
  {
   "attachments": {},
   "cell_type": "markdown",
   "metadata": {},
   "source": [
    "## NLP Setup"
   ]
  },
  {
   "cell_type": "code",
   "execution_count": null,
   "metadata": {},
   "outputs": [],
   "source": [
    "import pickle\n",
    "import sys\n",
    "import spacy\n",
    "\n",
    "# Load NLP\n",
    "#sys.path.append('../')\n",
    "\n",
    "with open('./nlp/nlp.pickle', 'rb') as f:\n",
    "    nlp = pickle.load(f)"
   ]
  },
  {
   "cell_type": "code",
   "execution_count": null,
   "metadata": {},
   "outputs": [],
   "source": [
    "from app.classes.units.input_unit import InputUnit, UnitType\n",
    "from app.classes.operations.user_input import UserInput\n",
    "\n",
    "from app.src.operations.dependency_builder import DependencyBuilder\n",
    "\n",
    "from app.src.custom_event_extractor.custom_event_extractor_builder import CustomEventExtractorBuilder\n",
    "\n",
    "from tests.test_suites.isolated_test_cases.tianhe import test_case\n",
    "\n",
    "deps = DependencyBuilder.build(fake = False)\n",
    "\n",
    "\n",
    "cee = CustomEventExtractorBuilder.build(deps)\n",
    "\n",
    "user_inputs = [\n",
    "    UserInput(UnitType.TIMESPAN),\n",
    "    UserInput(UnitType.TIME_VALUE, '2'),\n",
    "    UserInput(UnitType.TIME_UNIT, 'days'),\n",
    "    UserInput(UnitType.PRIOR_TO, 'prior to'),\n",
    "    UserInput(UnitType.EVENT),\n",
    "    UserInput(UnitType.CUSTOM_EVENT),\n",
    "    UserInput(UnitType.SUBJECT, 'the party'),\n",
    "    UserInput(UnitType.INTRANSITIVE_VERB, 'happening'),\n",
    "]\n",
    "\n",
    "contract = test_case.init_sym\n",
    "\n",
    "result = cee.extract(user_inputs, contract)"
   ]
  },
  {
   "cell_type": "code",
   "execution_count": null,
   "metadata": {},
   "outputs": [],
   "source": [
    "from app.src.custom_event_extractor.verb.verb_extractor import VerbExtractor\n",
    "\n",
    "from app.src.custom_event_extractor.verb.lemmatizer import Lemmatizer\n",
    "from app.src.custom_event_extractor.verb.conjugator import MyConjugator\n",
    "from app.src.custom_event_extractor.verb.conjugator import ML3Conjugator\n",
    "\n",
    "lemmatizer = Lemmatizer(deps.nlp)\n",
    "\n",
    "inner_conjugator = ML3Conjugator(language = 'en')\n",
    "conjugator = MyConjugator(inner_conjugator)\n",
    "\n",
    "verb_extractor = VerbExtractor(lemmatizer, conjugator)\n"
   ]
  },
  {
   "cell_type": "code",
   "execution_count": null,
   "metadata": {},
   "outputs": [],
   "source": [
    "x = verb_extractor.extract('happening', contract)"
   ]
  },
  {
   "cell_type": "code",
   "execution_count": null,
   "metadata": {},
   "outputs": [],
   "source": [
    "x.verb_types"
   ]
  },
  {
   "cell_type": "code",
   "execution_count": 1,
   "metadata": {},
   "outputs": [
    {
     "name": "stdout",
     "output_type": "stream",
     "text": [
      "CCC returns [<VerbType.TRANSITIVE: ('transitive',)>]\n"
     ]
    },
    {
     "data": {
      "text/plain": [
       "'evt_return_product'"
      ]
     },
     "execution_count": 1,
     "metadata": {},
     "output_type": "execute_result"
    },
    {
     "ename": "",
     "evalue": "",
     "output_type": "error",
     "traceback": [
      "\u001b[1;31mThe Kernel crashed while executing code in the the current cell or a previous cell. Please review the code in the cell(s) to identify a possible cause of the failure. Click <a href='https://aka.ms/vscodeJupyterKernelCrash'>here</a> for more info. View Jupyter <a href='command:jupyter.viewOutput'>log</a> for further details."
     ]
    }
   ],
   "source": [
    "from tests.helpers.test_obj_lib.isolated_test_objects import CustomEvents\n",
    "\n",
    "x= CustomEvents.return_product()\n",
    "\n",
    "x.event_key()"
   ]
  },
  {
   "cell_type": "code",
   "execution_count": null,
   "metadata": {},
   "outputs": [],
   "source": [
    "from app.classes.pattern_classes.within_timespan_event import WithinTimespanEvent\n",
    "\n",
    "x = WithinTimespanEvent()\n",
    "\n",
    "x.__val_dict"
   ]
  },
  {
   "cell_type": "code",
   "execution_count": null,
   "metadata": {},
   "outputs": [],
   "source": [
    "from app.src.object_mappers.time_period_mapper import TimePeriod\n",
    "\n",
    "\n",
    "f = TimePeriod('test')\n",
    "\n",
    "type(f)"
   ]
  },
  {
   "cell_type": "code",
   "execution_count": null,
   "metadata": {},
   "outputs": [],
   "source": [
    "import json\n",
    "from app.classes.units.all_units import *\n",
    "\n",
    "x = TimespanUnit()\n",
    "\n",
    "y = x.to_json()\n",
    "\n",
    "y\n"
   ]
  },
  {
   "cell_type": "code",
   "execution_count": null,
   "metadata": {},
   "outputs": [],
   "source": [
    "from app.src.norm_update_extractor.handlers.norm_update_handler_dict import NormUpdateHandlerDictBuilder\n",
    "\n",
    "d = NormUpdateHandlerDictBuilder.build()\n",
    "\n",
    "d[type(WithinTimespanEvent())]"
   ]
  },
  {
   "cell_type": "code",
   "execution_count": null,
   "metadata": {},
   "outputs": [],
   "source": [
    "from app.src.grammar_builder.grammar_builder import GrammarBuilder\n",
    "from app.src.grammar_builder.pattern_tree_builder import PatternTreeBuilder\n",
    "from app.src.grammar_builder.tree_printer import TreePrinter\n",
    "from app.classes.pattern_classes.pattern_class import PatternClass, PatternVariable as PV\n",
    "\n",
    "from app.classes.pattern_classes.within_timespan_event import WithinTimespanEvent\n",
    "\n",
    "ptb = PatternTreeBuilder()\n",
    "\n",
    "class TestClass(PatternClass):\n",
    "    sequence = [PV.WITHIN, PV.TIMESPAN, PV.P_AFTER_W]\n",
    "\n",
    "res = ptb.build(TestClass)\n",
    "\n",
    "tp = TreePrinter()\n",
    "\n",
    "tp.print(res[0])"
   ]
  },
  {
   "cell_type": "code",
   "execution_count": null,
   "metadata": {},
   "outputs": [],
   "source": [
    "from app.classes.units.unit_type import UnitType\n",
    "from app.classes.units.all_units import unit_type_dict\n",
    "\n",
    "f = UnitType.BEFORE\n",
    "print(type(f), isinstance(f, UnitType))\n",
    "\n",
    "ut = UnitType['FROM']\n",
    "\n",
    "print(ut)\n",
    "\n",
    "x = unit_type_dict[ut]\n",
    "\n",
    "print(x)\n",
    "\n",
    "#x = unit_type_dict[]\n"
   ]
  },
  {
   "cell_type": "code",
   "execution_count": null,
   "metadata": {},
   "outputs": [],
   "source": [
    "from app.classes.pattern_classes.all_pattern_classes import *\n",
    "\n",
    "a = [BeforeDate(), BeforeDate()]\n",
    "\n",
    "d_a = []\n",
    "for x in a:\n",
    "    if type(x) not in [type(y) for y in d_a]:\n",
    "        d_a.append(x)\n",
    "\n",
    "print(d_a)"
   ]
  },
  {
   "cell_type": "code",
   "execution_count": null,
   "metadata": {},
   "outputs": [],
   "source": [
    "from app.classes.grammar.grammar_node import GrammarNode\n",
    "from app.src.grammar_builder.tree_printer import TreePrinter\n",
    "from app.src.grammar_builder.grammar_builder_constructor import GrammarBuilderConstructor\n",
    "from app.classes.pattern_classes.all_pattern_classes import *\n",
    "\n",
    "gb = GrammarBuilderConstructor.construct()\n",
    "\n",
    "test_set = GrammarNode('A', [\n",
    "    GrammarNode('B', [\n",
    "        GrammarNode('C'),\n",
    "    ]),\n",
    "    GrammarNode('D', [\n",
    "        GrammarNode('E'),\n",
    "    ]),\n",
    "])\n",
    "\n",
    "new_tree = GrammarNode('B', [\n",
    "    GrammarNode('F'),\n",
    "])\n",
    "\n",
    "pattern_classes = get_all_pattern_classes()\n",
    "\n",
    "pattern_classes = [\n",
    "    BeforeDate(),\n",
    "    BeforeEvent(),\n",
    "    # AfterDate(),\n",
    "    # WithinTimespanEvent(),\n",
    "    # TimespanBeforeEvent(),\n",
    "]\n",
    "\n",
    "result = gb.build(pattern_classes)\n",
    "\n",
    "\n",
    "#gb._rec_merge(test_set, new_tree)\n",
    "\n",
    "tp = TreePrinter()\n",
    "\n",
    "tp.print(result)"
   ]
  },
  {
   "attachments": {},
   "cell_type": "markdown",
   "metadata": {},
   "source": [
    "## Generating Sym"
   ]
  },
  {
   "cell_type": "code",
   "execution_count": null,
   "metadata": {},
   "outputs": [],
   "source": [
    "from app.templates.template_getter import get_template\n",
    "\n",
    "c_id = 'prop'\n",
    "is_raw = True\n",
    "\n",
    "if is_raw:\n",
    "    folder = f'{c_id}/t_raw'\n",
    "    c_id = f'{c_id}_raw'\n",
    "else:\n",
    "    folder = f'{c_id}/t'\n",
    "\n",
    "contract = get_template(c_id)\n",
    "sym_spec = contract.to_sym()\n",
    "\n",
    "FILEPATH = f'./app/templates/{folder}/{c_id}.txt'\n",
    "\n",
    "f = open(FILEPATH, 'w')\n",
    "f.write(sym_spec)\n",
    "f.close()"
   ]
  },
  {
   "attachments": {},
   "cell_type": "markdown",
   "metadata": {},
   "source": [
    "## Test Bench"
   ]
  },
  {
   "cell_type": "code",
   "execution_count": null,
   "metadata": {},
   "outputs": [],
   "source": [
    "from app.console_lib.sentence_summarizer import SentenceSummarizer\n",
    "\n",
    "summarizer = SentenceSummarizer(nlp)"
   ]
  },
  {
   "cell_type": "code",
   "execution_count": null,
   "metadata": {},
   "outputs": [],
   "source": [
    "val = 'I arrived within 2 weeks of the project being completed.'\n",
    "\n",
    "doc = nlp(val)\n",
    "\n",
    "summarizer.summarize(val)"
   ]
  }
 ],
 "metadata": {
  "kernelspec": {
   "display_name": "Python 3.9.7 ('sym-env': venv)",
   "language": "python",
   "name": "python3"
  },
  "language_info": {
   "codemirror_mode": {
    "name": "ipython",
    "version": 3
   },
   "file_extension": ".py",
   "mimetype": "text/x-python",
   "name": "python",
   "nbconvert_exporter": "python",
   "pygments_lexer": "ipython3",
   "version": "3.9.7"
  },
  "orig_nbformat": 4,
  "vscode": {
   "interpreter": {
    "hash": "c5aa13c5662b7cd49c2a6a4cb6c712880a857c98a831bc049e568d94e5223a76"
   }
  }
 },
 "nbformat": 4,
 "nbformat_minor": 2
}
