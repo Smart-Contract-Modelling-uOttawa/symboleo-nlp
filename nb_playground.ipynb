{
 "cells": [
  {
   "attachments": {},
   "cell_type": "markdown",
   "metadata": {},
   "source": [
    "### NLP Setup"
   ]
  },
  {
   "cell_type": "code",
   "execution_count": null,
   "metadata": {},
   "outputs": [],
   "source": [
    "import pickle\n",
    "import sys\n",
    "import spacy\n",
    "\n",
    "# Load NLP\n",
    "#sys.path.append('../')\n",
    "\n",
    "with open('./nlp/nlp.pickle', 'rb') as f:\n",
    "    nlp = pickle.load(f)"
   ]
  },
  {
   "cell_type": "code",
   "execution_count": 1,
   "metadata": {},
   "outputs": [],
   "source": [
    "from app.templates.meat_sale.t_raw.contract_spec import get_contract_spec\n",
    "\n",
    "x = get_contract_spec()"
   ]
  },
  {
   "cell_type": "code",
   "execution_count": 2,
   "metadata": {},
   "outputs": [],
   "source": [
    "from app.templates.template_getter import get_template\n",
    "\n",
    "c_id = 'prop'\n",
    "is_raw = False\n",
    "\n",
    "if is_raw:\n",
    "    folder = f'{c_id}/t_raw'\n",
    "    c_id = f'{c_id}_raw'\n",
    "else:\n",
    "    folder = f'{c_id}/t'\n",
    "\n",
    "contract = get_template(c_id)\n",
    "sym_spec = contract.to_sym()\n",
    "\n",
    "FILEPATH = f'./app/templates/{folder}/{c_id}.txt'\n",
    "\n",
    "f = open(FILEPATH, 'w')\n",
    "f.write(sym_spec)\n",
    "f.close()"
   ]
  },
  {
   "cell_type": "code",
   "execution_count": null,
   "metadata": {},
   "outputs": [],
   "source": []
  },
  {
   "attachments": {},
   "cell_type": "markdown",
   "metadata": {},
   "source": []
  },
  {
   "cell_type": "code",
   "execution_count": null,
   "metadata": {},
   "outputs": [],
   "source": [
    "from app.classes.custom_event.verb import Verb, VerbType, VerbConjugations\n",
    "\n",
    "verb_deliver = Verb(\n",
    "    verb_str = 'delivers',\n",
    "    lemma = 'deliver',\n",
    "    verb_types = [VerbType.TRANSITIVE],\n",
    "    conjugations = VerbConjugations(\n",
    "        present_singular = 'deliver',\n",
    "        present_plural = 'delivers',\n",
    "        past = 'delivered',\n",
    "        continuous = 'delivering'\n",
    "    )\n",
    ")\n",
    "\n",
    "verb_deliver.print_me()"
   ]
  },
  {
   "cell_type": "code",
   "execution_count": null,
   "metadata": {},
   "outputs": [],
   "source": [
    "from app.classes.custom_event.noun_phrase import NounPhrase\n",
    "\n",
    "photo_files = NounPhrase(\n",
    "    str_val = 'the original digital photo files',\n",
    "    head = 'files', \n",
    "    is_plural = True, \n",
    "    is_role = False, \n",
    "    det = 'the', \n",
    "    adjs = ['original', 'digital', 'photo'], \n",
    "    asset_type = 'Files'\n",
    ")\n",
    "\n",
    "seller = NounPhrase(\n",
    "    str_val = 'seller', \n",
    "    head = 'seller', \n",
    "    is_plural = False,\n",
    "    is_role=True, \n",
    "    det = None,\n",
    "    adjs = [], \n",
    "    asset_type='Role'\n",
    ")"
   ]
  },
  {
   "cell_type": "code",
   "execution_count": null,
   "metadata": {},
   "outputs": [],
   "source": [
    "[x.name for x in verb_deliver.verb_types]"
   ]
  },
  {
   "cell_type": "code",
   "execution_count": null,
   "metadata": {},
   "outputs": [],
   "source": [
    "#%store nlp\n",
    "\n",
    "%store -r  nlp"
   ]
  },
  {
   "cell_type": "code",
   "execution_count": null,
   "metadata": {},
   "outputs": [],
   "source": []
  },
  {
   "attachments": {},
   "cell_type": "markdown",
   "metadata": {},
   "source": [
    "## Input options\n"
   ]
  },
  {
   "cell_type": "code",
   "execution_count": null,
   "metadata": {},
   "outputs": [],
   "source": [
    "from app.src.child_getters.child_getter_dict import ChildGetterDictConstructor\n",
    "from app.src.grammar.value_getter import InputValueGetter\n",
    "from app.src.grammar.grammar_selector import GrammarSelector\n",
    "from app.src.grammar.manual_token_selector import ManualGrammarNodeSelector\n",
    "\n",
    "from app.src.grammar.input_converter_builder import ElementExtractorBuilder\n",
    "\n",
    "from app.src.operations.dependency_builder import DependencyBuilder\n",
    "\n",
    "deps = DependencyBuilder.build(fake = True)\n",
    "\n",
    "child_gett_dict = ChildGetterDictConstructor.build()\n",
    "value_getter = InputValueGetter()\n",
    "input_converter = ElementExtractorBuilder.build(deps)\n",
    "inner_selector = ManualGrammarNodeSelector()\n",
    "\n",
    "gs = GrammarSelector(child_gett_dict, value_getter, input_converter, inner_selector)"
   ]
  },
  {
   "cell_type": "code",
   "execution_count": null,
   "metadata": {},
   "outputs": [],
   "source": [
    "from app.templates.template_getter import get_template\n",
    "contract = get_template('sample_t')"
   ]
  },
  {
   "cell_type": "code",
   "execution_count": null,
   "metadata": {},
   "outputs": [],
   "source": [
    "res = gs.select(contract)"
   ]
  },
  {
   "cell_type": "code",
   "execution_count": null,
   "metadata": {},
   "outputs": [],
   "source": [
    "for x in res:\n",
    "    print(x.unit_type, x.value)"
   ]
  },
  {
   "attachments": {},
   "cell_type": "markdown",
   "metadata": {},
   "source": [
    "## Templated events\n"
   ]
  },
  {
   "cell_type": "code",
   "execution_count": null,
   "metadata": {},
   "outputs": [],
   "source": [
    "# define an DomainEventTemplate structure\n",
    "\n",
    "#DomainEvent: name, props (key, type)\n",
    "\n",
    "# Example: Contract is {contract_action}\n",
    "## template: \n",
    "\n",
    "# Ok so maybe the contract events are different, since they are based around verbs\n",
    "\n",
    "# Contract Event: Contract is {CONTRACT_ACTION}\n",
    "# Obligation Event: [x obligation] is {OBLIGATION_ACTION}\n",
    "\n",
    "## Main question: do we simply state the obligation variable and the action\n",
    "## OR do we dig in and try to make it more NL-friendly\n",
    "\n",
    "\n",
    "\n",
    "# We still need to note its a contractEvent for purposes of sym building\n",
    "\n"
   ]
  },
  {
   "cell_type": "code",
   "execution_count": null,
   "metadata": {},
   "outputs": [],
   "source": [
    "from string import Template\n",
    "from typing import List, Tuple\n",
    "  \n",
    "# List Student stores the name and marks of three students\n",
    "arg_vals = [('name','joe'), ('marks',78)]\n",
    "  \n",
    "# We are creating a basic structure to print the name and\n",
    "# marks of the students.\n",
    "t = Template('Hi $name, you have got $marks marks')\n",
    "\n",
    "#mapping = {'name': 'John Doe', 'site': 'StackAbuse.com'}\n",
    "\n",
    "mm = {i[0]: i[1] for i in arg_vals}\n",
    "\n",
    "m = {}\n",
    "for i in arg_vals:\n",
    "     m[i[0]] = i[1]\n",
    "\n",
    "t.substitute(**mm)"
   ]
  },
  {
   "cell_type": "code",
   "execution_count": null,
   "metadata": {},
   "outputs": [],
   "source": [
    "from app.src.extractors.value_extractor import IExtractValue\n",
    "\n",
    "\n",
    "x = IExtractValue()"
   ]
  },
  {
   "attachments": {},
   "cell_type": "markdown",
   "metadata": {},
   "source": [
    "Suppose there is a payment obligation:\n",
    "ob_payment: \"Buyer must pay $100 to seller with credit card\"\n",
    "\n",
    "ob_payment is Violated\n",
    "OR\n",
    "buyer fails to pay $100 to seller with credit card\n",
    "OR\n",
    "buyer violates the ob_payment obligation\n",
    "\n",
    "The ideal case is not far off from regular event generation...\n",
    "Buyer fails to pay $100 to seller with credit card\n",
    "VS\n",
    "Buyer pays $100 to seller with credit card\n",
    "\n",
    "So we would need to map the obligation actions to different edits...\n",
    "Might need a structure to represent these. It would contain the CustomEvent as a property maybe\n",
    "\n",
    "Lets start with ContractEvents\n",
    "- \"Before contract is terminated\"\n",
    "\n",
    "Process: Event => StandardEvent\n",
    "- subject: contract (from a set of choices)\n",
    "- verb: detect that we've shown contract, and show the possible verbs\n",
    "- done:\n",
    "\n",
    "OR\n",
    "- Event => StandardEvent => Contract (as subj)\n",
    "- then the contract events will be more hard-coded in.\n",
    "- This seems to be the better way to do it.\n",
    "- The point of the tree structure is to code in the logic\n",
    "- ** But we may need to alter that eventually anyways\n",
    "- the get_children function will likely get much more complex\n",
    "\n",
    "\n",
    "\n",
    "\n",
    "\n"
   ]
  },
  {
   "cell_type": "code",
   "execution_count": null,
   "metadata": {},
   "outputs": [],
   "source": [
    "from app.src.helpers.sentence_summarizer import SentenceSummarizer\n",
    "\n",
    "summarizer = SentenceSummarizer(nlp)"
   ]
  },
  {
   "cell_type": "code",
   "execution_count": null,
   "metadata": {},
   "outputs": [],
   "source": [
    "x = ''\n",
    "\n",
    "\n",
    "summarizer.summarize(x)"
   ]
  },
  {
   "attachments": {},
   "cell_type": "markdown",
   "metadata": {},
   "source": [
    "## Statements"
   ]
  },
  {
   "cell_type": "code",
   "execution_count": null,
   "metadata": {},
   "outputs": [],
   "source": [
    "s = 'paid late'\n",
    "\n",
    "summarizer.summarize(s)"
   ]
  },
  {
   "cell_type": "code",
   "execution_count": null,
   "metadata": {},
   "outputs": [],
   "source": [
    "from app.src.nlp.prep_phrase_extractor import PrepPhraseExtractor\n",
    "\n",
    "v = 'to the lighthouse'\n",
    "\n",
    "ppe = PrepPhraseExtractor(None)\n",
    "\n",
    "pp = ppe.extract(v)\n",
    "\n",
    "pp.preposition"
   ]
  },
  {
   "cell_type": "code",
   "execution_count": null,
   "metadata": {},
   "outputs": [],
   "source": [
    "import re\n",
    "\n",
    "x = re.search(\"\\$\\d+(?:\\.\\d+)?\", '$100')\n",
    "\n",
    "print(x)"
   ]
  },
  {
   "cell_type": "code",
   "execution_count": null,
   "metadata": {},
   "outputs": [],
   "source": [
    "# Can probably use a matcher here\n",
    "# And also the noun chunks or noun phrases\n",
    "\n",
    "# What were looking for: NP - V(linking) - NP/ADJ\n",
    "## V(linking): Make a list of lemmas\n",
    "## NP/ADJ"
   ]
  },
  {
   "cell_type": "code",
   "execution_count": null,
   "metadata": {},
   "outputs": [],
   "source": [
    "main_linking_verb_lemmas = ['be', 'become', 'seem']\n",
    "sense_lemmas = ['look', 'appear', 'sound', 'taste', 'smell', 'feel']\n",
    "\n",
    "lemma_list = main_linking_verb_lemmas + sense_lemmas"
   ]
  },
  {
   "cell_type": "code",
   "execution_count": null,
   "metadata": {},
   "outputs": [],
   "source": [
    "doc = nlp(s)\n",
    "\n",
    "for nc in doc.noun_chunks:\n",
    "    print(nc)"
   ]
  },
  {
   "cell_type": "code",
   "execution_count": null,
   "metadata": {},
   "outputs": [],
   "source": [
    "sent = list(doc.sents)[0]\n",
    "print(sent._.parse_string)\n",
    "\n",
    "cs = list(sent._.children)\n",
    "\n",
    "if cs[0]._.labels[0] == 'NP':\n",
    "    np = cs[0].text\n",
    "    print('NP:', np)\n",
    "\n",
    "if cs[1]._.labels[0] == 'VP':\n",
    "    cs2 = list(cs[1]._.children)\n",
    "    verb = cs2[0][0]\n",
    "\n",
    "    if verb.pos_ in ['VERB', 'AUX']:\n",
    "        if verb.lemma_ in lemma_list:\n",
    "            verb_text = verb.text\n",
    "            print('VERB:', verb_text)\n",
    "\n",
    "    pred = cs2[1]\n",
    "    # \n",
    "    pred_labels = list(pred._.labels)\n",
    "    if len(pred_labels) > 0:\n",
    "        if pred_labels[0] in ['ADJP', 'NP']:\n",
    "            pred = pred.text\n",
    "            print('PRED:', pred)\n",
    "\n"
   ]
  },
  {
   "cell_type": "code",
   "execution_count": null,
   "metadata": {},
   "outputs": [],
   "source": [
    "for x in sent._.children:\n",
    "    print(x._.labels, x.text)\n",
    "    for xx in x._.constituents:\n",
    "        print('--', xx._.labels)\n",
    "    # for xx in x._.children:\n",
    "    #     print('--', xx._.labels)"
   ]
  },
  {
   "cell_type": "code",
   "execution_count": null,
   "metadata": {},
   "outputs": [],
   "source": [
    "from spacy.matcher import PhraseMatcher, Matcher\n",
    "\n",
    "matcher = Matcher(nlp.vocab)\n",
    "\n",
    "main_linking_verb_lemmas = ['be', 'become', 'seem']\n",
    "sense_lemmas = ['look', 'appear', 'sound', 'taste', 'smell', 'feel']\n",
    "# other_linking_lemmas = ['grow, turn, remain, prove, act, stay, get']\n",
    "\n",
    "# Cant use the matcher... We need to know about noun phrases\n",
    "## Need something custom\n",
    "\n",
    "\n",
    "linking_verb_patterns = [\n",
    "    [\n",
    "        { \"\" }\n",
    "    ]\n",
    "]\n",
    "\n",
    "# separate ones for contract event, ob event, power event, etc?\n",
    "domain_event_patterns = [\n",
    "    [{\"LOWER\": {'IN': ['contract']}, \"POS\": \"NOUN\" } , {\"POS\": \"VERB\", \"LEMMA\": {\"IN\": contract_verbs}} ],\n",
    "    [{\"LOWER\": {\"IN\": contract_event_nouns}, \"POS\": \"NOUN\"}, {\"POS\": {\"IN\": [\"VERB\", \"AUX\"]}, \"OP\": \"+\"}, {\"LOWER\": \"not\", \"OP\": \"?\"}, {\"LEMMA\": {\"IN\": contract_event_verbs}, \"OP\": \"?\"}],\n",
    "    [{\"POS\": \"NOUN\", \"LEMMA\": {\"IN\": contract_verb_nouns}}, {\"LOWER\": \"of\"}, {\"LOWER\": \"the\"}, {\"LOWER\": {'IN': ['contract']}, \"POS\": \"NOUN\" }]\n",
    "]\n",
    "\n",
    "matcher.add(\"DOMAIN_EVENT\", domain_event_patterns)"
   ]
  },
  {
   "attachments": {},
   "cell_type": "markdown",
   "metadata": {},
   "source": [
    "### Symboleo Generator\n"
   ]
  },
  {
   "cell_type": "code",
   "execution_count": null,
   "metadata": {},
   "outputs": [],
   "source": [
    "from app.src.helpers.template_getter import get_template\n",
    "\n",
    "contract = get_template('sample_t')"
   ]
  },
  {
   "cell_type": "code",
   "execution_count": null,
   "metadata": {},
   "outputs": [],
   "source": [
    "results = []\n",
    "\n",
    "for dk in contract.domain_model.events:\n",
    "    domain_obj = contract.domain_model.events[dk]\n",
    "    date_props = [x for x in domain_obj.props if x.type == 'Date']\n",
    "\n",
    "    for dp in date_props:\n",
    "        next_val = f'{domain_obj.name}.{dp.key}'\n",
    "        results.append(next_val)\n",
    "\n",
    "print(results)\n",
    "\n"
   ]
  },
  {
   "cell_type": "code",
   "execution_count": null,
   "metadata": {},
   "outputs": [],
   "source": [
    "results = []\n",
    "\n",
    "decs = contract.contract_spec.declarations\n",
    "\n",
    "for dk in decs:\n",
    "    print(dk)\n",
    "    domain_obj = decs[dk]\n",
    "    # date_props = [x for x in domain_obj.props if x.type == 'Date']\n",
    "\n",
    "    # for dp in date_props:\n",
    "    #     next_val = f'{domain_obj.name}.{dp.key}'\n",
    "    #     results.append(next_val)\n",
    "\n",
    "print(results)\n",
    "\n"
   ]
  },
  {
   "cell_type": "code",
   "execution_count": null,
   "metadata": {},
   "outputs": [],
   "source": [
    "symboleo_spec = contract_spec.to_sym()"
   ]
  },
  {
   "cell_type": "code",
   "execution_count": null,
   "metadata": {},
   "outputs": [],
   "source": [
    "FILENAME = 'sample'\n",
    "FILEPATH = f'./app/templates/sample/t/{FILENAME}.txt'\n",
    "\n",
    "f = open(FILEPATH, 'w')\n",
    "f.write(symboleo_spec)\n",
    "f.close()"
   ]
  },
  {
   "attachments": {},
   "cell_type": "markdown",
   "metadata": {},
   "source": [
    "### Import the Template"
   ]
  },
  {
   "cell_type": "code",
   "execution_count": null,
   "metadata": {},
   "outputs": [],
   "source": [
    "from app.templates.meat_sale.nl_template import nl_template\n",
    "\n",
    "obs = nl_template['obligations']\n",
    "\n",
    "print('OBLIGATIONS')\n",
    "for ob in obs:\n",
    "    print(f'{ob}: {obs[ob]}\\n')"
   ]
  },
  {
   "cell_type": "code",
   "execution_count": null,
   "metadata": {},
   "outputs": [],
   "source": [
    "from app.templates.meat_sale.symboleo import get_template\n",
    "\n",
    "contract_template = get_template()\n",
    "\n",
    "sym_template = contract_template.to_sym()\n",
    "\n",
    "sym_template_path = './app/templates/meat_sale/symboleo/symboleo_spec.txt'\n",
    "with open(sym_template_path, 'w') as f:\n",
    "    f.write(sym_template)"
   ]
  },
  {
   "cell_type": "code",
   "execution_count": null,
   "metadata": {},
   "outputs": [],
   "source": [
    "ex = 'deliver the goods within thirty days'\n",
    "\n",
    "summarizer.summarize(ex)"
   ]
  },
  {
   "attachments": {},
   "cell_type": "markdown",
   "metadata": {},
   "source": [
    "## Graph"
   ]
  },
  {
   "cell_type": "code",
   "execution_count": null,
   "metadata": {},
   "outputs": [],
   "source": [
    "from app.classes.spec.p_atoms import PAtomPredicate\n",
    "from app.src.old.graph.graph_builder import GraphBuilder\n",
    "from app.src.old.graph.graph_visualizer import GraphVisualizer\n",
    "from app.classes.graph.digraph import Digraph\n",
    "\n",
    "graph_builder = GraphBuilder()\n",
    "graph_visualizer = GraphVisualizer()\n",
    "digraph = graph_builder.build(PAtomPredicate)\n",
    "gv = graph_visualizer.create_viz(digraph.nodes)\n",
    "gv.show('nx.html')"
   ]
  },
  {
   "attachments": {},
   "cell_type": "markdown",
   "metadata": {},
   "source": [
    "## Workbench"
   ]
  },
  {
   "cell_type": "code",
   "execution_count": null,
   "metadata": {},
   "outputs": [],
   "source": [
    "val = 'I arrived within 2 weeks of the project being completed.'\n",
    "\n",
    "doc = nlp(val)\n",
    "\n",
    "summarizer.summarize(val)"
   ]
  },
  {
   "cell_type": "code",
   "execution_count": null,
   "metadata": {},
   "outputs": [],
   "source": [
    "# Identify the presence of the contract\n",
    "from nltk.corpus import wordnet as wn "
   ]
  },
  {
   "cell_type": "code",
   "execution_count": null,
   "metadata": {},
   "outputs": [],
   "source": [
    "ss = wn.synsets('contract')\n",
    "\n",
    "contract_synset = wn.synset('contract.n.01')\n",
    "\n",
    "val = 'before the agreement terminates'\n",
    "doc = nlp(val)\n",
    "\n",
    "# Look for a noun that suggests presence of contract\n",
    "## Noun chunk or Noun?\n",
    "## What if it is qualified?\n",
    "nouns = [x for x in doc if x.pos_ == 'NOUN']\n",
    "\n",
    "\n",
    "noun_scores = []\n",
    "\n",
    "for n in nouns:\n",
    "    print(n.text)\n",
    "    n_ss = wn.synsets(n.text, pos=wn.NOUN)\n",
    "    \n",
    "    nd = max([contract_synset.wup_similarity(ns) for ns in n_ss])\n",
    "    noun_scores.append((n, nd))\n",
    "    #print(n_ss)\n",
    "\n",
    "top_ns = max(noun_scores, key=lambda x: x[1])\n",
    "print(top_ns)\n",
    "\n",
    "if top_ns[1] < 0.7:\n",
    "    print('failed threshold')\n",
    "\n",
    "# Look for dependence on event\n",
    "## Case 1: \n",
    "\n",
    "\n",
    "# Contract event\n",
    "\n",
    "\n",
    "# for syn in ss:\n",
    "#     print(syn.name())\n",
    "#     print(syn.definition())\n",
    "#     print('\\n')\n"
   ]
  },
  {
   "attachments": {},
   "cell_type": "markdown",
   "metadata": {},
   "source": [
    "Contract event\n",
    "- presence of contract\n",
    "- something happening to it - narrow set of verbs\n",
    "\n",
    "examples\n",
    "- termination of contract\n",
    "- contract terminate\n",
    "- the contract terminates\n",
    "\n"
   ]
  },
  {
   "cell_type": "code",
   "execution_count": null,
   "metadata": {},
   "outputs": [],
   "source": []
  }
 ],
 "metadata": {
  "kernelspec": {
   "display_name": "Python 3.9.7 ('sym-env': venv)",
   "language": "python",
   "name": "python3"
  },
  "language_info": {
   "codemirror_mode": {
    "name": "ipython",
    "version": 3
   },
   "file_extension": ".py",
   "mimetype": "text/x-python",
   "name": "python",
   "nbconvert_exporter": "python",
   "pygments_lexer": "ipython3",
   "version": "3.9.7"
  },
  "orig_nbformat": 4,
  "vscode": {
   "interpreter": {
    "hash": "c5aa13c5662b7cd49c2a6a4cb6c712880a857c98a831bc049e568d94e5223a76"
   }
  }
 },
 "nbformat": 4,
 "nbformat_minor": 2
}
