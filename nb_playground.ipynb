{
 "cells": [
  {
   "attachments": {},
   "cell_type": "markdown",
   "metadata": {},
   "source": [
    "## NLP Setup"
   ]
  },
  {
   "cell_type": "code",
   "execution_count": null,
   "metadata": {},
   "outputs": [],
   "source": [
    "import pickle\n",
    "import sys\n",
    "import spacy\n",
    "\n",
    "# Load NLP\n",
    "#sys.path.append('../')\n",
    "\n",
    "with open('./nlp/nlp.pickle', 'rb') as f:\n",
    "    nlp = pickle.load(f)"
   ]
  },
  {
   "cell_type": "code",
   "execution_count": 1,
   "metadata": {},
   "outputs": [
    {
     "ename": "AttributeError",
     "evalue": "'WithinTimespanEvent' object has no attribute '__val_dict'",
     "output_type": "error",
     "traceback": [
      "\u001b[1;31m---------------------------------------------------------------------------\u001b[0m",
      "\u001b[1;31mAttributeError\u001b[0m                            Traceback (most recent call last)",
      "\u001b[1;32mc:\\Users\\regan\\Documents\\dev\\symboleo-nlp\\nb_playground.ipynb Cell 3\u001b[0m in \u001b[0;36m5\n\u001b[0;32m      <a href='vscode-notebook-cell:/c%3A/Users/regan/Documents/dev/symboleo-nlp/nb_playground.ipynb#X13sZmlsZQ%3D%3D?line=0'>1</a>\u001b[0m \u001b[39mfrom\u001b[39;00m \u001b[39mapp\u001b[39;00m\u001b[39m.\u001b[39;00m\u001b[39mclasses\u001b[39;00m\u001b[39m.\u001b[39;00m\u001b[39mpattern_classes\u001b[39;00m\u001b[39m.\u001b[39;00m\u001b[39mwithin_timespan_event\u001b[39;00m \u001b[39mimport\u001b[39;00m WithinTimespanEvent\n\u001b[0;32m      <a href='vscode-notebook-cell:/c%3A/Users/regan/Documents/dev/symboleo-nlp/nb_playground.ipynb#X13sZmlsZQ%3D%3D?line=2'>3</a>\u001b[0m x \u001b[39m=\u001b[39m WithinTimespanEvent()\n\u001b[1;32m----> <a href='vscode-notebook-cell:/c%3A/Users/regan/Documents/dev/symboleo-nlp/nb_playground.ipynb#X13sZmlsZQ%3D%3D?line=4'>5</a>\u001b[0m x\u001b[39m.\u001b[39;49m__val_dict\n",
      "\u001b[1;31mAttributeError\u001b[0m: 'WithinTimespanEvent' object has no attribute '__val_dict'"
     ]
    }
   ],
   "source": [
    "from app.classes.pattern_classes.within_timespan_event import WithinTimespanEvent\n",
    "\n",
    "x = WithinTimespanEvent()\n",
    "\n",
    "x.__val_dict"
   ]
  },
  {
   "cell_type": "code",
   "execution_count": 1,
   "metadata": {},
   "outputs": [
    {
     "data": {
      "text/plain": [
       "'{\"options\": null, \"prompt\": \"Timespan\", \"variety\": \"EMPTY\", \"unit_type\": \"TIMESPAN\"}'"
      ]
     },
     "execution_count": 1,
     "metadata": {},
     "output_type": "execute_result"
    }
   ],
   "source": [
    "import json\n",
    "from app.classes.units.all_units import *\n",
    "\n",
    "x = TimespanUnit()\n",
    "\n",
    "y = x.to_json()\n",
    "\n",
    "y\n"
   ]
  },
  {
   "cell_type": "code",
   "execution_count": 4,
   "metadata": {},
   "outputs": [
    {
     "data": {
      "text/plain": [
       "<app.src.norm_update_extractor.handlers.within_timespan_handler.WithinTimespanHandler at 0x1a2125eca60>"
      ]
     },
     "execution_count": 4,
     "metadata": {},
     "output_type": "execute_result"
    }
   ],
   "source": [
    "from app.src.norm_update_extractor.handlers.norm_update_handler_dict import NormUpdateHandlerDictBuilder\n",
    "\n",
    "d = NormUpdateHandlerDictBuilder.build()\n",
    "\n",
    "d[type(WithinTimespanEvent())]"
   ]
  },
  {
   "cell_type": "code",
   "execution_count": 3,
   "metadata": {},
   "outputs": [
    {
     "name": "stdout",
     "output_type": "stream",
     "text": [
      "XX PatternVariable.P_AFTER_W\n",
      "XX PatternVariable.TIMESPAN\n",
      "XX PatternVariable.WITHIN\n",
      " WITHIN\n",
      "- TIMESPAN\n",
      "-- TIME_VALUE\n",
      "--- TIME_UNIT\n",
      "---- AFTER\n",
      "---- FOLLOWING\n",
      "---- FROM\n",
      "---- OF\n",
      "--- AFTER\n",
      "--- FOLLOWING\n",
      "--- FROM\n",
      "--- OF\n",
      "-- AFTER\n",
      "-- FOLLOWING\n",
      "-- FROM\n",
      "-- OF\n"
     ]
    }
   ],
   "source": [
    "from app.src.grammar_builder.grammar_builder import GrammarBuilder\n",
    "from app.src.grammar_builder.pattern_tree_builder import PatternTreeBuilder\n",
    "from app.src.grammar_builder.tree_printer import TreePrinter\n",
    "from app.classes.pattern_classes.pattern_class import PatternClass, PatternVariable as PV\n",
    "\n",
    "from app.classes.pattern_classes.within_timespan_event import WithinTimespanEvent\n",
    "\n",
    "ptb = PatternTreeBuilder()\n",
    "\n",
    "class TestClass(PatternClass):\n",
    "    sequence = [PV.WITHIN, PV.TIMESPAN, PV.P_AFTER_W]\n",
    "\n",
    "res = ptb.build(TestClass)\n",
    "\n",
    "tp = TreePrinter()\n",
    "\n",
    "tp.print(res[0])"
   ]
  },
  {
   "cell_type": "code",
   "execution_count": null,
   "metadata": {},
   "outputs": [],
   "source": [
    "from app.classes.units.unit_type import UnitType\n",
    "from app.classes.units.all_units import unit_type_dict\n",
    "\n",
    "f = UnitType.BEFORE\n",
    "print(type(f), isinstance(f, UnitType))\n",
    "\n",
    "ut = UnitType['FROM']\n",
    "\n",
    "print(ut)\n",
    "\n",
    "x = unit_type_dict[ut]\n",
    "\n",
    "print(x)\n",
    "\n",
    "#x = unit_type_dict[]\n"
   ]
  },
  {
   "cell_type": "code",
   "execution_count": 3,
   "metadata": {},
   "outputs": [
    {
     "name": "stdout",
     "output_type": "stream",
     "text": [
      "[<app.classes.pattern_classes.before_date.BeforeDate object at 0x000001BC48BC3820>]\n"
     ]
    }
   ],
   "source": [
    "from app.classes.pattern_classes.all_pattern_classes import *\n",
    "\n",
    "a = [BeforeDate(), BeforeDate()]\n",
    "\n",
    "d_a = []\n",
    "for x in a:\n",
    "    if type(x) not in [type(y) for y in d_a]:\n",
    "        d_a.append(x)\n",
    "\n",
    "print(d_a)"
   ]
  },
  {
   "cell_type": "code",
   "execution_count": null,
   "metadata": {},
   "outputs": [],
   "source": [
    "from app.classes.grammar.grammar_node import GrammarNode\n",
    "from app.src.grammar_builder.tree_printer import TreePrinter\n",
    "from app.src.grammar_builder.grammar_builder_constructor import GrammarBuilderConstructor\n",
    "from app.classes.pattern_classes.all_pattern_classes import *\n",
    "\n",
    "gb = GrammarBuilderConstructor.construct()\n",
    "\n",
    "test_set = GrammarNode('A', [\n",
    "    GrammarNode('B', [\n",
    "        GrammarNode('C'),\n",
    "    ]),\n",
    "    GrammarNode('D', [\n",
    "        GrammarNode('E'),\n",
    "    ]),\n",
    "])\n",
    "\n",
    "new_tree = GrammarNode('B', [\n",
    "    GrammarNode('F'),\n",
    "])\n",
    "\n",
    "pattern_classes = get_all_pattern_classes()\n",
    "\n",
    "pattern_classes = [\n",
    "    BeforeDate(),\n",
    "    BeforeEvent(),\n",
    "    # AfterDate(),\n",
    "    # WithinTimespanEvent(),\n",
    "    # TimespanBeforeEvent(),\n",
    "]\n",
    "\n",
    "result = gb.build(pattern_classes)\n",
    "\n",
    "\n",
    "#gb._rec_merge(test_set, new_tree)\n",
    "\n",
    "tp = TreePrinter()\n",
    "\n",
    "tp.print(result)"
   ]
  },
  {
   "attachments": {},
   "cell_type": "markdown",
   "metadata": {},
   "source": [
    "## Generating Sym"
   ]
  },
  {
   "cell_type": "code",
   "execution_count": null,
   "metadata": {},
   "outputs": [],
   "source": [
    "from app.templates.template_getter import get_template\n",
    "\n",
    "c_id = 'prop'\n",
    "is_raw = True\n",
    "\n",
    "if is_raw:\n",
    "    folder = f'{c_id}/t_raw'\n",
    "    c_id = f'{c_id}_raw'\n",
    "else:\n",
    "    folder = f'{c_id}/t'\n",
    "\n",
    "contract = get_template(c_id)\n",
    "sym_spec = contract.to_sym()\n",
    "\n",
    "FILEPATH = f'./app/templates/{folder}/{c_id}.txt'\n",
    "\n",
    "f = open(FILEPATH, 'w')\n",
    "f.write(sym_spec)\n",
    "f.close()"
   ]
  },
  {
   "attachments": {},
   "cell_type": "markdown",
   "metadata": {},
   "source": [
    "## Test Bench"
   ]
  },
  {
   "cell_type": "code",
   "execution_count": null,
   "metadata": {},
   "outputs": [],
   "source": [
    "from app.console_lib.sentence_summarizer import SentenceSummarizer\n",
    "\n",
    "summarizer = SentenceSummarizer(nlp)"
   ]
  },
  {
   "cell_type": "code",
   "execution_count": null,
   "metadata": {},
   "outputs": [],
   "source": [
    "val = 'I arrived within 2 weeks of the project being completed.'\n",
    "\n",
    "doc = nlp(val)\n",
    "\n",
    "summarizer.summarize(val)"
   ]
  }
 ],
 "metadata": {
  "kernelspec": {
   "display_name": "Python 3.9.7 ('sym-env': venv)",
   "language": "python",
   "name": "python3"
  },
  "language_info": {
   "codemirror_mode": {
    "name": "ipython",
    "version": 3
   },
   "file_extension": ".py",
   "mimetype": "text/x-python",
   "name": "python",
   "nbconvert_exporter": "python",
   "pygments_lexer": "ipython3",
   "version": "3.9.7"
  },
  "orig_nbformat": 4,
  "vscode": {
   "interpreter": {
    "hash": "c5aa13c5662b7cd49c2a6a4cb6c712880a857c98a831bc049e568d94e5223a76"
   }
  }
 },
 "nbformat": 4,
 "nbformat_minor": 2
}
