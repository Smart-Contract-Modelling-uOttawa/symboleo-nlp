{
 "cells": [
  {
   "cell_type": "markdown",
   "metadata": {},
   "source": [
    "### NLP Setup"
   ]
  },
  {
   "cell_type": "code",
   "execution_count": null,
   "metadata": {},
   "outputs": [],
   "source": [
    "import pickle\n",
    "import sys\n",
    "import spacy\n",
    "\n",
    "# Load NLP\n",
    "#sys.path.append('../')\n",
    "\n",
    "with open('./nlp/nlp.pickle', 'rb') as f:\n",
    "    nlp = pickle.load(f)"
   ]
  },
  {
   "cell_type": "markdown",
   "metadata": {},
   "source": [
    "### Import the Template"
   ]
  },
  {
   "cell_type": "code",
   "execution_count": null,
   "metadata": {},
   "outputs": [],
   "source": [
    "from app.templates.meat_sale.nl_template import nl_template\n",
    "\n",
    "obs = nl_template['obligations']\n",
    "\n",
    "print('OBLIGATIONS')\n",
    "for ob in obs:\n",
    "    print(f'{ob}: {obs[ob]}\\n')"
   ]
  },
  {
   "cell_type": "code",
   "execution_count": null,
   "metadata": {},
   "outputs": [],
   "source": [
    "from app.templates.meat_sale.symboleo.contract_template import get_template\n",
    "\n",
    "contract_template = get_template()\n",
    "\n",
    "sym_template = contract_template.to_sym()\n",
    "\n",
    "sym_template_path = './app/templates/meat_sale/symboleo/symboleo_spec.txt'\n",
    "with open(sym_template_path, 'w') as f:\n",
    "    f.write(sym_template)"
   ]
  },
  {
   "cell_type": "code",
   "execution_count": null,
   "metadata": {},
   "outputs": [],
   "source": [
    "from app.src.sentence_summarizer import SentenceSummarizer\n",
    "\n",
    "summarizer = SentenceSummarizer(nlp)"
   ]
  },
  {
   "cell_type": "code",
   "execution_count": null,
   "metadata": {},
   "outputs": [],
   "source": [
    "key = 'CONFIDENTIALITY_TIMEFRAME'\n",
    "value = 'until 6 months after termination of the contract'\n",
    "\n",
    "doc = nlp(value)\n",
    "\n",
    "summarizer.summarize(value)"
   ]
  },
  {
   "cell_type": "markdown",
   "metadata": {},
   "source": [
    "### Matching"
   ]
  },
  {
   "cell_type": "code",
   "execution_count": null,
   "metadata": {},
   "outputs": [],
   "source": [
    "from spacy.matcher import Matcher"
   ]
  },
  {
   "cell_type": "code",
   "execution_count": null,
   "metadata": {},
   "outputs": [],
   "source": [
    "from app.src.rules.contract_spec.timeframe.timeframe_matcher import get_tf_matcher\n",
    "\n",
    "matcher = get_tf_matcher(nlp)\n",
    "\n",
    "matches = matcher(doc)\n",
    "\n",
    "# get maximal \n",
    "\n",
    "for match_id, start, end in matches:\n",
    "    print(nlp.vocab.strings[match_id], doc[start:end])"
   ]
  },
  {
   "cell_type": "code",
   "execution_count": null,
   "metadata": {},
   "outputs": [],
   "source": [
    "from app.src.rules.contract_spec.predicate_extractor import PredicateExtractor\n",
    "from app.src.rules.contract_spec.timeframe.timeframe_extractor_builder import TimeFrameExtractorBuilder \n",
    "from app.classes.spec.predicate_function import PredicateFunctionHappens\n",
    "# Get the timeframe extractor\n",
    "\n",
    "disclosed_event = contract_template.domain_model.events['disclosed'].to_obj()\n",
    "template = PredicateFunctionHappens(disclosed_event)\n",
    "\n",
    "extractor = TimeFrameExtractorBuilder.build(nlp, template)\n"
   ]
  },
  {
   "cell_type": "code",
   "execution_count": null,
   "metadata": {},
   "outputs": [],
   "source": [
    "from app.src.contract_updater import ContractUpdateRequest\n",
    "\n",
    "req = ContractUpdateRequest(contract_template, key, value, doc)\n",
    "\n",
    "result = extractor.extract(req)"
   ]
  },
  {
   "cell_type": "code",
   "execution_count": null,
   "metadata": {},
   "outputs": [],
   "source": [
    "print(result.to_sym())"
   ]
  },
  {
   "cell_type": "code",
   "execution_count": null,
   "metadata": {},
   "outputs": [],
   "source": [
    "key = 'DELIVERY_LOCATION'\n",
    "for x in req.contract.template_strings['obligations']:\n",
    "    sent = req.contract.template_strings['obligations'][x]\n",
    "    if key in sent:\n",
    "        print('found', x)"
   ]
  },
  {
   "cell_type": "code",
   "execution_count": null,
   "metadata": {},
   "outputs": [],
   "source": []
  }
 ],
 "metadata": {
  "kernelspec": {
   "display_name": "Python 3.9.7 ('sym-env': venv)",
   "language": "python",
   "name": "python3"
  },
  "language_info": {
   "codemirror_mode": {
    "name": "ipython",
    "version": 3
   },
   "file_extension": ".py",
   "mimetype": "text/x-python",
   "name": "python",
   "nbconvert_exporter": "python",
   "pygments_lexer": "ipython3",
   "version": "3.9.7"
  },
  "orig_nbformat": 4,
  "vscode": {
   "interpreter": {
    "hash": "c5aa13c5662b7cd49c2a6a4cb6c712880a857c98a831bc049e568d94e5223a76"
   }
  }
 },
 "nbformat": 4,
 "nbformat_minor": 2
}
