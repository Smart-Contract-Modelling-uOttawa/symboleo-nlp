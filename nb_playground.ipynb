{
 "cells": [
  {
   "cell_type": "markdown",
   "metadata": {},
   "source": [
    "### NLP Setup"
   ]
  },
  {
   "cell_type": "code",
   "execution_count": null,
   "metadata": {},
   "outputs": [],
   "source": [
    "import pickle\n",
    "import sys\n",
    "import spacy\n",
    "\n",
    "# Load NLP\n",
    "#sys.path.append('../')\n",
    "\n",
    "with open('./nlp/nlp.pickle', 'rb') as f:\n",
    "    nlp = pickle.load(f)"
   ]
  },
  {
   "cell_type": "markdown",
   "metadata": {},
   "source": [
    "### Import the Template"
   ]
  },
  {
   "cell_type": "code",
   "execution_count": null,
   "metadata": {},
   "outputs": [],
   "source": [
    "from app.templates.meat_sale.nl_template import nl_template\n",
    "\n",
    "obs = nl_template['obligations']\n",
    "\n",
    "print('OBLIGATIONS')\n",
    "for ob in obs:\n",
    "    print(f'{ob}: {obs[ob]}\\n')"
   ]
  },
  {
   "cell_type": "code",
   "execution_count": null,
   "metadata": {},
   "outputs": [],
   "source": [
    "from app.templates.meat_sale.symboleo.contract_template import get_template\n",
    "\n",
    "contract_template = get_template()\n",
    "\n",
    "sym_template = contract_template.to_sym()\n",
    "\n",
    "sym_template_path = './app/templates/meat_sale/symboleo/symboleo_spec.txt'\n",
    "with open(sym_template_path, 'w') as f:\n",
    "    f.write(sym_template)"
   ]
  },
  {
   "cell_type": "code",
   "execution_count": null,
   "metadata": {},
   "outputs": [],
   "source": [
    "from app.src.sentence_summarizer import SentenceSummarizer\n",
    "\n",
    "summarizer = SentenceSummarizer(nlp)"
   ]
  },
  {
   "cell_type": "code",
   "execution_count": null,
   "metadata": {},
   "outputs": [],
   "source": [
    "val = 'at the buyer\\'s warehouse'\n",
    "doc = nlp(val)\n",
    "summarizer.summarize(doc)"
   ]
  },
  {
   "cell_type": "code",
   "execution_count": null,
   "metadata": {},
   "outputs": [],
   "source": [
    "for nc in doc.noun_chunks:\n",
    "    print(nc, len(nc.text), type(nc))"
   ]
  },
  {
   "cell_type": "markdown",
   "metadata": {},
   "source": [
    "## Other"
   ]
  },
  {
   "cell_type": "code",
   "execution_count": null,
   "metadata": {},
   "outputs": [],
   "source": [
    "from app.classes.spec.symboleo_spec import PAtom\n",
    "from app.src.graph.graph_builder import GraphBuilder\n",
    "from app.src.graph.graph_visualizer import GraphVisualizer\n",
    "\n",
    "graph_builder = GraphBuilder()\n",
    "graph_visualizer = GraphVisualizer()\n",
    "digraph = graph_builder.build(PAtom)\n",
    "gv = graph_visualizer.create_viz(digraph.nodes)\n",
    "gv.show('nx.html')"
   ]
  },
  {
   "cell_type": "code",
   "execution_count": null,
   "metadata": {},
   "outputs": [],
   "source": [
    "key = 'TERMINATION_CONDITION'\n",
    "value = 'unless such delay exceeds 10 days'\n",
    "\n",
    "doc = nlp(value)\n",
    "\n",
    "summarizer.summarize(value)"
   ]
  },
  {
   "cell_type": "markdown",
   "metadata": {},
   "source": [
    "## Curr"
   ]
  },
  {
   "cell_type": "code",
   "execution_count": null,
   "metadata": {},
   "outputs": [],
   "source": [
    "from app.classes.contract_update_request import ContractUpdateRequest\n",
    "\n",
    "key = 'DELIVERY_LOCATION'\n",
    "value = 'at their warehouse'\n",
    "doc = nlp(value)\n",
    "\n",
    "\n",
    "req = ContractUpdateRequest(contract_template, key, value, doc)"
   ]
  }
 ],
 "metadata": {
  "kernelspec": {
   "display_name": "Python 3.9.7 ('sym-env': venv)",
   "language": "python",
   "name": "python3"
  },
  "language_info": {
   "codemirror_mode": {
    "name": "ipython",
    "version": 3
   },
   "file_extension": ".py",
   "mimetype": "text/x-python",
   "name": "python",
   "nbconvert_exporter": "python",
   "pygments_lexer": "ipython3",
   "version": "3.9.7"
  },
  "orig_nbformat": 4,
  "vscode": {
   "interpreter": {
    "hash": "c5aa13c5662b7cd49c2a6a4cb6c712880a857c98a831bc049e568d94e5223a76"
   }
  }
 },
 "nbformat": 4,
 "nbformat_minor": 2
}
