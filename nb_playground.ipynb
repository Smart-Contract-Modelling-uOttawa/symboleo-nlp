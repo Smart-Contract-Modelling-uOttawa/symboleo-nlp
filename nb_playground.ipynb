{
 "cells": [
  {
   "attachments": {},
   "cell_type": "markdown",
   "metadata": {},
   "source": [
    "## NLP Setup"
   ]
  },
  {
   "cell_type": "code",
   "execution_count": null,
   "metadata": {},
   "outputs": [],
   "source": [
    "import pickle\n",
    "import sys\n",
    "import spacy\n",
    "\n",
    "# Load NLP\n",
    "#sys.path.append('../')\n",
    "\n",
    "with open('./nlp/nlp.pickle', 'rb') as f:\n",
    "    nlp = pickle.load(f)"
   ]
  },
  {
   "cell_type": "code",
   "execution_count": 1,
   "metadata": {},
   "outputs": [
    {
     "name": "stdout",
     "output_type": "stream",
     "text": [
      " Root\n",
      "- BEFORE\n",
      "-- DATE\n",
      "- BY\n",
      "-- DATE\n"
     ]
    }
   ],
   "source": [
    "from app.classes.units.grammar_builder import GrammarBuilder,TreePrinter, GrammarNode\n",
    "from app.classes.pattern_classes.all_pattern_classes import *\n",
    "\n",
    "gb = GrammarBuilder()\n",
    "\n",
    "test_set = GrammarNode('A', [\n",
    "    GrammarNode('B', [\n",
    "        GrammarNode('C'),\n",
    "    ]),\n",
    "    GrammarNode('D', [\n",
    "        GrammarNode('E'),\n",
    "        GrammarNode('F'),\n",
    "    ]),\n",
    "])\n",
    "\n",
    "new_tree = GrammarNode('D', [\n",
    "    GrammarNode('E', [\n",
    "        GrammarNode('I'),\n",
    "        GrammarNode('J'),\n",
    "    ]),\n",
    "    GrammarNode('G', [\n",
    "        GrammarNode('H')\n",
    "    ]),\n",
    "])\n",
    "\n",
    "pattern_classes = get_all_pattern_classes()\n",
    "\n",
    "pattern_classes = [\n",
    "    BeforeDate(),\n",
    "    BeforeEvent()\n",
    "]\n",
    "root = GrammarNode('ROOT')\n",
    "root_node = gb.build(pattern_classes)\n",
    "\n",
    "# gb._rec_merge(test_set, new_tree)\n",
    "\n",
    "tp = TreePrinter()\n",
    "\n",
    "tp.print(root_node)"
   ]
  },
  {
   "attachments": {},
   "cell_type": "markdown",
   "metadata": {},
   "source": [
    "## Generating Sym"
   ]
  },
  {
   "cell_type": "code",
   "execution_count": 3,
   "metadata": {},
   "outputs": [],
   "source": [
    "from app.templates.template_getter import get_template\n",
    "\n",
    "c_id = 'prop'\n",
    "is_raw = True\n",
    "\n",
    "if is_raw:\n",
    "    folder = f'{c_id}/t_raw'\n",
    "    c_id = f'{c_id}_raw'\n",
    "else:\n",
    "    folder = f'{c_id}/t'\n",
    "\n",
    "contract = get_template(c_id)\n",
    "sym_spec = contract.to_sym()\n",
    "\n",
    "FILEPATH = f'./app/templates/{folder}/{c_id}.txt'\n",
    "\n",
    "f = open(FILEPATH, 'w')\n",
    "f.write(sym_spec)\n",
    "f.close()"
   ]
  },
  {
   "attachments": {},
   "cell_type": "markdown",
   "metadata": {},
   "source": [
    "## Test Bench"
   ]
  },
  {
   "cell_type": "code",
   "execution_count": null,
   "metadata": {},
   "outputs": [],
   "source": [
    "from app.src.user_scripts.sentence_summarizer import SentenceSummarizer\n",
    "\n",
    "summarizer = SentenceSummarizer(nlp)"
   ]
  },
  {
   "cell_type": "code",
   "execution_count": null,
   "metadata": {},
   "outputs": [],
   "source": [
    "val = 'I arrived within 2 weeks of the project being completed.'\n",
    "\n",
    "doc = nlp(val)\n",
    "\n",
    "summarizer.summarize(val)"
   ]
  }
 ],
 "metadata": {
  "kernelspec": {
   "display_name": "Python 3.9.7 ('sym-env': venv)",
   "language": "python",
   "name": "python3"
  },
  "language_info": {
   "codemirror_mode": {
    "name": "ipython",
    "version": 3
   },
   "file_extension": ".py",
   "mimetype": "text/x-python",
   "name": "python",
   "nbconvert_exporter": "python",
   "pygments_lexer": "ipython3",
   "version": "3.9.7"
  },
  "orig_nbformat": 4,
  "vscode": {
   "interpreter": {
    "hash": "c5aa13c5662b7cd49c2a6a4cb6c712880a857c98a831bc049e568d94e5223a76"
   }
  }
 },
 "nbformat": 4,
 "nbformat_minor": 2
}
