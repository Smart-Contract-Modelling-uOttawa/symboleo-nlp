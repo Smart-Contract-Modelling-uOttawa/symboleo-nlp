{
 "cells": [
  {
   "cell_type": "markdown",
   "metadata": {},
   "source": [
    "## Setup"
   ]
  },
  {
   "cell_type": "code",
   "execution_count": 1,
   "metadata": {},
   "outputs": [],
   "source": [
    "import random\n",
    "import operator\n",
    "import pickle\n",
    "import spacy\n",
    "import sys\n",
    "from spacy import displacy\n",
    "import benepar\n",
    "import copy\n",
    "import networkx as nx"
   ]
  },
  {
   "cell_type": "code",
   "execution_count": 2,
   "metadata": {},
   "outputs": [
    {
     "name": "stderr",
     "output_type": "stream",
     "text": [
      "[nltk_data] Downloading package benepar_en3 to\n",
      "[nltk_data]     C:\\Users\\regan\\AppData\\Roaming\\nltk_data...\n",
      "[nltk_data]   Package benepar_en3 is already up-to-date!\n"
     ]
    }
   ],
   "source": [
    "# Set up and store NLP\n",
    "nlp = spacy.load(\"en_core_web_md\")\n",
    "benepar.download('benepar_en3')\n",
    "nlp.add_pipe('benepar', config={'model': 'benepar_en3'})\n",
    "\n",
    "with open('./nlp/nlp.pickle', 'wb') as f:\n",
    "    pickle.dump(nlp, f)"
   ]
  },
  {
   "cell_type": "code",
   "execution_count": 3,
   "metadata": {},
   "outputs": [],
   "source": [
    "# Load NLP\n",
    "#sys.path.append('../')\n",
    "\n",
    "with open('./nlp/nlp.pickle', 'rb') as f:\n",
    "    nlp = pickle.load(f)"
   ]
  },
  {
   "cell_type": "code",
   "execution_count": 4,
   "metadata": {},
   "outputs": [],
   "source": [
    "from app.classes.spec.symboleo_spec import Obligation\n",
    "from app.src.matchers.matchers_builder import MatchersBuilder\n",
    "from app.src.norm_proposition_updater import NormPropositionUpdater\n",
    "from app.src.sentence_obligation_converter import SentenceObligationConverter\n",
    "from app.src.sentence_summarizer import SentenceSummarizer\n",
    "from app.templates.meat_sale.norms import meat_sale_norms\n",
    "from app.templates.meat_sale.templates import meat_sale_templates\n",
    "\n",
    "matchers_builder = MatchersBuilder(nlp)\n",
    "matchers = matchers_builder.build()\n",
    "norm_updater = NormPropositionUpdater()\n",
    "\n",
    "converter = SentenceObligationConverter(nlp, matchers, norm_updater)\n",
    "summarizer = SentenceSummarizer(nlp)\n",
    "\n",
    "obligations: list[Obligation] = copy.deepcopy(meat_sale_norms['obligations'])\n",
    "templates = meat_sale_templates['obligations']"
   ]
  },
  {
   "cell_type": "code",
   "execution_count": 43,
   "metadata": {},
   "outputs": [],
   "source": [
    "USER_INPUT = True\n",
    "\n",
    "DEFAULT_OBLIGATION_ID = 'delivery'\n",
    "DEFAULT_COMPONENT_CHAR = 't'\n",
    "\n",
    "COMPONENT_DICT = {\n",
    "    'a': 'antecedent',\n",
    "    't': 'trigger',\n",
    "    'c': 'consequent'\n",
    "}\n",
    "\n",
    "SAMPLE_SENTENCES = [\n",
    "    \"It is a holiday\",\n",
    "    \"The sky is blue\",\n",
    "    \"It is not a holiday\",\n",
    "    \"It is a full moon\",\n",
    "    \"two plus two equals four\",\n",
    "    \"the house is on fire\",\n",
    "    \"Ted built a house\",\n",
    "    \"it is expected to rain\",\n",
    "    \"it is raining\"\n",
    "]\n",
    "\n",
    "DEFAULT_SENTENCE = SAMPLE_SENTENCES[1]\n"
   ]
  },
  {
   "cell_type": "markdown",
   "metadata": {},
   "source": [
    "## Gather user input"
   ]
  },
  {
   "cell_type": "code",
   "execution_count": 44,
   "metadata": {},
   "outputs": [
    {
     "name": "stdout",
     "output_type": "stream",
     "text": [
      "delivery\n",
      "- NL: The Seller shall deliver the Order in one delivery within <delDueDateDays> days to the Buyer at its warehouse\n",
      "- SYM: delivery: O(seller, buyer, true, WhappensBefore(delivered, delivered.delDueDate))\n",
      "payment\n",
      "- NL: The Buyer shall pay <amt> (“amount”) in <curr> (“currency”) to the Seller before <payDueDate>.\n",
      "- SYM: payment: O(buyer, seller, true, WhappensBefore(paid, paid.payDueDate))\n",
      "latePayment\n",
      "- NL: In the event of late payment of the amount owed due, the Buyer shall pay interests equal to <intRate>% of the amount owed\n",
      "- SYM: latePayment: Happens(Violated(obligations.payment)) -> O(buyer, seller, true, Happens(paidLate))\n"
     ]
    }
   ],
   "source": [
    "for ob in obligations:\n",
    "    print(ob.id)\n",
    "    print(f'- NL: {templates[ob.id]}')\n",
    "    print(f'- SYM: {ob.to_sym()}')"
   ]
  },
  {
   "cell_type": "code",
   "execution_count": 45,
   "metadata": {},
   "outputs": [],
   "source": [
    "# Choose the obligation\n",
    "if USER_INPUT:\n",
    "    # Choose the obligation\n",
    "    selected_ob_id = input('Enter obligation id: ')\n",
    "else:\n",
    "    selected_ob_id = DEFAULT_OBLIGATION_ID"
   ]
  },
  {
   "cell_type": "code",
   "execution_count": 46,
   "metadata": {},
   "outputs": [],
   "source": [
    "if USER_INPUT:\n",
    "    selected_component_char = input('Select the component to update (t/a/c): ')\n",
    "else:\n",
    "    selected_component_char = DEFAULT_COMPONENT_CHAR\n",
    "\n",
    "selected_component = COMPONENT_DICT[selected_component_char]"
   ]
  },
  {
   "cell_type": "code",
   "execution_count": 47,
   "metadata": {},
   "outputs": [],
   "source": [
    "if USER_INPUT:\n",
    "    sentence = input('Enter an extension sentence: ')\n",
    "else:\n",
    "    sentence = DEFAULT_SENTENCE"
   ]
  },
  {
   "cell_type": "markdown",
   "metadata": {},
   "source": [
    "## Execution"
   ]
  },
  {
   "cell_type": "code",
   "execution_count": 48,
   "metadata": {},
   "outputs": [
    {
     "name": "stdout",
     "output_type": "stream",
     "text": [
      "\n",
      "Sentence: buyer has not yet paid\n",
      "\n",
      "i     TEXT            POS             TAG             DEP             LEMMA           HEAD            ENT            \n",
      "--------------------------------------------------------------------------------------------------------------\n",
      "0     buyer           NOUN            NN              nsubj           buyer           paid                           \n",
      "1     has             AUX             VBZ             aux             have            paid                           \n",
      "2     not             PART            RB              neg             not             yet                            \n",
      "3     yet             ADV             RB              advmod          yet             paid                           \n",
      "4     paid            VERB            VBN             ROOT            pay             paid                           \n",
      "\n",
      "\n",
      "\n",
      "       S               \n",
      "   ____|___             \n",
      "  |        VP          \n",
      "  |     ___|________    \n",
      "  NP   |   |  ADVP  VP \n",
      "  |    |   |   |    |   \n",
      "  NN  VBZ  RB  RB  VBN \n",
      "  |    |   |   |    |   \n",
      "buyer has not yet  paid\n",
      "\n",
      "\n",
      "\n",
      "\n"
     ]
    },
    {
     "data": {
      "text/html": [
       "<span class=\"tex2jax_ignore\"><svg xmlns=\"http://www.w3.org/2000/svg\" xmlns:xlink=\"http://www.w3.org/1999/xlink\" xml:lang=\"en\" id=\"d12cf1ccb1154806b9e3401c4e3df876-0\" class=\"displacy\" width=\"925\" height=\"399.5\" direction=\"ltr\" style=\"max-width: none; height: 399.5px; color: #000000; background: #ffffff; font-family: Arial; direction: ltr\">\n",
       "<text class=\"displacy-token\" fill=\"currentColor\" text-anchor=\"middle\" y=\"309.5\">\n",
       "    <tspan class=\"displacy-word\" fill=\"currentColor\" x=\"50\">buyer</tspan>\n",
       "    <tspan class=\"displacy-tag\" dy=\"2em\" fill=\"currentColor\" x=\"50\">NOUN</tspan>\n",
       "</text>\n",
       "\n",
       "<text class=\"displacy-token\" fill=\"currentColor\" text-anchor=\"middle\" y=\"309.5\">\n",
       "    <tspan class=\"displacy-word\" fill=\"currentColor\" x=\"225\">has</tspan>\n",
       "    <tspan class=\"displacy-tag\" dy=\"2em\" fill=\"currentColor\" x=\"225\">AUX</tspan>\n",
       "</text>\n",
       "\n",
       "<text class=\"displacy-token\" fill=\"currentColor\" text-anchor=\"middle\" y=\"309.5\">\n",
       "    <tspan class=\"displacy-word\" fill=\"currentColor\" x=\"400\">not</tspan>\n",
       "    <tspan class=\"displacy-tag\" dy=\"2em\" fill=\"currentColor\" x=\"400\">PART</tspan>\n",
       "</text>\n",
       "\n",
       "<text class=\"displacy-token\" fill=\"currentColor\" text-anchor=\"middle\" y=\"309.5\">\n",
       "    <tspan class=\"displacy-word\" fill=\"currentColor\" x=\"575\">yet</tspan>\n",
       "    <tspan class=\"displacy-tag\" dy=\"2em\" fill=\"currentColor\" x=\"575\">ADV</tspan>\n",
       "</text>\n",
       "\n",
       "<text class=\"displacy-token\" fill=\"currentColor\" text-anchor=\"middle\" y=\"309.5\">\n",
       "    <tspan class=\"displacy-word\" fill=\"currentColor\" x=\"750\">paid</tspan>\n",
       "    <tspan class=\"displacy-tag\" dy=\"2em\" fill=\"currentColor\" x=\"750\">VERB</tspan>\n",
       "</text>\n",
       "\n",
       "<g class=\"displacy-arrow\">\n",
       "    <path class=\"displacy-arc\" id=\"arrow-d12cf1ccb1154806b9e3401c4e3df876-0-0\" stroke-width=\"2px\" d=\"M70,264.5 C70,2.0 750.0,2.0 750.0,264.5\" fill=\"none\" stroke=\"currentColor\"/>\n",
       "    <text dy=\"1.25em\" style=\"font-size: 0.8em; letter-spacing: 1px\">\n",
       "        <textPath xlink:href=\"#arrow-d12cf1ccb1154806b9e3401c4e3df876-0-0\" class=\"displacy-label\" startOffset=\"50%\" side=\"left\" fill=\"currentColor\" text-anchor=\"middle\">nsubj</textPath>\n",
       "    </text>\n",
       "    <path class=\"displacy-arrowhead\" d=\"M70,266.5 L62,254.5 78,254.5\" fill=\"currentColor\"/>\n",
       "</g>\n",
       "\n",
       "<g class=\"displacy-arrow\">\n",
       "    <path class=\"displacy-arc\" id=\"arrow-d12cf1ccb1154806b9e3401c4e3df876-0-1\" stroke-width=\"2px\" d=\"M245,264.5 C245,89.5 745.0,89.5 745.0,264.5\" fill=\"none\" stroke=\"currentColor\"/>\n",
       "    <text dy=\"1.25em\" style=\"font-size: 0.8em; letter-spacing: 1px\">\n",
       "        <textPath xlink:href=\"#arrow-d12cf1ccb1154806b9e3401c4e3df876-0-1\" class=\"displacy-label\" startOffset=\"50%\" side=\"left\" fill=\"currentColor\" text-anchor=\"middle\">aux</textPath>\n",
       "    </text>\n",
       "    <path class=\"displacy-arrowhead\" d=\"M245,266.5 L237,254.5 253,254.5\" fill=\"currentColor\"/>\n",
       "</g>\n",
       "\n",
       "<g class=\"displacy-arrow\">\n",
       "    <path class=\"displacy-arc\" id=\"arrow-d12cf1ccb1154806b9e3401c4e3df876-0-2\" stroke-width=\"2px\" d=\"M420,264.5 C420,177.0 565.0,177.0 565.0,264.5\" fill=\"none\" stroke=\"currentColor\"/>\n",
       "    <text dy=\"1.25em\" style=\"font-size: 0.8em; letter-spacing: 1px\">\n",
       "        <textPath xlink:href=\"#arrow-d12cf1ccb1154806b9e3401c4e3df876-0-2\" class=\"displacy-label\" startOffset=\"50%\" side=\"left\" fill=\"currentColor\" text-anchor=\"middle\">neg</textPath>\n",
       "    </text>\n",
       "    <path class=\"displacy-arrowhead\" d=\"M420,266.5 L412,254.5 428,254.5\" fill=\"currentColor\"/>\n",
       "</g>\n",
       "\n",
       "<g class=\"displacy-arrow\">\n",
       "    <path class=\"displacy-arc\" id=\"arrow-d12cf1ccb1154806b9e3401c4e3df876-0-3\" stroke-width=\"2px\" d=\"M595,264.5 C595,177.0 740.0,177.0 740.0,264.5\" fill=\"none\" stroke=\"currentColor\"/>\n",
       "    <text dy=\"1.25em\" style=\"font-size: 0.8em; letter-spacing: 1px\">\n",
       "        <textPath xlink:href=\"#arrow-d12cf1ccb1154806b9e3401c4e3df876-0-3\" class=\"displacy-label\" startOffset=\"50%\" side=\"left\" fill=\"currentColor\" text-anchor=\"middle\">advmod</textPath>\n",
       "    </text>\n",
       "    <path class=\"displacy-arrowhead\" d=\"M595,266.5 L587,254.5 603,254.5\" fill=\"currentColor\"/>\n",
       "</g>\n",
       "</svg></span>"
      ],
      "text/plain": [
       "<IPython.core.display.HTML object>"
      ]
     },
     "metadata": {},
     "output_type": "display_data"
    }
   ],
   "source": [
    "# summarize the sentence\n",
    "summarizer.summarize(sentence)"
   ]
  },
  {
   "cell_type": "code",
   "execution_count": 49,
   "metadata": {},
   "outputs": [
    {
     "ename": "ValueError",
     "evalue": "",
     "output_type": "error",
     "traceback": [
      "\u001b[1;31m---------------------------------------------------------------------------\u001b[0m",
      "\u001b[1;31mValueError\u001b[0m                                Traceback (most recent call last)",
      "\u001b[1;32m~\\AppData\\Local\\Temp/ipykernel_5532/989084038.py\u001b[0m in \u001b[0;36m<module>\u001b[1;34m\u001b[0m\n\u001b[0;32m      1\u001b[0m \u001b[0mobligation\u001b[0m \u001b[1;33m=\u001b[0m \u001b[1;33m[\u001b[0m\u001b[0mx\u001b[0m \u001b[1;32mfor\u001b[0m \u001b[0mx\u001b[0m \u001b[1;32min\u001b[0m \u001b[0mobligations\u001b[0m \u001b[1;32mif\u001b[0m \u001b[0mx\u001b[0m\u001b[1;33m.\u001b[0m\u001b[0mid\u001b[0m \u001b[1;33m==\u001b[0m \u001b[0mselected_ob_id\u001b[0m\u001b[1;33m]\u001b[0m\u001b[1;33m[\u001b[0m\u001b[1;36m0\u001b[0m\u001b[1;33m]\u001b[0m\u001b[1;33m\u001b[0m\u001b[1;33m\u001b[0m\u001b[0m\n\u001b[0;32m      2\u001b[0m \u001b[1;33m\u001b[0m\u001b[0m\n\u001b[1;32m----> 3\u001b[1;33m \u001b[0mresult\u001b[0m \u001b[1;33m=\u001b[0m \u001b[0mconverter\u001b[0m\u001b[1;33m.\u001b[0m\u001b[0mconvert\u001b[0m\u001b[1;33m(\u001b[0m\u001b[0msentence\u001b[0m\u001b[1;33m,\u001b[0m \u001b[0mobligation\u001b[0m\u001b[1;33m,\u001b[0m \u001b[0mselected_component\u001b[0m\u001b[1;33m)\u001b[0m\u001b[1;33m\u001b[0m\u001b[1;33m\u001b[0m\u001b[0m\n\u001b[0m\u001b[0;32m      4\u001b[0m \u001b[1;33m\u001b[0m\u001b[0m\n\u001b[0;32m      5\u001b[0m \u001b[0mprint\u001b[0m\u001b[1;33m(\u001b[0m\u001b[0mresult\u001b[0m\u001b[1;33m.\u001b[0m\u001b[0mto_sym\u001b[0m\u001b[1;33m(\u001b[0m\u001b[1;33m)\u001b[0m\u001b[1;33m)\u001b[0m\u001b[1;33m\u001b[0m\u001b[1;33m\u001b[0m\u001b[0m\n",
      "\u001b[1;32mc:\\Users\\regan\\Documents\\dev\\symboleo-nlp\\app\\lib\\sentence_obligation_converter.py\u001b[0m in \u001b[0;36mconvert\u001b[1;34m(self, sentence, obligation, selected_component)\u001b[0m\n",
      "\u001b[1;31mValueError\u001b[0m: "
     ]
    }
   ],
   "source": [
    "obligation = [x for x in obligations if x.id == selected_ob_id][0] \n",
    "\n",
    "result = converter.convert(sentence, obligation, selected_component)\n",
    "\n",
    "print(result.to_sym())"
   ]
  },
  {
   "cell_type": "code",
   "execution_count": null,
   "metadata": {},
   "outputs": [],
   "source": []
  },
  {
   "cell_type": "markdown",
   "metadata": {},
   "source": [
    "## Atom Extractor"
   ]
  },
  {
   "cell_type": "code",
   "execution_count": 5,
   "metadata": {},
   "outputs": [],
   "source": [
    "from app.classes.spec.symboleo_spec import PAtom\n",
    "from app.src.atom_assembler import AtomAssembler\n",
    "from app.src.atom_extractor import AtomExtractor\n",
    "from app.src.dynamic_constructor import DynamicObjectConstructor\n",
    "from app.src.predicate_builder import PredicateBuilder\n",
    "from app.src.primitive_checker import PrimitiveChecker\n",
    "from app.src.primitive_extractor import PrimitiveExtractor\n",
    "from app.src.graph.graph_builder import GraphBuilder\n",
    "\n",
    "options = {}\n",
    "# TODO: Will be adding a lot more args on the primitive extractor\n",
    "primitive_extractor = PrimitiveExtractor()\n",
    "\n",
    "graph_builder = GraphBuilder()\n",
    "digraph = graph_builder.build(PAtom)\n",
    "\n",
    "primitive_checker = PrimitiveChecker() # leaves should be func parm, not on init\n",
    "\n",
    "dynamic_constructor = DynamicObjectConstructor(digraph)\n",
    "\n",
    "predicate_builder = PredicateBuilder(\n",
    "    digraph,\n",
    "    primitive_checker,\n",
    "    dynamic_constructor\n",
    ")\n",
    "\n",
    "candidates = [\n",
    "    'PredicateFunctionHappens',\n",
    "    'PredicateFunctionHappensWithin',\n",
    "    'PredicateFunctionOccurs',\n",
    "    'PredicateFunctionWHappensBefore',\n",
    "    'PredicateFunctionWHappensBeforeEvent',\n",
    "    'PredicateFunctionHappensAfter',\n",
    "]\n",
    "atom_assembler = AtomAssembler(\n",
    "    candidates,\n",
    "    predicate_builder\n",
    ")\n",
    "\n",
    "extractor = AtomExtractor(\n",
    "    options, \n",
    "    nlp, \n",
    "    primitive_extractor,\n",
    "    atom_assembler\n",
    ")"
   ]
  },
  {
   "cell_type": "code",
   "execution_count": 6,
   "metadata": {},
   "outputs": [
    {
     "name": "stderr",
     "output_type": "stream",
     "text": [
      "c:\\Users\\regan\\anaconda3\\lib\\site-packages\\torch\\distributions\\distribution.py:44: UserWarning: <class 'torch_struct.distributions.TreeCRF'> does not define `arg_constraints`. Please set `arg_constraints = {}` or initialize the distribution with `validate_args=False` to turn off validation.\n",
      "  warnings.warn(f'{self.__class__} does not define `arg_constraints`. ' +\n"
     ]
    },
    {
     "data": {
      "text/plain": [
       "[]"
      ]
     },
     "execution_count": 6,
     "metadata": {},
     "output_type": "execute_result"
    }
   ],
   "source": [
    "test_sentence = 'the sky is blue'\n",
    "extractor.extract(test_sentence)"
   ]
  }
 ],
 "metadata": {
  "kernelspec": {
   "display_name": "Python 3.9.7 ('base')",
   "language": "python",
   "name": "python3"
  },
  "language_info": {
   "codemirror_mode": {
    "name": "ipython",
    "version": 3
   },
   "file_extension": ".py",
   "mimetype": "text/x-python",
   "name": "python",
   "nbconvert_exporter": "python",
   "pygments_lexer": "ipython3",
   "version": "3.9.7"
  },
  "orig_nbformat": 4,
  "vscode": {
   "interpreter": {
    "hash": "5e1573d6c84447af34afea73405281252e0fe9e7aa5b16df75ea480bceab155a"
   }
  }
 },
 "nbformat": 4,
 "nbformat_minor": 2
}
