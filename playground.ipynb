{
 "cells": [
  {
   "cell_type": "markdown",
   "metadata": {},
   "source": [
    "## Setup"
   ]
  },
  {
   "cell_type": "code",
   "execution_count": 1,
   "metadata": {},
   "outputs": [],
   "source": [
    "import pickle\n",
    "import spacy\n",
    "import sys\n",
    "from spacy import displacy\n",
    "import benepar\n",
    "import copy"
   ]
  },
  {
   "cell_type": "code",
   "execution_count": 2,
   "metadata": {},
   "outputs": [
    {
     "name": "stderr",
     "output_type": "stream",
     "text": [
      "[nltk_data] Downloading package benepar_en3 to\n",
      "[nltk_data]     C:\\Users\\regan\\AppData\\Roaming\\nltk_data...\n",
      "[nltk_data]   Package benepar_en3 is already up-to-date!\n"
     ]
    }
   ],
   "source": [
    "# Set up and store NLP\n",
    "nlp = spacy.load(\"en_core_web_md\")\n",
    "benepar.download('benepar_en3')\n",
    "nlp.add_pipe('benepar', config={'model': 'benepar_en3'})\n",
    "\n",
    "with open('./nlp/nlp.pickle', 'wb') as f:\n",
    "    pickle.dump(nlp, f)"
   ]
  },
  {
   "cell_type": "code",
   "execution_count": 3,
   "metadata": {},
   "outputs": [],
   "source": [
    "# Load NLP\n",
    "#sys.path.append('../')\n",
    "\n",
    "with open('./nlp/nlp.pickle', 'rb') as f:\n",
    "    nlp = pickle.load(f)"
   ]
  },
  {
   "cell_type": "code",
   "execution_count": 4,
   "metadata": {},
   "outputs": [],
   "source": [
    "from app.classes.spec.symboleo_spec import Obligation\n",
    "from app.lib.matchers.matchers_builder import MatchersBuilder\n",
    "from app.lib.norm_proposition_updater import NormPropositionUpdater\n",
    "from app.lib.sentence_obligation_converter import SentenceObligationConverter\n",
    "from app.lib.sentence_summarizer import SentenceSummarizer\n",
    "from app.templates.meat_sale.norms import meat_sale_norms\n",
    "from app.templates.meat_sale.templates import meat_sale_templates\n",
    "\n",
    "matchers_builder = MatchersBuilder(nlp)\n",
    "matchers = matchers_builder.build()\n",
    "norm_updater = NormPropositionUpdater()\n",
    "\n",
    "converter = SentenceObligationConverter(nlp, matchers, norm_updater)\n",
    "summarizer = SentenceSummarizer(nlp)\n",
    "\n",
    "obligations: list[Obligation] = copy.deepcopy(meat_sale_norms['obligations'])\n",
    "templates = meat_sale_templates['obligations']"
   ]
  },
  {
   "cell_type": "code",
   "execution_count": 8,
   "metadata": {},
   "outputs": [],
   "source": [
    "USER_INPUT = False\n",
    "\n",
    "DEFAULT_OBLIGATION_ID = 'delivery'\n",
    "DEFAULT_COMPONENT_CHAR = 't'\n",
    "\n",
    "COMPONENT_DICT = {\n",
    "    'a': 'antecedent',\n",
    "    't': 'trigger',\n",
    "    'c': 'consequent'\n",
    "}\n",
    "\n",
    "SAMPLE_SENTENCES = [\n",
    "    \"It is a holiday\",\n",
    "    \"The sky is blue\",\n",
    "    \"It is not a holiday\",\n",
    "    \"It is a full moon\",\n",
    "    \"two plus two equals four\",\n",
    "    \"the house is on fire\",\n",
    "    \"Ted built a house\",\n",
    "    \"it is expected to rain\",\n",
    "    \"it is raining\"\n",
    "]\n",
    "\n",
    "DEFAULT_SENTENCE = SAMPLE_SENTENCES[1]\n"
   ]
  },
  {
   "cell_type": "markdown",
   "metadata": {},
   "source": [
    "## Gather user input"
   ]
  },
  {
   "cell_type": "code",
   "execution_count": 9,
   "metadata": {},
   "outputs": [
    {
     "name": "stdout",
     "output_type": "stream",
     "text": [
      "delivery\n",
      "- NL: The Seller shall deliver the Order in one delivery within <delDueDateDays> days to the Buyer at its warehouse\n",
      "- SYM: delivery: O(seller, buyer, true, WhappensBefore(delivered, delivered.delDueDate))\n",
      "payment\n",
      "- NL: The Buyer shall pay <amt> (“amount”) in <curr> (“currency”) to the Seller before <payDueDate>.\n",
      "- SYM: payment: O(buyer, seller, true, WhappensBefore(paid, paid.payDueDate))\n",
      "latePayment\n",
      "- NL: In the event of late payment of the amount owed due, the Buyer shall pay interests equal to <intRate>% of the amount owed\n",
      "- SYM: latePayment: Happens(Violated(obligations.payment)) -> O(buyer, seller, true, Happens(paidLate))\n"
     ]
    }
   ],
   "source": [
    "for ob in obligations:\n",
    "    print(ob.id)\n",
    "    print(f'- NL: {templates[ob.id]}')\n",
    "    print(f'- SYM: {ob.to_sym()}')"
   ]
  },
  {
   "cell_type": "code",
   "execution_count": 10,
   "metadata": {},
   "outputs": [],
   "source": [
    "# Choose the obligation\n",
    "if USER_INPUT:\n",
    "    # Choose the obligation\n",
    "    selected_ob_id = input('Enter obligation id: ')\n",
    "else:\n",
    "    selected_ob_id = DEFAULT_OBLIGATION_ID"
   ]
  },
  {
   "cell_type": "code",
   "execution_count": 11,
   "metadata": {},
   "outputs": [],
   "source": [
    "if USER_INPUT:\n",
    "    selected_component_char = input('Select the component to update (t/a/c): ')\n",
    "else:\n",
    "    selected_component_char = DEFAULT_COMPONENT_CHAR\n",
    "\n",
    "selected_component = COMPONENT_DICT[selected_component_char]"
   ]
  },
  {
   "cell_type": "code",
   "execution_count": 12,
   "metadata": {},
   "outputs": [],
   "source": [
    "if USER_INPUT:\n",
    "    sentence = input('Enter an extension sentence: ')\n",
    "else:\n",
    "    sentence = DEFAULT_SENTENCE"
   ]
  },
  {
   "cell_type": "markdown",
   "metadata": {},
   "source": [
    "## Execution"
   ]
  },
  {
   "cell_type": "code",
   "execution_count": 13,
   "metadata": {},
   "outputs": [
    {
     "name": "stdout",
     "output_type": "stream",
     "text": [
      "\n",
      "Sentence: The sky is blue\n",
      "\n",
      "i     TEXT            POS             TAG             DEP             LEMMA           HEAD            ENT            \n",
      "--------------------------------------------------------------------------------------------------------------\n",
      "0     The             DET             DT              det             the             sky                            \n",
      "1     sky             NOUN            NN              nsubj           sky             is                             \n",
      "2     is              AUX             VBZ             ROOT            be              is                             \n",
      "3     blue            ADJ             JJ              acomp           blue            is                             \n",
      "\n",
      "\n",
      "\n",
      "             S              \n",
      "      _______|_______        \n",
      "     |               VP     \n",
      "     |            ___|___    \n",
      "     NP          |      ADJP\n",
      "  ___|___        |       |   \n",
      " DT      NN     VBZ      JJ \n",
      " |       |       |       |   \n",
      "The     sky      is     blue\n",
      "\n",
      "\n",
      "\n",
      "\n"
     ]
    },
    {
     "name": "stderr",
     "output_type": "stream",
     "text": [
      "c:\\Users\\regan\\anaconda3\\lib\\site-packages\\torch\\distributions\\distribution.py:44: UserWarning: <class 'torch_struct.distributions.TreeCRF'> does not define `arg_constraints`. Please set `arg_constraints = {}` or initialize the distribution with `validate_args=False` to turn off validation.\n",
      "  warnings.warn(f'{self.__class__} does not define `arg_constraints`. ' +\n"
     ]
    },
    {
     "data": {
      "text/html": [
       "<span class=\"tex2jax_ignore\"><svg xmlns=\"http://www.w3.org/2000/svg\" xmlns:xlink=\"http://www.w3.org/1999/xlink\" xml:lang=\"en\" id=\"26adc2bdbee64a078d26a1b57eb298e7-0\" class=\"displacy\" width=\"750\" height=\"224.5\" direction=\"ltr\" style=\"max-width: none; height: 224.5px; color: #000000; background: #ffffff; font-family: Arial; direction: ltr\">\n",
       "<text class=\"displacy-token\" fill=\"currentColor\" text-anchor=\"middle\" y=\"134.5\">\n",
       "    <tspan class=\"displacy-word\" fill=\"currentColor\" x=\"50\">The</tspan>\n",
       "    <tspan class=\"displacy-tag\" dy=\"2em\" fill=\"currentColor\" x=\"50\">DET</tspan>\n",
       "</text>\n",
       "\n",
       "<text class=\"displacy-token\" fill=\"currentColor\" text-anchor=\"middle\" y=\"134.5\">\n",
       "    <tspan class=\"displacy-word\" fill=\"currentColor\" x=\"225\">sky</tspan>\n",
       "    <tspan class=\"displacy-tag\" dy=\"2em\" fill=\"currentColor\" x=\"225\">NOUN</tspan>\n",
       "</text>\n",
       "\n",
       "<text class=\"displacy-token\" fill=\"currentColor\" text-anchor=\"middle\" y=\"134.5\">\n",
       "    <tspan class=\"displacy-word\" fill=\"currentColor\" x=\"400\">is</tspan>\n",
       "    <tspan class=\"displacy-tag\" dy=\"2em\" fill=\"currentColor\" x=\"400\">AUX</tspan>\n",
       "</text>\n",
       "\n",
       "<text class=\"displacy-token\" fill=\"currentColor\" text-anchor=\"middle\" y=\"134.5\">\n",
       "    <tspan class=\"displacy-word\" fill=\"currentColor\" x=\"575\">blue</tspan>\n",
       "    <tspan class=\"displacy-tag\" dy=\"2em\" fill=\"currentColor\" x=\"575\">ADJ</tspan>\n",
       "</text>\n",
       "\n",
       "<g class=\"displacy-arrow\">\n",
       "    <path class=\"displacy-arc\" id=\"arrow-26adc2bdbee64a078d26a1b57eb298e7-0-0\" stroke-width=\"2px\" d=\"M70,89.5 C70,2.0 225.0,2.0 225.0,89.5\" fill=\"none\" stroke=\"currentColor\"/>\n",
       "    <text dy=\"1.25em\" style=\"font-size: 0.8em; letter-spacing: 1px\">\n",
       "        <textPath xlink:href=\"#arrow-26adc2bdbee64a078d26a1b57eb298e7-0-0\" class=\"displacy-label\" startOffset=\"50%\" side=\"left\" fill=\"currentColor\" text-anchor=\"middle\">det</textPath>\n",
       "    </text>\n",
       "    <path class=\"displacy-arrowhead\" d=\"M70,91.5 L62,79.5 78,79.5\" fill=\"currentColor\"/>\n",
       "</g>\n",
       "\n",
       "<g class=\"displacy-arrow\">\n",
       "    <path class=\"displacy-arc\" id=\"arrow-26adc2bdbee64a078d26a1b57eb298e7-0-1\" stroke-width=\"2px\" d=\"M245,89.5 C245,2.0 400.0,2.0 400.0,89.5\" fill=\"none\" stroke=\"currentColor\"/>\n",
       "    <text dy=\"1.25em\" style=\"font-size: 0.8em; letter-spacing: 1px\">\n",
       "        <textPath xlink:href=\"#arrow-26adc2bdbee64a078d26a1b57eb298e7-0-1\" class=\"displacy-label\" startOffset=\"50%\" side=\"left\" fill=\"currentColor\" text-anchor=\"middle\">nsubj</textPath>\n",
       "    </text>\n",
       "    <path class=\"displacy-arrowhead\" d=\"M245,91.5 L237,79.5 253,79.5\" fill=\"currentColor\"/>\n",
       "</g>\n",
       "\n",
       "<g class=\"displacy-arrow\">\n",
       "    <path class=\"displacy-arc\" id=\"arrow-26adc2bdbee64a078d26a1b57eb298e7-0-2\" stroke-width=\"2px\" d=\"M420,89.5 C420,2.0 575.0,2.0 575.0,89.5\" fill=\"none\" stroke=\"currentColor\"/>\n",
       "    <text dy=\"1.25em\" style=\"font-size: 0.8em; letter-spacing: 1px\">\n",
       "        <textPath xlink:href=\"#arrow-26adc2bdbee64a078d26a1b57eb298e7-0-2\" class=\"displacy-label\" startOffset=\"50%\" side=\"left\" fill=\"currentColor\" text-anchor=\"middle\">acomp</textPath>\n",
       "    </text>\n",
       "    <path class=\"displacy-arrowhead\" d=\"M575.0,91.5 L583.0,79.5 567.0,79.5\" fill=\"currentColor\"/>\n",
       "</g>\n",
       "</svg></span>"
      ],
      "text/plain": [
       "<IPython.core.display.HTML object>"
      ]
     },
     "metadata": {},
     "output_type": "display_data"
    }
   ],
   "source": [
    "# summarize the sentence\n",
    "summarizer.summarize(sentence)"
   ]
  },
  {
   "cell_type": "code",
   "execution_count": 14,
   "metadata": {},
   "outputs": [
    {
     "name": "stdout",
     "output_type": "stream",
     "text": [
      "delivery: Happens(is_blue(sky)) -> O(seller, buyer, true, WhappensBefore(delivered, delivered.delDueDate))\n"
     ]
    }
   ],
   "source": [
    "obligation = [x for x in obligations if x.id == selected_ob_id][0] \n",
    "\n",
    "result = converter.convert(sentence, obligation, selected_component)\n",
    "\n",
    "print(result.to_sym())"
   ]
  },
  {
   "cell_type": "code",
   "execution_count": null,
   "metadata": {},
   "outputs": [],
   "source": []
  }
 ],
 "metadata": {
  "kernelspec": {
   "display_name": "Python 3.9.7 ('base')",
   "language": "python",
   "name": "python3"
  },
  "language_info": {
   "codemirror_mode": {
    "name": "ipython",
    "version": 3
   },
   "file_extension": ".py",
   "mimetype": "text/x-python",
   "name": "python",
   "nbconvert_exporter": "python",
   "pygments_lexer": "ipython3",
   "version": "3.9.7"
  },
  "orig_nbformat": 4,
  "vscode": {
   "interpreter": {
    "hash": "5e1573d6c84447af34afea73405281252e0fe9e7aa5b16df75ea480bceab155a"
   }
  }
 },
 "nbformat": 4,
 "nbformat_minor": 2
}
