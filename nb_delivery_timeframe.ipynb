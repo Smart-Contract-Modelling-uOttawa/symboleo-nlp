{
 "cells": [
  {
   "cell_type": "markdown",
   "metadata": {},
   "source": [
    "## NLP Setup"
   ]
  },
  {
   "cell_type": "code",
   "execution_count": 1,
   "metadata": {},
   "outputs": [],
   "source": [
    "import pickle\n",
    "import sys\n",
    "import spacy\n",
    "\n",
    "# Load NLP\n",
    "#sys.path.append('../')\n",
    "\n",
    "with open('./nlp/nlp.pickle', 'rb') as f:\n",
    "    nlp = pickle.load(f)"
   ]
  },
  {
   "cell_type": "code",
   "execution_count": 2,
   "metadata": {},
   "outputs": [],
   "source": [
    "from app.src.sentence_summarizer import SentenceSummarizer\n",
    "\n",
    "summarizer = SentenceSummarizer(nlp)"
   ]
  },
  {
   "cell_type": "code",
   "execution_count": 3,
   "metadata": {},
   "outputs": [
    {
     "name": "stdout",
     "output_type": "stream",
     "text": [
      "- Original: The Seller shall deliver the Order in one delivery within <delDueDateDays> days to the Buyer at its warehouse\n",
      "- General: The Seller shall deliver the Order in one delivery [DELIVERY_TIMEFRAME] to the Buyer [DELIVERY_LOCATION]\n",
      "- Template: delivery: O(seller, buyer, true, Happens(delivered))\n"
     ]
    }
   ],
   "source": [
    "from app.templates.meat_sale.deltas import meat_sale_deltas as deltas\n",
    "\n",
    "s1 = deltas[0]\n",
    "original_sentence = s1['original']\n",
    "template_sentence = s1['general']\n",
    "symboleo_template = s1['template'] \n",
    "\n",
    "print(f'- Original: {original_sentence}')\n",
    "print(f'- General: {template_sentence}')\n",
    "print(f'- Template: {symboleo_template}')"
   ]
  },
  {
   "cell_type": "code",
   "execution_count": 4,
   "metadata": {},
   "outputs": [],
   "source": [
    "from app.src.rules.meat_sale.delivery_timeframe.delivery_timeframe_config import DeliveryTimeframeConfig\n",
    "\n",
    "config = DeliveryTimeframeConfig(nlp)"
   ]
  },
  {
   "cell_type": "code",
   "execution_count": 5,
   "metadata": {},
   "outputs": [],
   "source": [
    "from app.classes.spec.symboleo_spec import PAtom\n",
    "from app.src.graph.graph_builder import GraphBuilder\n",
    "from app.src.graph.graph_visualizer import GraphVisualizer\n",
    "from app.src.dynamic_constructor import DynamicObjectConstructor\n",
    "\n",
    "graph_builder = GraphBuilder()\n",
    "graph_visualizer = GraphVisualizer()\n",
    "\n",
    "digraph = graph_builder.build(PAtom)\n",
    "\n",
    "gv = graph_visualizer.create_viz(digraph.nodes)\n",
    "gv.show('nx.html')\n",
    "\n",
    "dynamic_constructor = DynamicObjectConstructor(digraph)\n"
   ]
  },
  {
   "cell_type": "code",
   "execution_count": 14,
   "metadata": {},
   "outputs": [
    {
     "name": "stdout",
     "output_type": "stream",
     "text": [
      "\n",
      "Sentence: before the contract terminates\n",
      "\n",
      "i     TEXT            POS             TAG             DEP             LEMMA           HEAD            ENT            \n",
      "--------------------------------------------------------------------------------------------------------------\n",
      "0     before          ADP             IN              mark            before          terminates                     \n",
      "1     the             DET             DT              det             the             contract                       \n",
      "2     contract        NOUN            NN              nsubj           contract        terminates      DOMAIN_EVENT   \n",
      "3     terminates      VERB            VBZ             ROOT            terminate       terminates      DOMAIN_EVENT   \n",
      "\n",
      "\n",
      "\n",
      "           SBAR                    \n",
      "   _________|______                 \n",
      "  |                S               \n",
      "  |          ______|_________       \n",
      "  |         NP               VP    \n",
      "  |      ___|______          |      \n",
      "  IN    DT         NN       VBZ    \n",
      "  |     |          |         |      \n",
      "before the      contract terminates\n",
      "\n",
      "\n",
      "\n",
      "\n"
     ]
    },
    {
     "name": "stderr",
     "output_type": "stream",
     "text": [
      "c:\\Users\\regan\\anaconda3\\lib\\site-packages\\torch\\distributions\\distribution.py:44: UserWarning: <class 'torch_struct.distributions.TreeCRF'> does not define `arg_constraints`. Please set `arg_constraints = {}` or initialize the distribution with `validate_args=False` to turn off validation.\n",
      "  warnings.warn(f'{self.__class__} does not define `arg_constraints`. ' +\n",
      "c:\\Users\\regan\\anaconda3\\lib\\site-packages\\torch\\distributions\\distribution.py:44: UserWarning: <class 'torch_struct.distributions.TreeCRF'> does not define `arg_constraints`. Please set `arg_constraints = {}` or initialize the distribution with `validate_args=False` to turn off validation.\n",
      "  warnings.warn(f'{self.__class__} does not define `arg_constraints`. ' +\n"
     ]
    },
    {
     "data": {
      "text/html": [
       "<span class=\"tex2jax_ignore\"><svg xmlns=\"http://www.w3.org/2000/svg\" xmlns:xlink=\"http://www.w3.org/1999/xlink\" xml:lang=\"en\" id=\"68e2e60b9f4043629a9d49df92644e10-0\" class=\"displacy\" width=\"750\" height=\"312.0\" direction=\"ltr\" style=\"max-width: none; height: 312.0px; color: #000000; background: #ffffff; font-family: Arial; direction: ltr\">\n",
       "<text class=\"displacy-token\" fill=\"currentColor\" text-anchor=\"middle\" y=\"222.0\">\n",
       "    <tspan class=\"displacy-word\" fill=\"currentColor\" x=\"50\">before</tspan>\n",
       "    <tspan class=\"displacy-tag\" dy=\"2em\" fill=\"currentColor\" x=\"50\">ADP</tspan>\n",
       "</text>\n",
       "\n",
       "<text class=\"displacy-token\" fill=\"currentColor\" text-anchor=\"middle\" y=\"222.0\">\n",
       "    <tspan class=\"displacy-word\" fill=\"currentColor\" x=\"225\">the</tspan>\n",
       "    <tspan class=\"displacy-tag\" dy=\"2em\" fill=\"currentColor\" x=\"225\">DET</tspan>\n",
       "</text>\n",
       "\n",
       "<text class=\"displacy-token\" fill=\"currentColor\" text-anchor=\"middle\" y=\"222.0\">\n",
       "    <tspan class=\"displacy-word\" fill=\"currentColor\" x=\"400\">contract</tspan>\n",
       "    <tspan class=\"displacy-tag\" dy=\"2em\" fill=\"currentColor\" x=\"400\">NOUN</tspan>\n",
       "</text>\n",
       "\n",
       "<text class=\"displacy-token\" fill=\"currentColor\" text-anchor=\"middle\" y=\"222.0\">\n",
       "    <tspan class=\"displacy-word\" fill=\"currentColor\" x=\"575\">terminates</tspan>\n",
       "    <tspan class=\"displacy-tag\" dy=\"2em\" fill=\"currentColor\" x=\"575\">VERB</tspan>\n",
       "</text>\n",
       "\n",
       "<g class=\"displacy-arrow\">\n",
       "    <path class=\"displacy-arc\" id=\"arrow-68e2e60b9f4043629a9d49df92644e10-0-0\" stroke-width=\"2px\" d=\"M70,177.0 C70,2.0 575.0,2.0 575.0,177.0\" fill=\"none\" stroke=\"currentColor\"/>\n",
       "    <text dy=\"1.25em\" style=\"font-size: 0.8em; letter-spacing: 1px\">\n",
       "        <textPath xlink:href=\"#arrow-68e2e60b9f4043629a9d49df92644e10-0-0\" class=\"displacy-label\" startOffset=\"50%\" side=\"left\" fill=\"currentColor\" text-anchor=\"middle\">mark</textPath>\n",
       "    </text>\n",
       "    <path class=\"displacy-arrowhead\" d=\"M70,179.0 L62,167.0 78,167.0\" fill=\"currentColor\"/>\n",
       "</g>\n",
       "\n",
       "<g class=\"displacy-arrow\">\n",
       "    <path class=\"displacy-arc\" id=\"arrow-68e2e60b9f4043629a9d49df92644e10-0-1\" stroke-width=\"2px\" d=\"M245,177.0 C245,89.5 395.0,89.5 395.0,177.0\" fill=\"none\" stroke=\"currentColor\"/>\n",
       "    <text dy=\"1.25em\" style=\"font-size: 0.8em; letter-spacing: 1px\">\n",
       "        <textPath xlink:href=\"#arrow-68e2e60b9f4043629a9d49df92644e10-0-1\" class=\"displacy-label\" startOffset=\"50%\" side=\"left\" fill=\"currentColor\" text-anchor=\"middle\">det</textPath>\n",
       "    </text>\n",
       "    <path class=\"displacy-arrowhead\" d=\"M245,179.0 L237,167.0 253,167.0\" fill=\"currentColor\"/>\n",
       "</g>\n",
       "\n",
       "<g class=\"displacy-arrow\">\n",
       "    <path class=\"displacy-arc\" id=\"arrow-68e2e60b9f4043629a9d49df92644e10-0-2\" stroke-width=\"2px\" d=\"M420,177.0 C420,89.5 570.0,89.5 570.0,177.0\" fill=\"none\" stroke=\"currentColor\"/>\n",
       "    <text dy=\"1.25em\" style=\"font-size: 0.8em; letter-spacing: 1px\">\n",
       "        <textPath xlink:href=\"#arrow-68e2e60b9f4043629a9d49df92644e10-0-2\" class=\"displacy-label\" startOffset=\"50%\" side=\"left\" fill=\"currentColor\" text-anchor=\"middle\">nsubj</textPath>\n",
       "    </text>\n",
       "    <path class=\"displacy-arrowhead\" d=\"M420,179.0 L412,167.0 428,167.0\" fill=\"currentColor\"/>\n",
       "</g>\n",
       "</svg></span>"
      ],
      "text/plain": [
       "<IPython.core.display.HTML object>"
      ]
     },
     "metadata": {},
     "output_type": "display_data"
    }
   ],
   "source": [
    "#sentence = 'within 2 weeks'\n",
    "#sentence = 'before April 25, 2022'\n",
    "sentence = 'before the contract terminates'\n",
    "doc = nlp(sentence)\n",
    "\n",
    "summarizer.summarize(sentence)"
   ]
  },
  {
   "cell_type": "code",
   "execution_count": 15,
   "metadata": {},
   "outputs": [
    {
     "name": "stdout",
     "output_type": "stream",
     "text": [
      "case matches: {'before_event': before the contract terminates}\n",
      "primitives:\n",
      "- <class 'app.classes.spec.helpers.VariableDotExpression'> terminates\n",
      "- <class 'app.classes.spec.sym_point.PointAtomContractEvent'> activated(self)\n",
      "Original: Happens(delivered)\n",
      "New: WhappensBeforeE(terminates, delivered)\n"
     ]
    }
   ],
   "source": [
    "from app.src.rules.shared.main_processor import MainProcessor\n",
    "\n",
    "dtf = DeliveryTimeframeProcessor(template, matcher, nlp, dynamic_constructor)\n",
    "\n",
    "results = dtf.process(doc)\n",
    "\n",
    "print(f'Original: {template.to_sym()}')\n",
    "print(f'New: {results[0].to_sym()}')"
   ]
  },
  {
   "cell_type": "code",
   "execution_count": null,
   "metadata": {},
   "outputs": [],
   "source": []
  }
 ],
 "metadata": {
  "kernelspec": {
   "display_name": "Python 3.9.7 ('base')",
   "language": "python",
   "name": "python3"
  },
  "language_info": {
   "codemirror_mode": {
    "name": "ipython",
    "version": 3
   },
   "file_extension": ".py",
   "mimetype": "text/x-python",
   "name": "python",
   "nbconvert_exporter": "python",
   "pygments_lexer": "ipython3",
   "version": "3.9.7"
  },
  "orig_nbformat": 4,
  "vscode": {
   "interpreter": {
    "hash": "5e1573d6c84447af34afea73405281252e0fe9e7aa5b16df75ea480bceab155a"
   }
  }
 },
 "nbformat": 4,
 "nbformat_minor": 2
}
