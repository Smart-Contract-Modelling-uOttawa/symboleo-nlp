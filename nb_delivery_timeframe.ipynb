{
 "cells": [
  {
   "cell_type": "markdown",
   "metadata": {},
   "source": [
    "## NLP Setup"
   ]
  },
  {
   "cell_type": "code",
   "execution_count": 1,
   "metadata": {},
   "outputs": [],
   "source": [
    "import random\n",
    "import operator\n",
    "import pickle\n",
    "import sys\n",
    "import spacy\n",
    "from spacy import displacy\n",
    "import benepar\n",
    "import copy\n",
    "import networkx as nx"
   ]
  },
  {
   "cell_type": "code",
   "execution_count": 2,
   "metadata": {},
   "outputs": [
    {
     "name": "stderr",
     "output_type": "stream",
     "text": [
      "[nltk_data] Downloading package benepar_en3 to\n",
      "[nltk_data]     C:\\Users\\regan\\AppData\\Roaming\\nltk_data...\n",
      "[nltk_data]   Package benepar_en3 is already up-to-date!\n"
     ]
    }
   ],
   "source": [
    "# Set up and store NLP\n",
    "nlp = spacy.load(\"en_core_web_md\")\n",
    "benepar.download('benepar_en3')\n",
    "nlp.add_pipe('benepar', config={'model': 'benepar_en3'})\n",
    "\n",
    "with open('./nlp/nlp.pickle', 'wb') as f:\n",
    "    pickle.dump(nlp, f)"
   ]
  },
  {
   "cell_type": "code",
   "execution_count": 2,
   "metadata": {},
   "outputs": [],
   "source": [
    "# Load NLP\n",
    "#sys.path.append('../')\n",
    "\n",
    "with open('./nlp/nlp.pickle', 'rb') as f:\n",
    "    nlp = pickle.load(f)"
   ]
  },
  {
   "cell_type": "code",
   "execution_count": 3,
   "metadata": {},
   "outputs": [],
   "source": [
    "from app.src.sentence_summarizer import SentenceSummarizer\n",
    "\n",
    "summarizer = SentenceSummarizer(nlp)"
   ]
  },
  {
   "cell_type": "code",
   "execution_count": 4,
   "metadata": {},
   "outputs": [
    {
     "name": "stdout",
     "output_type": "stream",
     "text": [
      "- Original: The Seller shall deliver the Order in one delivery within <delDueDateDays> days to the Buyer at its warehouse\n",
      "- General: The Seller shall deliver the Order in one delivery [DELIVERY_TIMEFRAME] to the Buyer [DELIVERY_LOCATION]\n",
      "- Template: delivery: O(seller, buyer, true, Happens(delivered))\n"
     ]
    }
   ],
   "source": [
    "from app.templates.meat_sale.deltas import meat_sale_deltas as deltas\n",
    "\n",
    "s1 = deltas[0]\n",
    "original_sentence = s1['original']\n",
    "template_sentence = s1['general']\n",
    "symboleo_template = s1['template'] \n",
    "\n",
    "print(f'- Original: {original_sentence}')\n",
    "print(f'- General: {template_sentence}')\n",
    "print(f'- Template: {symboleo_template}')"
   ]
  },
  {
   "cell_type": "code",
   "execution_count": 5,
   "metadata": {},
   "outputs": [],
   "source": [
    "from app.classes.spec.helpers import VariableDotExpression\n",
    "from app.classes.spec.sym_event import VariableEvent, ContractEvent\n",
    "from app.classes.spec.sym_point import PointFunction, PointExpression, PointAtomContractEvent, PointAtomParameterDotExpression\n",
    "from app.classes.spec.predicate_function import PredicateFunctionHappens, PredicateFunctionWHappensBefore, PredicateFunctionHappensAfter\n",
    "from app.classes.spec.helpers import TimeUnitStr, TimeValueInt\n",
    "\n",
    "\n",
    "# The template should come from the deltas file. Store the obj, not the string\n",
    "delivered = {\n",
    "    'name': 'delivered'\n",
    "}\n",
    "delivered_vde = VariableDotExpression(delivered['name'])\n",
    "delivered_event = VariableEvent(delivered_vde)\n",
    "template = PredicateFunctionHappens(delivered_event)\n"
   ]
  },
  {
   "cell_type": "code",
   "execution_count": 6,
   "metadata": {},
   "outputs": [],
   "source": [
    "from app.classes.spec.symboleo_spec import PAtom\n",
    "from app.src.graph.graph_builder import GraphBuilder\n",
    "from app.src.graph.graph_visualizer import GraphVisualizer\n",
    "from app.src.dynamic_constructor import DynamicObjectConstructor\n",
    "from app.src.rules.meat_sale.delivery_timeframe.matchers import get_matcher\n",
    "\n",
    "graph_builder = GraphBuilder()\n",
    "graph_visualizer = GraphVisualizer()\n",
    "\n",
    "digraph = graph_builder.build(PAtom)\n",
    "\n",
    "gv = graph_visualizer.create_viz(digraph.nodes)\n",
    "gv.show('nx.html')\n",
    "\n",
    "dynamic_constructor = DynamicObjectConstructor(digraph)\n",
    "\n",
    "matcher = get_matcher(nlp)"
   ]
  },
  {
   "cell_type": "code",
   "execution_count": 15,
   "metadata": {},
   "outputs": [
    {
     "name": "stdout",
     "output_type": "stream",
     "text": [
      "\n",
      "Sentence: after the third monday in april\n",
      "\n",
      "i     TEXT            POS             TAG             DEP             LEMMA           HEAD            ENT            \n",
      "--------------------------------------------------------------------------------------------------------------\n",
      "0     after           ADP             IN              ROOT            after           after                          \n",
      "1     the             DET             DT              det             the             monday                         \n",
      "2     third           ADJ             JJ              amod            third           monday          ORDINAL        \n",
      "3     monday          NOUN            NN              pobj            monday          after                          \n",
      "4     in              ADP             IN              prep            in              monday                         \n",
      "5     april           PROPN           NN              pobj            april           in              DATE           \n",
      "\n",
      "\n",
      "\n",
      "            PP                      \n",
      "   _________|_____                   \n",
      "  |               NP                \n",
      "  |          _____|_________         \n",
      "  |         |               PP      \n",
      "  |         |            ___|____    \n",
      "  |         NP          |        NP \n",
      "  |     ____|_____      |        |   \n",
      "  IN   DT   JJ    NN    IN       NN \n",
      "  |    |    |     |     |        |   \n",
      "after the third monday  in     april\n",
      "\n",
      "\n",
      "\n",
      "\n"
     ]
    },
    {
     "data": {
      "text/html": [
       "<span class=\"tex2jax_ignore\"><svg xmlns=\"http://www.w3.org/2000/svg\" xmlns:xlink=\"http://www.w3.org/1999/xlink\" xml:lang=\"en\" id=\"e942f0e804954c7a8e492444a1b64bde-0\" class=\"displacy\" width=\"1100\" height=\"399.5\" direction=\"ltr\" style=\"max-width: none; height: 399.5px; color: #000000; background: #ffffff; font-family: Arial; direction: ltr\">\n",
       "<text class=\"displacy-token\" fill=\"currentColor\" text-anchor=\"middle\" y=\"309.5\">\n",
       "    <tspan class=\"displacy-word\" fill=\"currentColor\" x=\"50\">after</tspan>\n",
       "    <tspan class=\"displacy-tag\" dy=\"2em\" fill=\"currentColor\" x=\"50\">ADP</tspan>\n",
       "</text>\n",
       "\n",
       "<text class=\"displacy-token\" fill=\"currentColor\" text-anchor=\"middle\" y=\"309.5\">\n",
       "    <tspan class=\"displacy-word\" fill=\"currentColor\" x=\"225\">the</tspan>\n",
       "    <tspan class=\"displacy-tag\" dy=\"2em\" fill=\"currentColor\" x=\"225\">DET</tspan>\n",
       "</text>\n",
       "\n",
       "<text class=\"displacy-token\" fill=\"currentColor\" text-anchor=\"middle\" y=\"309.5\">\n",
       "    <tspan class=\"displacy-word\" fill=\"currentColor\" x=\"400\">third</tspan>\n",
       "    <tspan class=\"displacy-tag\" dy=\"2em\" fill=\"currentColor\" x=\"400\">ADJ</tspan>\n",
       "</text>\n",
       "\n",
       "<text class=\"displacy-token\" fill=\"currentColor\" text-anchor=\"middle\" y=\"309.5\">\n",
       "    <tspan class=\"displacy-word\" fill=\"currentColor\" x=\"575\">monday</tspan>\n",
       "    <tspan class=\"displacy-tag\" dy=\"2em\" fill=\"currentColor\" x=\"575\">NOUN</tspan>\n",
       "</text>\n",
       "\n",
       "<text class=\"displacy-token\" fill=\"currentColor\" text-anchor=\"middle\" y=\"309.5\">\n",
       "    <tspan class=\"displacy-word\" fill=\"currentColor\" x=\"750\">in</tspan>\n",
       "    <tspan class=\"displacy-tag\" dy=\"2em\" fill=\"currentColor\" x=\"750\">ADP</tspan>\n",
       "</text>\n",
       "\n",
       "<text class=\"displacy-token\" fill=\"currentColor\" text-anchor=\"middle\" y=\"309.5\">\n",
       "    <tspan class=\"displacy-word\" fill=\"currentColor\" x=\"925\">april</tspan>\n",
       "    <tspan class=\"displacy-tag\" dy=\"2em\" fill=\"currentColor\" x=\"925\">PROPN</tspan>\n",
       "</text>\n",
       "\n",
       "<g class=\"displacy-arrow\">\n",
       "    <path class=\"displacy-arc\" id=\"arrow-e942f0e804954c7a8e492444a1b64bde-0-0\" stroke-width=\"2px\" d=\"M245,264.5 C245,89.5 570.0,89.5 570.0,264.5\" fill=\"none\" stroke=\"currentColor\"/>\n",
       "    <text dy=\"1.25em\" style=\"font-size: 0.8em; letter-spacing: 1px\">\n",
       "        <textPath xlink:href=\"#arrow-e942f0e804954c7a8e492444a1b64bde-0-0\" class=\"displacy-label\" startOffset=\"50%\" side=\"left\" fill=\"currentColor\" text-anchor=\"middle\">det</textPath>\n",
       "    </text>\n",
       "    <path class=\"displacy-arrowhead\" d=\"M245,266.5 L237,254.5 253,254.5\" fill=\"currentColor\"/>\n",
       "</g>\n",
       "\n",
       "<g class=\"displacy-arrow\">\n",
       "    <path class=\"displacy-arc\" id=\"arrow-e942f0e804954c7a8e492444a1b64bde-0-1\" stroke-width=\"2px\" d=\"M420,264.5 C420,177.0 565.0,177.0 565.0,264.5\" fill=\"none\" stroke=\"currentColor\"/>\n",
       "    <text dy=\"1.25em\" style=\"font-size: 0.8em; letter-spacing: 1px\">\n",
       "        <textPath xlink:href=\"#arrow-e942f0e804954c7a8e492444a1b64bde-0-1\" class=\"displacy-label\" startOffset=\"50%\" side=\"left\" fill=\"currentColor\" text-anchor=\"middle\">amod</textPath>\n",
       "    </text>\n",
       "    <path class=\"displacy-arrowhead\" d=\"M420,266.5 L412,254.5 428,254.5\" fill=\"currentColor\"/>\n",
       "</g>\n",
       "\n",
       "<g class=\"displacy-arrow\">\n",
       "    <path class=\"displacy-arc\" id=\"arrow-e942f0e804954c7a8e492444a1b64bde-0-2\" stroke-width=\"2px\" d=\"M70,264.5 C70,2.0 575.0,2.0 575.0,264.5\" fill=\"none\" stroke=\"currentColor\"/>\n",
       "    <text dy=\"1.25em\" style=\"font-size: 0.8em; letter-spacing: 1px\">\n",
       "        <textPath xlink:href=\"#arrow-e942f0e804954c7a8e492444a1b64bde-0-2\" class=\"displacy-label\" startOffset=\"50%\" side=\"left\" fill=\"currentColor\" text-anchor=\"middle\">pobj</textPath>\n",
       "    </text>\n",
       "    <path class=\"displacy-arrowhead\" d=\"M575.0,266.5 L583.0,254.5 567.0,254.5\" fill=\"currentColor\"/>\n",
       "</g>\n",
       "\n",
       "<g class=\"displacy-arrow\">\n",
       "    <path class=\"displacy-arc\" id=\"arrow-e942f0e804954c7a8e492444a1b64bde-0-3\" stroke-width=\"2px\" d=\"M595,264.5 C595,177.0 740.0,177.0 740.0,264.5\" fill=\"none\" stroke=\"currentColor\"/>\n",
       "    <text dy=\"1.25em\" style=\"font-size: 0.8em; letter-spacing: 1px\">\n",
       "        <textPath xlink:href=\"#arrow-e942f0e804954c7a8e492444a1b64bde-0-3\" class=\"displacy-label\" startOffset=\"50%\" side=\"left\" fill=\"currentColor\" text-anchor=\"middle\">prep</textPath>\n",
       "    </text>\n",
       "    <path class=\"displacy-arrowhead\" d=\"M740.0,266.5 L748.0,254.5 732.0,254.5\" fill=\"currentColor\"/>\n",
       "</g>\n",
       "\n",
       "<g class=\"displacy-arrow\">\n",
       "    <path class=\"displacy-arc\" id=\"arrow-e942f0e804954c7a8e492444a1b64bde-0-4\" stroke-width=\"2px\" d=\"M770,264.5 C770,177.0 915.0,177.0 915.0,264.5\" fill=\"none\" stroke=\"currentColor\"/>\n",
       "    <text dy=\"1.25em\" style=\"font-size: 0.8em; letter-spacing: 1px\">\n",
       "        <textPath xlink:href=\"#arrow-e942f0e804954c7a8e492444a1b64bde-0-4\" class=\"displacy-label\" startOffset=\"50%\" side=\"left\" fill=\"currentColor\" text-anchor=\"middle\">pobj</textPath>\n",
       "    </text>\n",
       "    <path class=\"displacy-arrowhead\" d=\"M915.0,266.5 L923.0,254.5 907.0,254.5\" fill=\"currentColor\"/>\n",
       "</g>\n",
       "</svg></span>"
      ],
      "text/plain": [
       "<IPython.core.display.HTML object>"
      ]
     },
     "metadata": {},
     "output_type": "display_data"
    }
   ],
   "source": [
    "#sentence = 'within 2 weeks'\n",
    "sentence = 'after the third monday in april'\n",
    "doc = nlp(sentence)\n",
    "summarizer.summarize(sentence)"
   ]
  },
  {
   "cell_type": "code",
   "execution_count": 16,
   "metadata": {},
   "outputs": [
    {
     "name": "stdout",
     "output_type": "stream",
     "text": [
      "matches:\n",
      "case matches: {}\n",
      "primitices:\n",
      "- <class 'app.classes.spec.sym_point.PointAtomContractEvent'> activated(self)\n",
      "Original: Happens(delivered)\n"
     ]
    },
    {
     "ename": "IndexError",
     "evalue": "list index out of range",
     "output_type": "error",
     "traceback": [
      "\u001b[1;31m---------------------------------------------------------------------------\u001b[0m",
      "\u001b[1;31mIndexError\u001b[0m                                Traceback (most recent call last)",
      "\u001b[1;32m~\\AppData\\Local\\Temp/ipykernel_32176/1305442158.py\u001b[0m in \u001b[0;36m<module>\u001b[1;34m\u001b[0m\n\u001b[0;32m      6\u001b[0m \u001b[1;33m\u001b[0m\u001b[0m\n\u001b[0;32m      7\u001b[0m \u001b[0mprint\u001b[0m\u001b[1;33m(\u001b[0m\u001b[1;34mf'Original: {template.to_sym()}'\u001b[0m\u001b[1;33m)\u001b[0m\u001b[1;33m\u001b[0m\u001b[1;33m\u001b[0m\u001b[0m\n\u001b[1;32m----> 8\u001b[1;33m \u001b[0mprint\u001b[0m\u001b[1;33m(\u001b[0m\u001b[1;34mf'New: {results[0].to_sym()}'\u001b[0m\u001b[1;33m)\u001b[0m\u001b[1;33m\u001b[0m\u001b[1;33m\u001b[0m\u001b[0m\n\u001b[0m",
      "\u001b[1;31mIndexError\u001b[0m: list index out of range"
     ]
    }
   ],
   "source": [
    "from app.src.rules.meat_sale.delivery_timeframe.delivery_timeframe_processor import DeliveryTimeframeProcessor\n",
    "\n",
    "dtf = DeliveryTimeframeProcessor(template, matcher, nlp, dynamic_constructor)\n",
    "\n",
    "results = dtf.process(doc)\n",
    "\n",
    "print(f'Original: {template.to_sym()}')\n",
    "print(f'New: {results[0].to_sym()}')"
   ]
  },
  {
   "cell_type": "code",
   "execution_count": null,
   "metadata": {},
   "outputs": [],
   "source": []
  }
 ],
 "metadata": {
  "kernelspec": {
   "display_name": "Python 3.9.7 ('base')",
   "language": "python",
   "name": "python3"
  },
  "language_info": {
   "codemirror_mode": {
    "name": "ipython",
    "version": 3
   },
   "file_extension": ".py",
   "mimetype": "text/x-python",
   "name": "python",
   "nbconvert_exporter": "python",
   "pygments_lexer": "ipython3",
   "version": "3.9.7"
  },
  "orig_nbformat": 4,
  "vscode": {
   "interpreter": {
    "hash": "5e1573d6c84447af34afea73405281252e0fe9e7aa5b16df75ea480bceab155a"
   }
  }
 },
 "nbformat": 4,
 "nbformat_minor": 2
}
